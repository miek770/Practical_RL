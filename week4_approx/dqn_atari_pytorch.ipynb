{
 "cells": [
  {
   "cell_type": "markdown",
   "metadata": {
    "colab_type": "text",
    "id": "Hk-xJTj3c8_a"
   },
   "source": [
    "# Deep Q-Network implementation.\n",
    "\n",
    "This homework shamelessly demands you to implement a DQN - an approximate q-learning algorithm with experience replay and target networks - and see if it works any better this way.\n",
    "\n",
    "Original paper:\n",
    "https://arxiv.org/pdf/1312.5602.pdf"
   ]
  },
  {
   "cell_type": "code",
   "execution_count": 1,
   "metadata": {
    "colab": {},
    "colab_type": "code",
    "id": "nojgo6n2c8_b"
   },
   "outputs": [],
   "source": [
    "import sys\n",
    "import os"
   ]
  },
  {
   "cell_type": "markdown",
   "metadata": {
    "colab_type": "text",
    "id": "L0u0WhFtc8_m"
   },
   "source": [
    "__Frameworks__ - we'll accept this homework in any deep learning framework. This particular notebook was designed for pytoch, but you find it easy to adapt it to almost any python-based deep learning framework."
   ]
  },
  {
   "cell_type": "code",
   "execution_count": 2,
   "metadata": {
    "colab": {},
    "colab_type": "code",
    "id": "NwXy4BuMc8_o"
   },
   "outputs": [],
   "source": [
    "import random\n",
    "import numpy as np\n",
    "import torch\n",
    "import utils"
   ]
  },
  {
   "cell_type": "code",
   "execution_count": 3,
   "metadata": {
    "colab": {},
    "colab_type": "code",
    "id": "mzl65gH4c8_s"
   },
   "outputs": [],
   "source": [
    "import gym\n",
    "import numpy as np\n",
    "import matplotlib.pyplot as plt\n",
    "import matplotlib.image as mpimg\n",
    "%matplotlib inline"
   ]
  },
  {
   "cell_type": "markdown",
   "metadata": {
    "colab_type": "text",
    "id": "4oLXRNZic8_v"
   },
   "source": [
    "### Let's play some old videogames\n",
    "![img](https://github.com/yandexdataschool/Practical_RL/raw/master/yet_another_week/_resource/nerd.png)\n",
    "\n",
    "This time we're gonna apply approximate q-learning to an atari game called Breakout. It's not the hardest thing out there, but it's definitely way more complex than anything we tried before.\n"
   ]
  },
  {
   "cell_type": "code",
   "execution_count": 4,
   "metadata": {
    "colab": {},
    "colab_type": "code",
    "id": "tw8oqO16c8_x"
   },
   "outputs": [],
   "source": [
    "ENV_NAME = \"BreakoutNoFrameskip-v4\""
   ]
  },
  {
   "cell_type": "markdown",
   "metadata": {
    "colab_type": "text",
    "id": "AyydWnuac8_2"
   },
   "source": [
    "## Preprocessing"
   ]
  },
  {
   "cell_type": "markdown",
   "metadata": {
    "colab_type": "text",
    "id": "-vnJrD77c8_3"
   },
   "source": [
    "Let's see what observations look like."
   ]
  },
  {
   "cell_type": "code",
   "execution_count": 5,
   "metadata": {
    "colab": {
     "base_uri": "https://localhost:8080/",
     "height": 520
    },
    "colab_type": "code",
    "id": "OOXJxpHOc8_4",
    "outputId": "9b377cef-43e2-4dc6-e600-4d7f108392ae"
   },
   "outputs": [
    {
     "data": {
      "image/png": "[encoded data removed]",
      "text/plain": [
       "<Figure size 1152x648 with 10 Axes>"
      ]
     },
     "metadata": {
      "needs_background": "light"
     },
     "output_type": "display_data"
    }
   ],
   "source": [
    "env = gym.make(ENV_NAME)\n",
    "env.reset()\n",
    "\n",
    "n_cols = 5\n",
    "n_rows = 2\n",
    "fig = plt.figure(figsize=(16, 9))\n",
    "\n",
    "for row in range(n_rows):\n",
    "    for col in range(n_cols):\n",
    "        ax = fig.add_subplot(n_rows, n_cols, row * n_cols + col + 1)\n",
    "        ax.imshow(env.render('rgb_array'))\n",
    "        env.step(env.action_space.sample())\n",
    "plt.show()"
   ]
  },
  {
   "cell_type": "markdown",
   "metadata": {
    "colab_type": "text",
    "id": "romqgXjpc8_-"
   },
   "source": [
    "**Let's play a little.**\n",
    "\n",
    "Pay attention to zoom and fps args of play function. Control: A, D, space."
   ]
  },
  {
   "cell_type": "raw",
   "metadata": {
    "colab": {},
    "colab_type": "code",
    "id": "-nzfy7Sdc8__"
   },
   "source": [
    "# does not work in colab.\n",
    "# make keyboard interrupt to continue\n",
    "\n",
    "from gym.utils.play import play\n",
    "\n",
    "play(env=gym.make(ENV_NAME), zoom=5, fps=30)"
   ]
  },
  {
   "cell_type": "markdown",
   "metadata": {
    "colab_type": "text",
    "id": "5Uz3Zogic9AG"
   },
   "source": [
    "### Processing game image \n",
    "\n",
    "Raw atari images are large, 210x160x3 by default. However, we don't need that level of detail in order to learn them.\n",
    "\n",
    "We can thus save a lot of time by preprocessing game image, including\n",
    "* Resizing to a smaller shape, 64 x 64\n",
    "* Converting to grayscale\n",
    "* Cropping irrelevant image parts (top, bottom and edges)\n",
    "\n",
    "Also please keep one dimension for channel so that final shape would be 1 x 64 x 64.\n",
    "\n",
    "Tip: You can implement your own grayscale converter and assign a huge weight to the red channel. This dirty trick is not necessary but it will speed up learning."
   ]
  },
  {
   "cell_type": "code",
   "execution_count": 6,
   "metadata": {
    "colab": {},
    "colab_type": "code",
    "id": "6S5kNDIBc9AH"
   },
   "outputs": [],
   "source": [
    "from gym.core import ObservationWrapper\n",
    "from gym.spaces import Box\n",
    "from scipy import interpolate\n",
    "from skimage.transform import resize\n",
    "from skimage.color import rgb2gray"
   ]
  },
  {
   "cell_type": "code",
   "execution_count": 7,
   "metadata": {
    "colab": {},
    "colab_type": "code",
    "id": "6S5kNDIBc9AH"
   },
   "outputs": [],
   "source": [
    "class PreprocessAtariObs(ObservationWrapper):\n",
    "    def __init__(self, env):\n",
    "        \"\"\"A gym wrapper that crops, scales image into the desired shapes and grayscales it.\"\"\"\n",
    "        ObservationWrapper.__init__(self, env)\n",
    "\n",
    "        self.img_size = (1, 64, 64)\n",
    "        self.observation_space = Box(0.0, 1.0, self.img_size)\n",
    "\n",
    "\n",
    "    @staticmethod\n",
    "    def _to_gray_scale(rgb, channel_weights=[0.8, 0.1, 0.1]):\n",
    "        \"\"\"Convert color bitmap to grayscale using custom weights.\n",
    "        Grayscale is normalized between 0 and 1.\n",
    "        Source: https://stackoverflow.com/questions/12201577/how-can-i-convert-an-rgb-image-into-grayscale-in-python\"\"\"\n",
    "        return np.dot(rgb[...,:3], channel_weights)\n",
    "\n",
    "\n",
    "    def observation(self, img):\n",
    "        \"\"\"What happens to each observation.\n",
    "        Input (img) is: 210 x 160 x 3 (Y x X x RGB)\n",
    "        Desired image is instead: 64 x 64 (Y x X)\n",
    "        \"\"\"\n",
    "        # print(f\"Taille de l'image : {len(img)} x {len(img[0])} x {len(img[0][0])}\")\n",
    "        img = img[25:195, 0:160, :]\n",
    "        # print(f\"Taille de l'image : {len(img)} x {len(img[0])} x {len(img[0][0])}\")\n",
    "        # img = resize(img, (64, 64, 3))\n",
    "        img = resize(img, (64, 64))\n",
    "        # print(f\"Taille de l'image : {len(img)} x {len(img[0])} x {len(img[0][0])}\")\n",
    "        # img = rgb2gray(img)\n",
    "        img = self._to_gray_scale(img)\n",
    "        # print(f\"Taille de l'image : {len(img)} x {len(img[0])}\")\n",
    "        img = img[np.newaxis, ...].astype(\"float32\")\n",
    "        # print(f\"Taille de l'image : {len(img)} x {len(img[0])} x {len(img[0][0])}\")\n",
    "\n",
    "        return img"
   ]
  },
  {
   "cell_type": "code",
   "execution_count": 8,
   "metadata": {
    "colab": {
     "base_uri": "https://localhost:8080/",
     "height": 238
    },
    "colab_type": "code",
    "id": "gV-Hxt4zvPmU",
    "outputId": "2fb5dcea-6d0c-4902-c9a5-7abffe680fe0"
   },
   "outputs": [
    {
     "data": {
      "text/plain": [
       "array([[[0.5568628 , 0.5568628 , 0.5568628 , ..., 0.5568628 ,\n",
       "         0.5568628 , 0.5568628 ],\n",
       "        [0.5568628 , 0.5568628 , 0.55496323, ..., 0.55496323,\n",
       "         0.5568628 , 0.5568628 ],\n",
       "        [0.5568628 , 0.5568628 , 0.55252755, ..., 0.55252755,\n",
       "         0.5568628 , 0.5568628 ],\n",
       "        ...,\n",
       "        [0.5015625 , 0.5015625 , 0.49378064, ..., 0.5754197 ,\n",
       "         0.5847181 , 0.5847181 ],\n",
       "        [0.32264706, 0.32264706, 0.3154902 , ..., 0.668076  ,\n",
       "         0.6796446 , 0.6796446 ],\n",
       "        [0.32      , 0.32      , 0.31284314, ..., 0.67235297,\n",
       "         0.6839216 , 0.6839216 ]]], dtype=float32)"
      ]
     },
     "execution_count": 8,
     "metadata": {},
     "output_type": "execute_result"
    }
   ],
   "source": [
    "import gym\n",
    "# spawn game instance for tests\n",
    "env = gym.make(ENV_NAME)  # create raw env\n",
    "env = PreprocessAtariObs(env)\n",
    "observation_shape = env.observation_space.shape\n",
    "n_actions = env.action_space.n\n",
    "env.reset()"
   ]
  },
  {
   "cell_type": "code",
   "execution_count": 9,
   "metadata": {
    "colab": {
     "base_uri": "https://localhost:8080/",
     "height": 488
    },
    "colab_type": "code",
    "id": "dlG_DnjBc9AK",
    "outputId": "51f5cb59-ca53-4a29-d55c-25d31114fd4f"
   },
   "outputs": [
    {
     "name": "stdout",
     "output_type": "stream",
     "text": [
      "Formal tests seem fine. Here's an example of what you'll get.\n"
     ]
    },
    {
     "data": {
      "image/png": "[encoded data removed]",
      "text/plain": [
       "<Figure size 1152x648 with 10 Axes>"
      ]
     },
     "metadata": {
      "needs_background": "light"
     },
     "output_type": "display_data"
    }
   ],
   "source": [
    "obs, _, _, _ = env.step(env.action_space.sample())\n",
    "\n",
    "# test observation\n",
    "assert obs.ndim == 3, \"observation must be [channel, h, w] even if there's just one channel\"\n",
    "assert obs.shape == observation_shape\n",
    "assert obs.dtype == 'float32'\n",
    "assert len(np.unique(obs)) > 2, \"your image must not be binary\"\n",
    "assert 0 <= np.min(obs) and np.max(\n",
    "    obs) <= 1, \"convert image pixels to [0,1] range\"\n",
    "\n",
    "assert np.max(obs) >= 0.5, \"It would be easier to see a brighter observation\"\n",
    "assert np.mean(obs) >= 0.1, \"It would be easier to see a brighter observation\"\n",
    "\n",
    "print(\"Formal tests seem fine. Here's an example of what you'll get.\")\n",
    "\n",
    "n_cols = 5\n",
    "n_rows = 2\n",
    "fig = plt.figure(figsize=(16, 9))\n",
    "obs = env.reset()\n",
    "for row in range(n_rows):\n",
    "    for col in range(n_cols):\n",
    "        ax = fig.add_subplot(n_rows, n_cols, row * n_cols + col + 1)\n",
    "        ax.imshow(obs[0, :, :], interpolation='none', cmap='gray')\n",
    "        obs, _, _, _ = env.step(env.action_space.sample())\n",
    "plt.show()\n"
   ]
  },
  {
   "cell_type": "markdown",
   "metadata": {
    "colab_type": "text",
    "id": "O48TsUmFc9AN"
   },
   "source": [
    "### Wrapping."
   ]
  },
  {
   "cell_type": "markdown",
   "metadata": {
    "colab_type": "text",
    "id": "g0_mDd4hc9AN"
   },
   "source": [
    "**About the game:** You have 5 lives and get points for breaking the wall. Higher bricks cost more than the lower ones. There are 4 actions: start game (should be called at the beginning and after each life is lost), move left, move right and do nothing. There are some common wrappers used for Atari environments."
   ]
  },
  {
   "cell_type": "code",
   "execution_count": 10,
   "metadata": {
    "colab": {},
    "colab_type": "code",
    "id": "Z8IFiezzc9AO"
   },
   "outputs": [],
   "source": [
    "%load_ext autoreload\n",
    "%autoreload 2\n",
    "import atari_wrappers\n",
    "\n",
    "def PrimaryAtariWrap(env, clip_rewards=True):\n",
    "    assert 'NoFrameskip' in env.spec.id\n",
    "\n",
    "    # This wrapper holds the same action for <skip> frames and outputs\n",
    "    # the maximal pixel value of 2 last frames (to handle blinking\n",
    "    # in some envs)\n",
    "    env = atari_wrappers.MaxAndSkipEnv(env, skip=4)\n",
    "\n",
    "    # This wrapper sends done=True when each life is lost\n",
    "    # (not all the 5 lives that are given by the game rules).\n",
    "    # It should make easier for the agent to understand that losing is bad.\n",
    "    env = atari_wrappers.EpisodicLifeEnv(env)\n",
    "\n",
    "    # This wrapper laucnhes the ball when an episode starts.\n",
    "    # Without it the agent has to learn this action, too.\n",
    "    # Actually it can but learning would take longer.\n",
    "    env = atari_wrappers.FireResetEnv(env)\n",
    "\n",
    "    # This wrapper transforms rewards to {-1, 0, 1} according to their sign\n",
    "    if clip_rewards:\n",
    "        env = atari_wrappers.ClipRewardEnv(env)\n",
    "\n",
    "    # This wrapper is yours :)\n",
    "    env = PreprocessAtariObs(env)\n",
    "    return env"
   ]
  },
  {
   "cell_type": "markdown",
   "metadata": {
    "colab_type": "text",
    "id": "ykRBEvk7c9AV"
   },
   "source": [
    "**Let's see if the game is still playable after applying the wrappers.**\n",
    "At playing the EpisodicLifeEnv wrapper seems not to work but actually it does (because after when life finishes a new ball is dropped automatically - it means that FireResetEnv wrapper understands that a new episode began)."
   ]
  },
  {
   "cell_type": "raw",
   "metadata": {
    "colab": {},
    "colab_type": "code",
    "id": "XsLh9R41c9AW"
   },
   "source": [
    "# # does not work in colab.\n",
    "# # make keyboard interrupt to continue\n",
    "\n",
    "from gym.utils.play import play\n",
    "\n",
    "def make_play_env():\n",
    "    env = gym.make(ENV_NAME)\n",
    "    env = PrimaryAtariWrap(env)\n",
    "# in torch imgs have shape [c, h, w] instead of common [h, w, c]\n",
    "    env = atari_wrappers.AntiTorchWrapper(env)\n",
    "    return env\n",
    "\n",
    "play(make_play_env(), zoom=5, fps=3)"
   ]
  },
  {
   "cell_type": "markdown",
   "metadata": {
    "colab_type": "text",
    "id": "hrkvzWPyc9Af"
   },
   "source": [
    "### Frame buffer\n",
    "\n",
    "Our agent can only process one observation at a time, so we gotta make sure it contains enough information to find optimal actions. For instance, agent has to react to moving objects so he must be able to measure object's velocity.\n",
    "\n",
    "To do so, we introduce a buffer that stores 4 last images. This time everything is pre-implemented for you, not really by the staff of the course :)"
   ]
  },
  {
   "cell_type": "code",
   "execution_count": 11,
   "metadata": {
    "colab": {},
    "colab_type": "code",
    "id": "SL-zXfZkc9Af"
   },
   "outputs": [],
   "source": [
    "from framebuffer import FrameBuffer\n",
    "\n",
    "def make_env(clip_rewards=True, seed=None):\n",
    "    env = gym.make(ENV_NAME)  # create raw env\n",
    "    if seed is not None:\n",
    "        env.seed(seed)\n",
    "    env = PrimaryAtariWrap(env, clip_rewards)\n",
    "    env = FrameBuffer(env, n_frames=4, dim_order='pytorch')\n",
    "    return env\n",
    "\n",
    "env = make_env()\n",
    "env.reset()\n",
    "n_actions = env.action_space.n\n",
    "state_shape = env.observation_space.shape"
   ]
  },
  {
   "cell_type": "code",
   "execution_count": 12,
   "metadata": {
    "colab": {
     "base_uri": "https://localhost:8080/",
     "height": 1000
    },
    "colab_type": "code",
    "id": "gk51vjerc9Aj",
    "outputId": "e0a850df-42a1-4a2e-cba8-02dea4f014fe"
   },
   "outputs": [
    {
     "data": {
      "image/png": "[encoded data removed]",
      "text/plain": [
       "<Figure size 864x720 with 1 Axes>"
      ]
     },
     "metadata": {
      "needs_background": "light"
     },
     "output_type": "display_data"
    },
    {
     "data": {
      "image/png": "[encoded data removed]",
      "text/plain": [
       "<Figure size 1080x1080 with 1 Axes>"
      ]
     },
     "metadata": {
      "needs_background": "light"
     },
     "output_type": "display_data"
    }
   ],
   "source": [
    "for _ in range(12):\n",
    "    obs, _, _, _ = env.step(env.action_space.sample())\n",
    "\n",
    "plt.figure(figsize=[12,10])\n",
    "plt.title(\"Game image\")\n",
    "plt.imshow(env.render(\"rgb_array\"))\n",
    "plt.show()\n",
    "\n",
    "plt.figure(figsize=[15,15])\n",
    "plt.title(\"Agent observation (4 frames top to bottom)\")\n",
    "plt.imshow(utils.img_by_obs(obs, state_shape), cmap='gray')\n",
    "plt.show()"
   ]
  },
  {
   "cell_type": "markdown",
   "metadata": {
    "colab_type": "text",
    "id": "vVpC5Raec9Al"
   },
   "source": [
    "## DQN as it is\n"
   ]
  },
  {
   "cell_type": "markdown",
   "metadata": {
    "colab_type": "text",
    "id": "CvPa9C71c9Al"
   },
   "source": [
    "### Building a network\n",
    "\n",
    "We now need to build a neural network that can map images to state q-values. This network will be called on every agent's step so it better not be resnet-152 unless you have an array of GPUs. Instead, you can use strided convolutions with a small number of features to save time and memory.\n",
    "\n",
    "You can build any architecture you want, but for reference, here's something that will more or less work:"
   ]
  },
  {
   "cell_type": "markdown",
   "metadata": {
    "colab_type": "text",
    "id": "26A2x84jc9Al"
   },
   "source": [
    "![img](https://github.com/yandexdataschool/Practical_RL/raw/master/yet_another_week/_resource/dqn_arch.png)"
   ]
  },
  {
   "cell_type": "raw",
   "metadata": {
    "colab": {
     "base_uri": "https://localhost:8080/",
     "height": 34
    },
    "colab_type": "code",
    "id": "i5X-5QHMc9Am",
    "outputId": "46df0fa3-5975-44aa-e7db-7aca043d89df"
   },
   "source": [
    "import torch\n",
    "import torch.nn as nn\n",
    "device = torch.device('cuda' if torch.cuda.is_available() else 'cpu')\n",
    "# those who have a GPU but feel unfair to use it can uncomment:\n",
    "# device = torch.device('cpu')\n",
    "device"
   ]
  },
  {
   "cell_type": "code",
   "execution_count": 13,
   "metadata": {
    "colab": {
     "base_uri": "https://localhost:8080/",
     "height": 34
    },
    "colab_type": "code",
    "id": "i5X-5QHMc9Am",
    "outputId": "46df0fa3-5975-44aa-e7db-7aca043d89df"
   },
   "outputs": [
    {
     "data": {
      "text/plain": [
       "device(type='cpu')"
      ]
     },
     "execution_count": 13,
     "metadata": {},
     "output_type": "execute_result"
    }
   ],
   "source": [
    "import torch\n",
    "import torch.nn as nn\n",
    "device = torch.device('cpu')\n",
    "# those who have a GPU but feel unfair to use it can uncomment:\n",
    "# device = torch.device('cpu')\n",
    "device"
   ]
  },
  {
   "cell_type": "code",
   "execution_count": 14,
   "metadata": {
    "colab": {},
    "colab_type": "code",
    "id": "wNbZi0KTc9Aq"
   },
   "outputs": [],
   "source": [
    "class DQNAgent(nn.Module):\n",
    "    def __init__(self, state_shape, n_actions, epsilon=0):\n",
    "\n",
    "        super().__init__()\n",
    "        self.epsilon = epsilon\n",
    "        self.n_actions = n_actions\n",
    "        self.state_shape = state_shape\n",
    "\n",
    "        convw = self._conv2d_size_out(self._conv2d_size_out(self._conv2d_size_out(64)))\n",
    "        convh = self._conv2d_size_out(self._conv2d_size_out(self._conv2d_size_out(64)))\n",
    "        linear_input_size = convw * convh * 64\n",
    "        \n",
    "        # Define your network body here. Please make sure agent is fully contained here\n",
    "        # nn.Flatten() can be useful\n",
    "        self.nn = nn.Sequential(\n",
    "            # nn.Conv2d(in_channels=4, out_channels=16, kernel_size=(3, 3), stride=2, groups=4),\n",
    "            nn.Conv2d(in_channels=4, out_channels=16, kernel_size=3, stride=2),\n",
    "            nn.ReLU(),\n",
    "            nn.Conv2d(in_channels=16, out_channels=32, kernel_size=3, stride=2),\n",
    "            nn.ReLU(),\n",
    "            nn.Conv2d(in_channels=32, out_channels=64, kernel_size=3, stride=2),\n",
    "            nn.ReLU(),\n",
    "            nn.Flatten(),\n",
    "            # nn.Linear(3136, 1024),\n",
    "            # nn.Linear(1024, 256),\n",
    "            # nn.Linear(256, 64),\n",
    "            # nn.Linear(64, self.n_actions),\n",
    "            nn.Linear(linear_input_size, 256),\n",
    "            nn.ReLU(),\n",
    "            nn.Linear(256, self.n_actions),\n",
    "            # nn.ReLU(),\n",
    "        )\n",
    "\n",
    "    \n",
    "    @staticmethod\n",
    "    def _conv2d_size_out(size, kernel_size=3, stride=2):\n",
    "        \"\"\"\n",
    "        common use case:\n",
    "        cur_layer_img_w = conv2d_size_out(cur_layer_img_w, kernel_size, stride)\n",
    "        cur_layer_img_h = conv2d_size_out(cur_layer_img_h, kernel_size, stride)\n",
    "        to understand the shape for dense layer's input\n",
    "        \"\"\"\n",
    "        return (size - (kernel_size - 1) - 1) // stride  + 1\n",
    "\n",
    "\n",
    "    def forward(self, state_t):\n",
    "        \"\"\"\n",
    "        takes agent's observation (tensor), returns qvalues (tensor)\n",
    "        :param state_t: a batch of 4-frame buffers, shape = [batch_size, 4, h, w]\n",
    "        \"\"\"\n",
    "        # Use your network to compute qvalues for given state\n",
    "        # qvalues = self.nn(state_t).detach()\n",
    "        # qvalues = self.nn(state_t).detach().cpu().numpy()[0]\n",
    "        qvalues = self.nn(state_t)\n",
    "\n",
    "        assert qvalues.requires_grad, \"qvalues must be a torch tensor with grad\"\n",
    "        assert len(qvalues.shape) == 2 and qvalues.shape[0] == state_t.shape[0] and qvalues.shape[1] == n_actions\n",
    "\n",
    "        return qvalues\n",
    "\n",
    "    \n",
    "    def get_qvalues(self, states):\n",
    "        \"\"\"\n",
    "        like forward, but works on numpy arrays, not tensors\n",
    "        \"\"\"\n",
    "        model_device = next(self.parameters()).device\n",
    "        states = torch.tensor(states, device=model_device, dtype=torch.float)\n",
    "        qvalues = self.forward(states)\n",
    "        return qvalues.data.cpu().numpy()\n",
    "\n",
    "    \n",
    "    def sample_actions(self, qvalues):\n",
    "        \"\"\"pick actions given qvalues. Uses epsilon-greedy exploration strategy. \"\"\"\n",
    "        epsilon = self.epsilon\n",
    "        batch_size, n_actions = qvalues.shape\n",
    "\n",
    "        random_actions = np.random.choice(n_actions, size=batch_size)\n",
    "        best_actions = qvalues.argmax(axis=-1)\n",
    "\n",
    "        should_explore = np.random.choice(\n",
    "            [0, 1], batch_size, p=[1-epsilon, epsilon])\n",
    "        return np.where(should_explore, random_actions, best_actions)"
   ]
  },
  {
   "cell_type": "code",
   "execution_count": 15,
   "metadata": {
    "colab": {
     "base_uri": "https://localhost:8080/",
     "height": 119
    },
    "colab_type": "code",
    "id": "zJyV7RRGc9As",
    "outputId": "8a77c724-ffd3-4bf7-e103-280b9f2519e5"
   },
   "outputs": [],
   "source": [
    "agent = DQNAgent(state_shape, n_actions, epsilon=0.5).to(device)"
   ]
  },
  {
   "cell_type": "markdown",
   "metadata": {
    "colab_type": "text",
    "id": "ksfSoKnUc9Au"
   },
   "source": [
    "Now let's try out our agent to see if it raises any errors."
   ]
  },
  {
   "cell_type": "code",
   "execution_count": 16,
   "metadata": {
    "colab": {},
    "colab_type": "code",
    "id": "Gy5b43TAc9Au"
   },
   "outputs": [],
   "source": [
    "def evaluate(env, agent, n_games=1, greedy=False, t_max=10000):\n",
    "    \"\"\" Plays n_games full games. If greedy, picks actions as argmax(qvalues). Returns mean reward. \"\"\"\n",
    "    rewards = []\n",
    "    for _ in range(n_games):\n",
    "        s = env.reset()\n",
    "        reward = 0\n",
    "        for _ in range(t_max):\n",
    "            qvalues = agent.get_qvalues([s])\n",
    "            action = qvalues.argmax(axis=-1)[0] if greedy else agent.sample_actions(qvalues)[0]\n",
    "            s, r, done, _ = env.step(action)\n",
    "            reward += r\n",
    "            if done:\n",
    "                break\n",
    "\n",
    "        rewards.append(reward)\n",
    "    return np.mean(rewards)"
   ]
  },
  {
   "cell_type": "code",
   "execution_count": 17,
   "metadata": {
    "colab": {
     "base_uri": "https://localhost:8080/",
     "height": 901
    },
    "colab_type": "code",
    "id": "0dFWOCiCc9Aw",
    "outputId": "fa8cb26d-e305-4f64-a491-a6c129f5bce6"
   },
   "outputs": [
    {
     "data": {
      "text/plain": [
       "0.0"
      ]
     },
     "execution_count": 17,
     "metadata": {},
     "output_type": "execute_result"
    }
   ],
   "source": [
    "evaluate(env, agent, n_games=1)"
   ]
  },
  {
   "cell_type": "markdown",
   "metadata": {
    "colab_type": "text",
    "id": "KbUbTOluc9Ax"
   },
   "source": [
    "### Experience replay\n",
    "\n",
    "![img](https://github.com/yandexdataschool/Practical_RL/raw/master/yet_another_week/_resource/exp_replay.png)"
   ]
  },
  {
   "cell_type": "markdown",
   "metadata": {
    "colab_type": "text",
    "id": "_xQhoDSFc9Ay"
   },
   "source": [
    "#### The interface is fairly simple:\n",
    "* `exp_replay.add(obs, act, rw, next_obs, done)` - saves (s,a,r,s',done) tuple into the buffer\n",
    "* `exp_replay.sample(batch_size)` - returns observations, actions, rewards, next_observations and is_done for `batch_size` random samples.\n",
    "* `len(exp_replay)` - returns number of elements stored in replay buffer."
   ]
  },
  {
   "cell_type": "code",
   "execution_count": 18,
   "metadata": {
    "colab": {},
    "colab_type": "code",
    "id": "z2XeIu78c9Az"
   },
   "outputs": [],
   "source": [
    "from replay_buffer import ReplayBuffer\n",
    "exp_replay = ReplayBuffer(10)\n",
    "\n",
    "for _ in range(30):\n",
    "    exp_replay.add(env.reset(), env.action_space.sample(), 1.0, env.reset(), done=False)\n",
    "\n",
    "obs_batch, act_batch, reward_batch, next_obs_batch, is_done_batch = exp_replay.sample(5)\n",
    "\n",
    "assert len(exp_replay) == 10, \"experience replay size should be 10 because that's what maximum capacity is\""
   ]
  },
  {
   "cell_type": "code",
   "execution_count": 19,
   "metadata": {
    "colab": {},
    "colab_type": "code",
    "id": "awsQHS77c9A3"
   },
   "outputs": [],
   "source": [
    "def play_and_record(initial_state, agent, env, exp_replay, n_steps=1):\n",
    "    \"\"\"\n",
    "    Play the game for exactly n steps, record every (s,a,r,s', done) to replay buffer. \n",
    "    Whenever game ends, add record with done=True and reset the game.\n",
    "    It is guaranteed that env has done=False when passed to this function.\n",
    "\n",
    "    PLEASE DO NOT RESET ENV UNLESS IT IS \"DONE\"\n",
    "\n",
    "    :returns: return sum of rewards over time and the state in which the env stays\n",
    "    \"\"\"\n",
    "    s = initial_state\n",
    "    sum_rewards = 0\n",
    "\n",
    "    # Play the game for n_steps as per instructions above\n",
    "    for i in range(n_steps):\n",
    "        q = agent.get_qvalues([s])\n",
    "        a = agent.sample_actions(q)[0]\n",
    "        next_s, r, d, _ = env.step(a)\n",
    "        sum_rewards += r\n",
    "\n",
    "        exp_replay.add(\n",
    "            obs_t=s,\n",
    "            action=a,\n",
    "            reward=r,\n",
    "            obs_tp1=next_s,\n",
    "            done=d,\n",
    "        )\n",
    "        \n",
    "        # if i % 10 == 0:\n",
    "        #     print(f\"Step {i}: q={q}, a={a}, r={r}, d{d}, len(s)={len(s)}, len(s')={len(next_s)}\")\n",
    "\n",
    "        if d:\n",
    "            s = env.reset()\n",
    "        else:\n",
    "            s = next_s\n",
    "\n",
    "    return sum_rewards, s"
   ]
  },
  {
   "cell_type": "code",
   "execution_count": 20,
   "metadata": {
    "colab": {},
    "colab_type": "code",
    "id": "Ow8mfRzlc9A6"
   },
   "outputs": [
    {
     "name": "stdout",
     "output_type": "stream",
     "text": [
      "Well done!\n"
     ]
    }
   ],
   "source": [
    "# testing your code.\n",
    "exp_replay = ReplayBuffer(2000)\n",
    "\n",
    "state = env.reset()\n",
    "play_and_record(state, agent, env, exp_replay, n_steps=1000)\n",
    "\n",
    "# if you're using your own experience replay buffer, some of those tests may need correction.\n",
    "# just make sure you know what your code does\n",
    "assert len(exp_replay) == 1000, \"play_and_record should have added exactly 1000 steps, \"\\\n",
    "                                 \"but instead added %i\" % len(exp_replay)\n",
    "is_dones = list(zip(*exp_replay._storage))[-1]\n",
    "\n",
    "assert 0 < np.mean(is_dones) < 0.1, \"Please make sure you restart the game whenever it is 'done' and record the is_done correctly into the buffer.\"\\\n",
    "                                    \"Got %f is_done rate over %i steps. [If you think it's your tough luck, just re-run the test]\" % (\n",
    "                                        np.mean(is_dones), len(exp_replay))\n",
    "\n",
    "for _ in range(100):\n",
    "    obs_batch, act_batch, reward_batch, next_obs_batch, is_done_batch = exp_replay.sample(\n",
    "        10)\n",
    "    assert obs_batch.shape == next_obs_batch.shape == (10,) + state_shape\n",
    "    assert act_batch.shape == (\n",
    "        10,), \"actions batch should have shape (10,) but is instead %s\" % str(act_batch.shape)\n",
    "    assert reward_batch.shape == (\n",
    "        10,), \"rewards batch should have shape (10,) but is instead %s\" % str(reward_batch.shape)\n",
    "    assert is_done_batch.shape == (\n",
    "        10,), \"is_done batch should have shape (10,) but is instead %s\" % str(is_done_batch.shape)\n",
    "    assert [int(i) in (0, 1)\n",
    "            for i in is_dones], \"is_done should be strictly True or False\"\n",
    "    assert [\n",
    "        0 <= a < n_actions for a in act_batch], \"actions should be within [0, n_actions)\"\n",
    "\n",
    "print(\"Well done!\")"
   ]
  },
  {
   "cell_type": "markdown",
   "metadata": {
    "colab_type": "text",
    "id": "VEN4JldHc9A8"
   },
   "source": [
    "### Target networks\n",
    "\n",
    "We also employ the so called \"target network\" - a copy of neural network weights to be used for reference Q-values:\n",
    "\n",
    "The network itself is an exact copy of agent network, but it's parameters are not trained. Instead, they are moved here from agent's actual network every so often.\n",
    "\n",
    "$$ Q_{reference}(s,a) = r + \\gamma \\cdot \\max _{a'} Q_{target}(s',a') $$\n",
    "\n",
    "![img](https://github.com/yandexdataschool/Practical_RL/raw/master/yet_another_week/_resource/target_net.png)"
   ]
  },
  {
   "cell_type": "code",
   "execution_count": 21,
   "metadata": {
    "colab": {},
    "colab_type": "code",
    "id": "7yGI6gt0c9A9"
   },
   "outputs": [
    {
     "data": {
      "text/plain": [
       "<All keys matched successfully>"
      ]
     },
     "execution_count": 21,
     "metadata": {},
     "output_type": "execute_result"
    }
   ],
   "source": [
    "target_network = DQNAgent(agent.state_shape, agent.n_actions, epsilon=0.5).to(device)\n",
    "# This is how you can load weights from agent into target network\n",
    "target_network.load_state_dict(agent.state_dict())"
   ]
  },
  {
   "cell_type": "markdown",
   "metadata": {
    "colab_type": "text",
    "id": "EVNijt1dc9A_"
   },
   "source": [
    "### Learning with... Q-learning\n",
    "Here we write a function similar to `agent.update` from tabular q-learning."
   ]
  },
  {
   "cell_type": "markdown",
   "metadata": {
    "colab_type": "text",
    "id": "8F5MUrpjc9BA"
   },
   "source": [
    "Compute Q-learning TD error:\n",
    "\n",
    "$$ L = { 1 \\over N} \\sum_i [ Q_{\\theta}(s,a) - Q_{reference}(s,a) ] ^2 $$\n",
    "\n",
    "With Q-reference defined as\n",
    "\n",
    "$$ Q_{reference}(s,a) = r(s,a) + \\gamma \\cdot max_{a'} Q_{target}(s', a') $$\n",
    "\n",
    "Where\n",
    "* $Q_{target}(s',a')$ denotes q-value of next state and next action predicted by __target_network__\n",
    "* $s, a, r, s'$ are current state, action, reward and next state respectively\n",
    "* $\\gamma$ is a discount factor defined two cells above.\n",
    "\n",
    "\n",
    "__Note 1:__ there's an example input below. Feel free to experiment with it before you write the function.\n",
    "\n",
    "__Note 2:__ compute_td_loss is a source of 99% of bugs in this homework. If reward doesn't improve, it often helps to go through it line by line [with a rubber duck](https://rubberduckdebugging.com/)."
   ]
  },
  {
   "cell_type": "code",
   "execution_count": 22,
   "metadata": {
    "colab": {},
    "colab_type": "code",
    "id": "eeOKkdBWc9BA"
   },
   "outputs": [],
   "source": [
    "def compute_td_loss(states, actions, rewards, next_states, is_done,\n",
    "                    agent, target_network,\n",
    "                    gamma=0.99,\n",
    "                    check_shapes=False,\n",
    "                    device=device):\n",
    "    \"\"\" Compute td loss using torch operations only. Use the formulae above. \"\"\"\n",
    "    states = torch.tensor(states, device=device, dtype=torch.float)    # shape: [batch_size, *state_shape]\n",
    "\n",
    "    # for some torch reason should not make actions a tensor\n",
    "    actions = torch.tensor(actions, device=device, dtype=torch.long)    # shape: [batch_size]\n",
    "    rewards = torch.tensor(rewards, device=device, dtype=torch.float)  # shape: [batch_size]\n",
    "    # shape: [batch_size, *state_shape]\n",
    "    next_states = torch.tensor(next_states, device=device, dtype=torch.float)\n",
    "    is_done = torch.tensor(\n",
    "        is_done.astype('float32'),\n",
    "        device=device,\n",
    "        dtype=torch.float\n",
    "    )  # shape: [batch_size]\n",
    "    is_not_done = 1 - is_done\n",
    "\n",
    "    # get q-values for all actions in current states\n",
    "    # predicted_qvalues = torch.tensor(agent.get_qvalues(states), device=device, dtype=torch.float)\n",
    "    predicted_qvalues = agent(states)\n",
    "\n",
    "    # compute q-values for all actions in next states\n",
    "    # predicted_next_qvalues = torch.tensor(target_network.get_qvalues(next_states), device=device, dtype=torch.float)\n",
    "    predicted_next_qvalues = target_network(next_states)\n",
    "    \n",
    "    # select q-values for chosen actions\n",
    "    predicted_qvalues_for_actions = predicted_qvalues[range(len(actions)), actions]\n",
    "\n",
    "    #====================================================================================\n",
    "    # Source potentielle d'erreur, je ne suis vraiment pas sûr de cette formule.\n",
    "    #====================================================================================\n",
    "    # compute V*(next_states) using predicted next q-values\n",
    "    # next_state_values = <YOUR CODE>\n",
    "    next_state_values = predicted_next_qvalues.max(1)[0].detach()\n",
    "\n",
    "    assert next_state_values.dtype == torch.float32\n",
    "    assert next_state_values.dim() == 1 and next_state_values.shape[0] == states.shape[0], \"must predict one value per state\"\n",
    "\n",
    "    # compute \"target q-values\" for loss - it's what's inside square parentheses in the above formula.\n",
    "    # at the last state use the simplified formula: Q(s,a) = r(s,a) since s' doesn't exist\n",
    "    # you can multiply next state values by is_not_done to achieve this.\n",
    "    # target_qvalues_for_actions = <YOUR CODE>\n",
    "    # target_qvalues_for_actions = next_state_values.mul(gamma).add(rewards)\n",
    "    target_qvalues_for_actions = next_state_values.mul(gamma).mul(is_not_done).add(rewards)\n",
    "    # target_qvalues_for_actions = torch.where(is_done.type(torch.uint8), rewards, target_qvalues_for_actions)\n",
    "\n",
    "    # mean squared error loss to minimize\n",
    "    loss = torch.mean((predicted_qvalues_for_actions - target_qvalues_for_actions.detach()) ** 2)\n",
    "\n",
    "    if check_shapes:\n",
    "        assert predicted_next_qvalues.data.dim() == 2, \"make sure you predicted q-values for all actions in next state\"\n",
    "        assert next_state_values.data.dim() == 1, \"make sure you computed V(s') as maximum over just the actions axis and not all axes\"\n",
    "        assert target_qvalues_for_actions.data.dim() == 1, \"there's something wrong with target q-values, they must be a vector\"\n",
    "\n",
    "    return loss"
   ]
  },
  {
   "cell_type": "markdown",
   "metadata": {
    "colab_type": "text",
    "id": "q5Qniw_Lc9BF"
   },
   "source": [
    "Sanity checks"
   ]
  },
  {
   "cell_type": "code",
   "execution_count": 23,
   "metadata": {
    "colab": {},
    "colab_type": "code",
    "id": "-Xj7FSszc9BF"
   },
   "outputs": [],
   "source": [
    "obs_batch, act_batch, reward_batch, next_obs_batch, is_done_batch = exp_replay.sample(10)\n",
    "\n",
    "loss = compute_td_loss(obs_batch, act_batch, reward_batch, next_obs_batch, is_done_batch,\n",
    "                       agent, target_network,\n",
    "                       gamma=0.99, check_shapes=True)\n",
    "loss.backward()\n",
    "\n",
    "assert loss.requires_grad and tuple(loss.data.size()) == (\n",
    "    ), \"you must return scalar loss - mean over batch\"\n",
    "assert np.any(next(agent.parameters()).grad.data.cpu().numpy() !=\n",
    "              0), \"loss must be differentiable w.r.t. network weights\"\n",
    "assert np.all(next(target_network.parameters()).grad is None), \"target network should not have grads\""
   ]
  },
  {
   "cell_type": "markdown",
   "metadata": {
    "colab_type": "text",
    "id": "rvf5P9UTc9BH"
   },
   "source": [
    "## Main loop\n",
    "\n",
    "\n",
    "It's time to put everything together and see if it learns anything."
   ]
  },
  {
   "cell_type": "code",
   "execution_count": 24,
   "metadata": {
    "colab": {},
    "colab_type": "code",
    "id": "tpJWLOCIc9BI"
   },
   "outputs": [],
   "source": [
    "from tqdm import trange\n",
    "from IPython.display import clear_output\n",
    "import matplotlib.pyplot as plt"
   ]
  },
  {
   "cell_type": "code",
   "execution_count": 25,
   "metadata": {
    "colab": {},
    "colab_type": "code",
    "id": "vo5LAe7mc9BK"
   },
   "outputs": [
    {
     "data": {
      "text/plain": [
       "<torch._C.Generator at 0x7fe51d175430>"
      ]
     },
     "execution_count": 25,
     "metadata": {},
     "output_type": "execute_result"
    }
   ],
   "source": [
    "seed = 6465143\n",
    "random.seed(seed)\n",
    "np.random.seed(seed)\n",
    "torch.manual_seed(seed)"
   ]
  },
  {
   "cell_type": "code",
   "execution_count": 26,
   "metadata": {
    "colab": {},
    "colab_type": "code",
    "id": "WHIgYMYmc9BM"
   },
   "outputs": [
    {
     "data": {
      "text/plain": [
       "<All keys matched successfully>"
      ]
     },
     "execution_count": 26,
     "metadata": {},
     "output_type": "execute_result"
    }
   ],
   "source": [
    "env = make_env(seed)\n",
    "state_shape = env.observation_space.shape\n",
    "n_actions = env.action_space.n\n",
    "state = env.reset()\n",
    "\n",
    "agent = DQNAgent(state_shape, n_actions, epsilon=1).to(device)\n",
    "target_network = DQNAgent(state_shape, n_actions).to(device)\n",
    "target_network.load_state_dict(agent.state_dict())"
   ]
  },
  {
   "cell_type": "markdown",
   "metadata": {
    "colab_type": "text",
    "id": "xRJJ_Prpc9BO"
   },
   "source": [
    "Buffer of size $10^4$ fits into 5 Gb RAM.\n",
    "\n",
    "Larger sizes ($10^5$ and $10^6$ are common) can be used. It can improve the learning, but $10^4$ is quite enough. $10^2$ will probably fail learning."
   ]
  },
  {
   "cell_type": "code",
   "execution_count": 27,
   "metadata": {
    "colab": {},
    "colab_type": "code",
    "id": "reG1eKlpc9BO"
   },
   "outputs": [
    {
     "name": "stdout",
     "output_type": "stream",
     "text": [
      "10000\n"
     ]
    }
   ],
   "source": [
    "exp_replay = ReplayBuffer(10**4)\n",
    "for i in range(100):\n",
    "    # if not utils.is_enough_ram(min_available_gb=0.1):\n",
    "    #     print(\"\"\"\n",
    "    #         Less than 100 Mb RAM available. \n",
    "    #         Make sure the buffer size in not too huge.\n",
    "    #         Also check, maybe other processes consume RAM heavily.\n",
    "    #         \"\"\"\n",
    "    #          )\n",
    "    #     break\n",
    "    play_and_record(state, agent, env, exp_replay, n_steps=10**2)\n",
    "    if len(exp_replay) == 10**4:\n",
    "        break\n",
    "print(len(exp_replay))"
   ]
  },
  {
   "cell_type": "code",
   "execution_count": 28,
   "metadata": {
    "colab": {},
    "colab_type": "code",
    "id": "MzykiB5Ec9BR"
   },
   "outputs": [],
   "source": [
    "timesteps_per_epoch = 1\n",
    "batch_size = 16\n",
    "total_steps = 3 * 10**6\n",
    "decay_steps = 10**6\n",
    "\n",
    "opt = torch.optim.Adam(agent.parameters(), lr=1e-4)\n",
    "\n",
    "init_epsilon = 1\n",
    "final_epsilon = 0.1\n",
    "\n",
    "loss_freq = 50\n",
    "refresh_target_network_freq = 5000\n",
    "eval_freq = 5000\n",
    "\n",
    "max_grad_norm = 50\n",
    "\n",
    "n_lives = 5"
   ]
  },
  {
   "cell_type": "code",
   "execution_count": 29,
   "metadata": {
    "colab": {},
    "colab_type": "code",
    "id": "xSiyelw1c9BW"
   },
   "outputs": [],
   "source": [
    "mean_rw_history = []\n",
    "td_loss_history = []\n",
    "grad_norm_history = []\n",
    "initial_state_v_history = []\n",
    "step = 0"
   ]
  },
  {
   "cell_type": "code",
   "execution_count": 36,
   "metadata": {
    "colab": {},
    "colab_type": "code",
    "id": "3ySZl_2Rc9Ba"
   },
   "outputs": [],
   "source": [
    "state = env.reset()"
   ]
  },
  {
   "cell_type": "code",
   "execution_count": null,
   "metadata": {
    "colab": {},
    "colab_type": "code",
    "id": "3ySZl_2Rc9Ba"
   },
   "outputs": [
    {
     "name": "stdout",
     "output_type": "stream",
     "text": [
      "buffer size = 10000, epsilon = 0.67600\n"
     ]
    },
    {
     "data": {
      "image/png": "[encoded data removed]",
      "text/plain": [
       "<Figure size 1152x648 with 4 Axes>"
      ]
     },
     "metadata": {
      "needs_background": "light"
     },
     "output_type": "display_data"
    },
    {
     "name": "stderr",
     "output_type": "stream",
     "text": [
      "\n",
      "  1%|          | 18573/2658573 [22:33<5051:43:40,  6.89s/it]\u001b[A\n",
      "  1%|          | 18575/2658573 [22:34<3551:14:21,  4.84s/it]\u001b[A\n",
      "  1%|          | 18577/2658573 [22:34<2501:08:50,  3.41s/it]\u001b[A\n",
      "  1%|          | 18579/2658573 [22:34<1762:39:30,  2.40s/it]\u001b[A\n",
      "  1%|          | 18581/2658573 [22:34<1246:29:25,  1.70s/it]\u001b[A\n",
      "  1%|          | 18583/2658573 [22:34<884:55:58,  1.21s/it] \u001b[A\n",
      "  1%|          | 18585/2658573 [22:34<633:37:32,  1.16it/s]\u001b[A\n",
      "  1%|          | 18587/2658573 [22:34<455:10:02,  1.61it/s]\u001b[A\n",
      "  1%|          | 18589/2658573 [22:34<332:19:34,  2.21it/s]\u001b[A\n",
      "  1%|          | 18591/2658573 [22:35<245:40:17,  2.98it/s]\u001b[A\n",
      "  1%|          | 18593/2658573 [22:35<190:59:33,  3.84it/s]\u001b[A\n",
      "  1%|          | 18595/2658573 [22:35<149:11:49,  4.92it/s]\u001b[A\n",
      "  1%|          | 18597/2658573 [22:35<119:10:16,  6.15it/s]\u001b[A\n",
      "  1%|          | 18599/2658573 [22:35<95:26:29,  7.68it/s] \u001b[A\n",
      "  1%|          | 18601/2658573 [22:35<81:35:44,  8.99it/s]\u001b[A\n",
      "  1%|          | 18603/2658573 [22:35<71:56:29, 10.19it/s]\u001b[A\n",
      "  1%|          | 18605/2658573 [22:35<63:59:12, 11.46it/s]\u001b[A\n",
      "  1%|          | 18607/2658573 [22:36<57:31:10, 12.75it/s]\u001b[A\n",
      "  1%|          | 18609/2658573 [22:36<53:46:02, 13.64it/s]\u001b[A\n",
      "  1%|          | 18611/2658573 [22:36<51:02:38, 14.37it/s]\u001b[A\n",
      "  1%|          | 18613/2658573 [22:36<48:36:31, 15.09it/s]\u001b[A\n",
      "  1%|          | 18615/2658573 [22:36<46:40:49, 15.71it/s]\u001b[A\n",
      "  1%|          | 18617/2658573 [22:36<46:31:39, 15.76it/s]\u001b[A\n",
      "  1%|          | 18619/2658573 [22:36<50:07:24, 14.63it/s]\u001b[A\n",
      "  1%|          | 18621/2658573 [22:36<48:28:45, 15.13it/s]\u001b[A\n",
      "  1%|          | 18623/2658573 [22:37<47:21:24, 15.49it/s]\u001b[A\n",
      "  1%|          | 18625/2658573 [22:37<52:48:23, 13.89it/s]\u001b[A\n",
      "  1%|          | 18627/2658573 [22:37<57:25:49, 12.77it/s]\u001b[A\n",
      "  1%|          | 18629/2658573 [22:37<57:30:42, 12.75it/s]\u001b[A\n",
      "  1%|          | 18631/2658573 [22:37<61:33:07, 11.91it/s]\u001b[A\n",
      "  1%|          | 18633/2658573 [22:38<61:51:03, 11.86it/s]\u001b[A\n",
      "  1%|          | 18635/2658573 [22:38<61:45:21, 11.87it/s]\u001b[A\n",
      "  1%|          | 18637/2658573 [22:38<59:36:58, 12.30it/s]\u001b[A\n",
      "  1%|          | 18639/2658573 [22:38<56:52:10, 12.89it/s]\u001b[A\n",
      "  1%|          | 18641/2658573 [22:38<53:16:35, 13.76it/s]\u001b[A\n",
      "  1%|          | 18643/2658573 [22:38<54:01:29, 13.57it/s]\u001b[A\n",
      "  1%|          | 18645/2658573 [22:38<59:15:06, 12.38it/s]\u001b[A\n",
      "  1%|          | 18647/2658573 [22:39<57:16:08, 12.80it/s]\u001b[A\n",
      "  1%|          | 18649/2658573 [22:39<54:15:33, 13.51it/s]\u001b[A\n",
      "  1%|          | 18651/2658573 [22:39<53:33:55, 13.69it/s]\u001b[A\n",
      "  1%|          | 18653/2658573 [22:39<51:50:08, 14.15it/s]\u001b[A\n",
      "  1%|          | 18655/2658573 [22:39<51:53:27, 14.13it/s]\u001b[A\n",
      "  1%|          | 18657/2658573 [22:39<49:34:07, 14.79it/s]\u001b[A\n",
      "  1%|          | 18659/2658573 [22:39<47:46:00, 15.35it/s]\u001b[A\n",
      "  1%|          | 18661/2658573 [22:39<45:54:06, 15.98it/s]\u001b[A\n",
      "  1%|          | 18663/2658573 [22:40<47:38:31, 15.39it/s]\u001b[A\n",
      "  1%|          | 18665/2658573 [22:40<46:20:06, 15.83it/s]\u001b[A\n",
      "  1%|          | 18667/2658573 [22:40<44:24:59, 16.51it/s]\u001b[A\n",
      "  1%|          | 18669/2658573 [22:40<43:19:04, 16.93it/s]\u001b[A\n",
      "  1%|          | 18671/2658573 [22:40<42:50:03, 17.12it/s]\u001b[A\n",
      "  1%|          | 18673/2658573 [22:40<45:20:30, 16.17it/s]\u001b[A\n",
      "  1%|          | 18675/2658573 [22:40<46:38:20, 15.72it/s]\u001b[A\n",
      "  1%|          | 18677/2658573 [22:40<43:43:52, 16.77it/s]\u001b[A\n",
      "  1%|          | 18679/2658573 [22:41<42:05:32, 17.42it/s]\u001b[A\n",
      "  1%|          | 18681/2658573 [22:41<40:39:03, 18.04it/s]\u001b[A\n",
      "  1%|          | 18684/2658573 [22:41<38:43:55, 18.93it/s]\u001b[A\n",
      "  1%|          | 18686/2658573 [22:41<38:54:36, 18.85it/s]\u001b[A\n",
      "  1%|          | 18688/2658573 [22:41<38:49:10, 18.89it/s]\u001b[A\n",
      "  1%|          | 18690/2658573 [22:41<38:51:03, 18.87it/s]\u001b[A\n",
      "  1%|          | 18692/2658573 [22:41<39:00:08, 18.80it/s]\u001b[A\n",
      "  1%|          | 18694/2658573 [22:41<39:14:41, 18.69it/s]\u001b[A\n",
      "  1%|          | 18696/2658573 [22:41<39:07:14, 18.74it/s]\u001b[A\n",
      "  1%|          | 18698/2658573 [22:42<39:00:51, 18.80it/s]\u001b[A\n",
      "  1%|          | 18700/2658573 [22:42<38:59:29, 18.81it/s]\u001b[A\n",
      "  1%|          | 18702/2658573 [22:42<39:17:13, 18.67it/s]\u001b[A\n",
      "  1%|          | 18704/2658573 [22:42<40:17:48, 18.20it/s]\u001b[A\n",
      "  1%|          | 18706/2658573 [22:42<40:07:36, 18.27it/s]\u001b[A\n",
      "  1%|          | 18708/2658573 [22:42<40:50:13, 17.96it/s]\u001b[A\n",
      "  1%|          | 18710/2658573 [22:42<41:55:13, 17.49it/s]\u001b[A\n",
      "  1%|          | 18712/2658573 [22:42<42:33:07, 17.23it/s]\u001b[A\n",
      "  1%|          | 18714/2658573 [22:42<42:36:16, 17.21it/s]\u001b[A\n",
      "  1%|          | 18716/2658573 [22:43<43:29:20, 16.86it/s]\u001b[A\n",
      "  1%|          | 18718/2658573 [22:43<44:22:34, 16.52it/s]\u001b[A\n",
      "  1%|          | 18720/2658573 [22:43<44:08:52, 16.61it/s]\u001b[A\n",
      "  1%|          | 18722/2658573 [22:43<43:25:08, 16.89it/s]\u001b[A\n",
      "  1%|          | 18724/2658573 [22:43<43:13:40, 16.96it/s]\u001b[A\n",
      "  1%|          | 18726/2658573 [22:43<43:58:40, 16.67it/s]\u001b[A\n",
      "  1%|          | 18728/2658573 [22:43<48:09:52, 15.22it/s]\u001b[A\n",
      "  1%|          | 18730/2658573 [22:43<47:31:39, 15.43it/s]\u001b[A\n",
      "  1%|          | 18732/2658573 [22:44<48:29:19, 15.12it/s]\u001b[A\n",
      "  1%|          | 18734/2658573 [22:44<49:24:53, 14.84it/s]\u001b[A\n",
      "  1%|          | 18736/2658573 [22:44<53:51:38, 13.61it/s]\u001b[A\n",
      "  1%|          | 18738/2658573 [22:44<52:10:57, 14.05it/s]\u001b[A\n",
      "  1%|          | 18740/2658573 [22:44<49:16:20, 14.88it/s]\u001b[A\n",
      "  1%|          | 18742/2658573 [22:44<48:14:53, 15.20it/s]\u001b[A\n",
      "  1%|          | 18744/2658573 [22:44<45:21:27, 16.17it/s]\u001b[A\n",
      "  1%|          | 18746/2658573 [22:45<45:36:13, 16.08it/s]\u001b[A\n",
      "  1%|          | 18748/2658573 [22:45<42:56:25, 17.08it/s]\u001b[A\n",
      "  1%|          | 18750/2658573 [22:45<43:06:15, 17.01it/s]\u001b[A\n",
      "  1%|          | 18752/2658573 [22:45<42:27:25, 17.27it/s]\u001b[A\n",
      "  1%|          | 18754/2658573 [22:45<41:24:07, 17.71it/s]\u001b[A\n",
      "  1%|          | 18756/2658573 [22:45<40:08:28, 18.27it/s]\u001b[A\n",
      "  1%|          | 18758/2658573 [22:45<44:22:57, 16.52it/s]\u001b[A\n",
      "  1%|          | 18760/2658573 [22:45<47:21:54, 15.48it/s]\u001b[A\n",
      "  1%|          | 18762/2658573 [22:45<48:15:52, 15.19it/s]\u001b[A\n",
      "  1%|          | 18764/2658573 [22:46<47:23:40, 15.47it/s]\u001b[A\n",
      "  1%|          | 18766/2658573 [22:46<47:45:10, 15.36it/s]\u001b[A\n",
      "  1%|          | 18768/2658573 [22:46<48:34:27, 15.10it/s]\u001b[A\n",
      "  1%|          | 18770/2658573 [22:46<45:46:35, 16.02it/s]\u001b[A\n",
      "  1%|          | 18772/2658573 [22:46<50:15:53, 14.59it/s]\u001b[A\n",
      "  1%|          | 18774/2658573 [22:46<47:56:47, 15.29it/s]\u001b[A\n",
      "  1%|          | 18776/2658573 [22:46<50:11:16, 14.61it/s]\u001b[A\n",
      "  1%|          | 18778/2658573 [22:47<47:11:58, 15.54it/s]\u001b[A\n",
      "  1%|          | 18780/2658573 [22:47<48:10:56, 15.22it/s]\u001b[A\n",
      "  1%|          | 18782/2658573 [22:47<47:45:42, 15.35it/s]\u001b[A\n",
      "  1%|          | 18784/2658573 [22:47<50:18:05, 14.58it/s]\u001b[A\n",
      "  1%|          | 18786/2658573 [22:47<56:35:39, 12.96it/s]\u001b[A\n",
      "  1%|          | 18788/2658573 [22:47<55:05:09, 13.31it/s]\u001b[A\n",
      "  1%|          | 18790/2658573 [22:47<58:32:16, 12.53it/s]\u001b[A\n",
      "  1%|          | 18792/2658573 [22:48<63:26:13, 11.56it/s]\u001b[A\n",
      "  1%|          | 18794/2658573 [22:48<61:30:04, 11.92it/s]\u001b[A\n",
      "  1%|          | 18796/2658573 [22:48<57:32:29, 12.74it/s]\u001b[A\n",
      "  1%|          | 18798/2658573 [22:48<58:01:21, 12.64it/s]\u001b[A\n",
      "  1%|          | 18800/2658573 [22:48<59:52:45, 12.25it/s]\u001b[A\n",
      "  1%|          | 18802/2658573 [22:48<62:37:49, 11.71it/s]\u001b[A\n",
      "  1%|          | 18804/2658573 [22:49<67:07:34, 10.92it/s]\u001b[A\n",
      "  1%|          | 18806/2658573 [22:49<65:08:03, 11.26it/s]\u001b[A\n",
      "  1%|          | 18808/2658573 [22:49<63:17:07, 11.59it/s]\u001b[A\n",
      "  1%|          | 18810/2658573 [22:49<64:58:06, 11.29it/s]\u001b[A\n",
      "  1%|          | 18812/2658573 [22:49<76:38:55,  9.57it/s]\u001b[A\n",
      "  1%|          | 18814/2658573 [22:50<71:29:02, 10.26it/s]\u001b[A\n",
      "  1%|          | 18816/2658573 [22:50<62:39:48, 11.70it/s]\u001b[A\n",
      "  1%|          | 18818/2658573 [22:50<67:51:28, 10.81it/s]\u001b[A\n",
      "  1%|          | 18820/2658573 [22:50<63:12:21, 11.60it/s]\u001b[A\n",
      "  1%|          | 18822/2658573 [22:50<64:25:59, 11.38it/s]\u001b[A\n",
      "  1%|          | 18824/2658573 [22:51<68:02:29, 10.78it/s]\u001b[A\n",
      "  1%|          | 18826/2658573 [22:51<67:56:31, 10.79it/s]\u001b[A\n",
      "  1%|          | 18828/2658573 [22:51<66:59:51, 10.94it/s]\u001b[A\n",
      "  1%|          | 18830/2658573 [22:51<61:59:55, 11.83it/s]\u001b[A\n",
      "  1%|          | 18832/2658573 [22:51<57:27:38, 12.76it/s]\u001b[A\n",
      "  1%|          | 18834/2658573 [22:51<56:48:37, 12.91it/s]\u001b[A\n",
      "  1%|          | 18836/2658573 [22:51<53:30:36, 13.70it/s]\u001b[A\n",
      "  1%|          | 18838/2658573 [22:52<51:42:04, 14.18it/s]\u001b[A\n",
      "  1%|          | 18840/2658573 [22:52<50:03:17, 14.65it/s]\u001b[A\n",
      "  1%|          | 18842/2658573 [22:52<47:41:17, 15.38it/s]\u001b[A\n",
      "  1%|          | 18844/2658573 [22:52<47:22:25, 15.48it/s]\u001b[A\n",
      "  1%|          | 18846/2658573 [22:52<52:07:52, 14.07it/s]\u001b[A\n",
      "  1%|          | 18848/2658573 [22:52<57:02:59, 12.85it/s]\u001b[A\n",
      "  1%|          | 18850/2658573 [22:52<57:24:44, 12.77it/s]\u001b[A\n",
      "  1%|          | 18852/2658573 [22:53<60:24:56, 12.14it/s]\u001b[A\n",
      "  1%|          | 18854/2658573 [22:53<63:42:11, 11.51it/s]\u001b[A\n",
      "  1%|          | 18856/2658573 [22:53<63:20:25, 11.58it/s]\u001b[A\n",
      "  1%|          | 18858/2658573 [22:53<65:40:11, 11.17it/s]\u001b[A\n",
      "  1%|          | 18860/2658573 [22:53<63:35:46, 11.53it/s]\u001b[A\n",
      "  1%|          | 18862/2658573 [22:54<63:55:49, 11.47it/s]\u001b[A\n",
      "  1%|          | 18864/2658573 [22:54<63:46:35, 11.50it/s]\u001b[A\n",
      "  1%|          | 18866/2658573 [22:54<69:16:59, 10.58it/s]\u001b[A\n",
      "  1%|          | 18868/2658573 [22:54<84:00:28,  8.73it/s]\u001b[A\n",
      "  1%|          | 18869/2658573 [22:54<83:36:25,  8.77it/s]\u001b[A\n",
      "  1%|          | 18870/2658573 [22:55<97:40:26,  7.51it/s]\u001b[A\n",
      "  1%|          | 18871/2658573 [22:55<93:10:53,  7.87it/s]\u001b[A\n",
      "  1%|          | 18873/2658573 [22:55<86:30:01,  8.48it/s]\u001b[A\n",
      "  1%|          | 18874/2658573 [22:55<91:13:20,  8.04it/s]\u001b[A\n",
      "  1%|          | 18875/2658573 [22:55<94:12:46,  7.78it/s]\u001b[A\n",
      "  1%|          | 18876/2658573 [22:55<99:34:30,  7.36it/s]\u001b[A\n",
      "  1%|          | 18877/2658573 [22:55<96:55:13,  7.57it/s]\u001b[A\n",
      "  1%|          | 18878/2658573 [22:56<96:11:41,  7.62it/s]\u001b[A\n",
      "  1%|          | 18880/2658573 [22:56<81:30:43,  9.00it/s]\u001b[A\n",
      "  1%|          | 18882/2658573 [22:56<71:16:29, 10.29it/s]\u001b[A\n",
      "  1%|          | 18884/2658573 [22:56<68:52:15, 10.65it/s]\u001b[A\n",
      "  1%|          | 18886/2658573 [22:56<68:45:32, 10.66it/s]\u001b[A\n",
      "  1%|          | 18888/2658573 [22:56<65:31:31, 11.19it/s]\u001b[A\n",
      "  1%|          | 18890/2658573 [22:56<64:43:00, 11.33it/s]\u001b[A\n",
      "  1%|          | 18892/2658573 [22:57<67:49:28, 10.81it/s]\u001b[A\n",
      "  1%|          | 18894/2658573 [22:57<68:42:30, 10.67it/s]\u001b[A\n",
      "  1%|          | 18896/2658573 [22:57<68:38:45, 10.68it/s]\u001b[A\n",
      "  1%|          | 18898/2658573 [22:57<70:49:06, 10.35it/s]\u001b[A\n",
      "  1%|          | 18900/2658573 [22:57<69:31:22, 10.55it/s]\u001b[A\n",
      "  1%|          | 18902/2658573 [22:58<65:41:27, 11.16it/s]\u001b[A\n",
      "  1%|          | 18904/2658573 [22:58<64:28:44, 11.37it/s]\u001b[A\n",
      "  1%|          | 18906/2658573 [22:58<64:49:01, 11.31it/s]\u001b[A\n",
      "  1%|          | 18908/2658573 [22:58<71:34:40, 10.24it/s]\u001b[A\n",
      "  1%|          | 18910/2658573 [22:58<73:35:25,  9.96it/s]\u001b[A\n",
      "  1%|          | 18912/2658573 [22:59<75:56:12,  9.66it/s]\u001b[A\n",
      "  1%|          | 18913/2658573 [22:59<81:56:15,  8.95it/s]\u001b[A\n",
      "  1%|          | 18914/2658573 [22:59<83:38:18,  8.77it/s]\u001b[A\n",
      "  1%|          | 18915/2658573 [22:59<88:38:05,  8.27it/s]\u001b[A\n",
      "  1%|          | 18917/2658573 [22:59<79:50:43,  9.18it/s]\u001b[A\n",
      "  1%|          | 18919/2658573 [22:59<74:14:56,  9.88it/s]\u001b[A\n",
      "  1%|          | 18921/2658573 [22:59<69:49:06, 10.50it/s]\u001b[A\n",
      "  1%|          | 18923/2658573 [23:00<65:42:32, 11.16it/s]\u001b[A\n",
      "  1%|          | 18925/2658573 [23:00<61:57:05, 11.84it/s]\u001b[A\n",
      "  1%|          | 18927/2658573 [23:00<59:29:27, 12.33it/s]\u001b[A\n",
      "  1%|          | 18929/2658573 [23:00<57:10:19, 12.83it/s]\u001b[A\n",
      "  1%|          | 18931/2658573 [23:00<59:33:07, 12.31it/s]\u001b[A\n",
      "  1%|          | 18933/2658573 [23:00<59:46:07, 12.27it/s]\u001b[A\n",
      "  1%|          | 18935/2658573 [23:01<56:36:47, 12.95it/s]\u001b[A\n",
      "  1%|          | 18937/2658573 [23:01<59:49:29, 12.26it/s]\u001b[A\n",
      "  1%|          | 18939/2658573 [23:01<55:29:33, 13.21it/s]\u001b[A\n",
      "  1%|          | 18941/2658573 [23:01<50:17:33, 14.58it/s]\u001b[A\n",
      "  1%|          | 18943/2658573 [23:01<46:24:37, 15.80it/s]\u001b[A\n",
      "  1%|          | 18945/2658573 [23:01<44:36:59, 16.43it/s]\u001b[A\n",
      "  1%|          | 18947/2658573 [23:01<43:38:30, 16.80it/s]\u001b[A\n",
      "  1%|          | 18950/2658573 [23:01<43:04:00, 17.03it/s]\u001b[A\n",
      "  1%|          | 18952/2658573 [23:02<41:27:08, 17.69it/s]\u001b[A\n",
      "  1%|          | 18954/2658573 [23:02<41:50:10, 17.53it/s]\u001b[A\n",
      "  1%|          | 18956/2658573 [23:02<42:38:27, 17.20it/s]\u001b[A\n",
      "  1%|          | 18958/2658573 [23:02<44:27:20, 16.49it/s]\u001b[A\n",
      "  1%|          | 18960/2658573 [23:02<45:06:35, 16.25it/s]\u001b[A\n",
      "  1%|          | 18962/2658573 [23:02<44:00:50, 16.66it/s]\u001b[A\n",
      "  1%|          | 18964/2658573 [23:02<45:14:09, 16.21it/s]\u001b[A\n",
      "  1%|          | 18966/2658573 [23:02<45:19:34, 16.18it/s]\u001b[A\n",
      "  1%|          | 18968/2658573 [23:03<46:07:04, 15.90it/s]\u001b[A\n",
      "  1%|          | 18970/2658573 [23:03<46:22:58, 15.81it/s]\u001b[A\n",
      "  1%|          | 18972/2658573 [23:03<53:11:41, 13.78it/s]\u001b[A\n",
      "  1%|          | 18974/2658573 [23:03<55:53:07, 13.12it/s]\u001b[A\n",
      "  1%|          | 18976/2658573 [23:03<53:42:07, 13.65it/s]\u001b[A\n",
      "  1%|          | 18978/2658573 [23:03<50:14:42, 14.59it/s]\u001b[A\n",
      "  1%|          | 18980/2658573 [23:03<47:49:48, 15.33it/s]\u001b[A\n",
      "  1%|          | 18982/2658573 [23:04<45:48:04, 16.01it/s]\u001b[A\n",
      "  1%|          | 18984/2658573 [23:04<51:40:04, 14.19it/s]\u001b[A\n",
      "  1%|          | 18986/2658573 [23:04<48:34:20, 15.10it/s]\u001b[A\n",
      "  1%|          | 18989/2658573 [23:04<44:23:57, 16.51it/s]\u001b[A\n",
      "  1%|          | 18991/2658573 [23:04<49:21:01, 14.86it/s]\u001b[A\n",
      "  1%|          | 18993/2658573 [23:04<46:34:42, 15.74it/s]\u001b[A\n",
      "  1%|          | 18995/2658573 [23:04<48:52:50, 15.00it/s]\u001b[A\n",
      "  1%|          | 18997/2658573 [23:05<54:14:57, 13.52it/s]\u001b[A\n",
      "  1%|          | 18999/2658573 [23:05<52:37:25, 13.93it/s]\u001b[A\n",
      "  1%|          | 19001/2658573 [23:05<49:42:03, 14.75it/s]\u001b[A\n",
      "  1%|          | 19003/2658573 [23:05<48:25:16, 15.14it/s]\u001b[A\n",
      "  1%|          | 19005/2658573 [23:05<46:59:26, 15.60it/s]\u001b[A\n",
      "  1%|          | 19007/2658573 [23:05<44:32:06, 16.46it/s]\u001b[A\n",
      "  1%|          | 19009/2658573 [23:05<42:29:02, 17.26it/s]\u001b[A\n",
      "  1%|          | 19011/2658573 [23:05<47:11:20, 15.54it/s]\u001b[A\n",
      "  1%|          | 19013/2658573 [23:06<52:29:40, 13.97it/s]\u001b[A\n",
      "  1%|          | 19015/2658573 [23:06<49:34:35, 14.79it/s]\u001b[A\n",
      "  1%|          | 19017/2658573 [23:06<48:30:44, 15.11it/s]\u001b[A\n",
      "  1%|          | 19019/2658573 [23:06<52:36:56, 13.94it/s]\u001b[A\n",
      "  1%|          | 19021/2658573 [23:06<50:19:54, 14.57it/s]\u001b[A\n",
      "  1%|          | 19023/2658573 [23:06<51:16:10, 14.30it/s]\u001b[A\n",
      "  1%|          | 19025/2658573 [23:06<59:26:10, 12.34it/s]\u001b[A\n",
      "  1%|          | 19027/2658573 [23:07<57:13:12, 12.81it/s]\u001b[A\n",
      "  1%|          | 19029/2658573 [23:07<53:33:53, 13.69it/s]\u001b[A\n",
      "  1%|          | 19031/2658573 [23:07<53:38:12, 13.67it/s]\u001b[A\n",
      "  1%|          | 19033/2658573 [23:07<66:49:41, 10.97it/s]\u001b[A\n",
      "  1%|          | 19035/2658573 [23:07<69:29:32, 10.55it/s]\u001b[A\n",
      "  1%|          | 19037/2658573 [23:08<66:31:07, 11.02it/s]\u001b[A\n",
      "  1%|          | 19039/2658573 [23:08<60:41:38, 12.08it/s]\u001b[A\n",
      "  1%|          | 19041/2658573 [23:08<57:52:06, 12.67it/s]\u001b[A\n",
      "  1%|          | 19043/2658573 [23:08<55:50:07, 13.13it/s]\u001b[A\n",
      "  1%|          | 19045/2658573 [23:08<56:03:31, 13.08it/s]\u001b[A\n",
      "  1%|          | 19047/2658573 [23:08<57:52:09, 12.67it/s]\u001b[A\n",
      "  1%|          | 19049/2658573 [23:08<54:13:05, 13.52it/s]\u001b[A\n",
      "  1%|          | 19051/2658573 [23:09<58:35:51, 12.51it/s]\u001b[A\n",
      "  1%|          | 19053/2658573 [23:09<64:46:18, 11.32it/s]\u001b[A\n",
      "  1%|          | 19055/2658573 [23:09<62:47:31, 11.68it/s]\u001b[A\n",
      "  1%|          | 19057/2658573 [23:09<61:47:12, 11.87it/s]\u001b[A\n",
      "  1%|          | 19059/2658573 [23:09<63:02:29, 11.63it/s]\u001b[A\n",
      "  1%|          | 19061/2658573 [23:09<58:25:39, 12.55it/s]\u001b[A\n",
      "  1%|          | 19063/2658573 [23:10<55:34:02, 13.19it/s]\u001b[A\n",
      "  1%|          | 19065/2658573 [23:10<52:14:57, 14.03it/s]\u001b[A\n",
      "  1%|          | 19067/2658573 [23:10<56:12:30, 13.04it/s]\u001b[A\n",
      "  1%|          | 19069/2658573 [23:10<56:01:08, 13.09it/s]\u001b[A\n",
      "  1%|          | 19071/2658573 [23:10<57:15:05, 12.81it/s]\u001b[A\n",
      "  1%|          | 19073/2658573 [23:10<55:55:21, 13.11it/s]\u001b[A\n",
      "  1%|          | 19075/2658573 [23:10<54:09:02, 13.54it/s]\u001b[A\n",
      "  1%|          | 19077/2658573 [23:11<55:32:19, 13.20it/s]\u001b[A\n",
      "  1%|          | 19079/2658573 [23:11<58:03:47, 12.63it/s]\u001b[A\n",
      "  1%|          | 19081/2658573 [23:11<54:17:35, 13.50it/s]\u001b[A\n",
      "  1%|          | 19083/2658573 [23:11<57:52:53, 12.67it/s]\u001b[A\n",
      "  1%|          | 19085/2658573 [23:11<54:58:15, 13.34it/s]\u001b[A\n",
      "  1%|          | 19087/2658573 [23:11<57:46:17, 12.69it/s]\u001b[A\n",
      "  1%|          | 19089/2658573 [23:11<51:54:58, 14.12it/s]\u001b[A\n",
      "  1%|          | 19091/2658573 [23:12<48:49:43, 15.02it/s]\u001b[A\n",
      "  1%|          | 19093/2658573 [23:12<48:35:08, 15.09it/s]\u001b[A\n",
      "  1%|          | 19095/2658573 [23:12<51:53:05, 14.13it/s]\u001b[A\n",
      "  1%|          | 19097/2658573 [23:12<51:32:54, 14.22it/s]\u001b[A\n",
      "  1%|          | 19099/2658573 [23:12<52:39:04, 13.93it/s]\u001b[A\n",
      "  1%|          | 19101/2658573 [23:12<62:26:26, 11.74it/s]\u001b[A\n",
      "  1%|          | 19103/2658573 [23:13<64:04:57, 11.44it/s]\u001b[A\n",
      "  1%|          | 19105/2658573 [23:13<65:18:31, 11.23it/s]\u001b[A\n",
      "  1%|          | 19107/2658573 [23:13<66:17:09, 11.06it/s]\u001b[A\n",
      "  1%|          | 19109/2658573 [23:13<69:50:21, 10.50it/s]\u001b[A\n",
      "  1%|          | 19111/2658573 [23:13<68:18:36, 10.73it/s]\u001b[A\n",
      "  1%|          | 19114/2658573 [23:14<61:14:42, 11.97it/s]\u001b[A\n",
      "  1%|          | 19116/2658573 [23:14<59:18:40, 12.36it/s]\u001b[A\n",
      "  1%|          | 19118/2658573 [23:14<56:47:10, 12.91it/s]\u001b[A\n",
      "  1%|          | 19120/2658573 [23:14<63:36:43, 11.53it/s]\u001b[A\n",
      "  1%|          | 19122/2658573 [23:14<57:31:05, 12.75it/s]\u001b[A\n",
      "  1%|          | 19124/2658573 [23:14<54:08:00, 13.54it/s]\u001b[A\n",
      "  1%|          | 19126/2658573 [23:14<57:03:11, 12.85it/s]\u001b[A\n",
      "  1%|          | 19128/2658573 [23:15<54:48:18, 13.38it/s]\u001b[A\n",
      "  1%|          | 19130/2658573 [23:15<51:16:36, 14.30it/s]\u001b[A\n",
      "  1%|          | 19133/2658573 [23:15<46:10:54, 15.88it/s]\u001b[A\n",
      "  1%|          | 19135/2658573 [23:15<49:23:38, 14.84it/s]\u001b[A\n",
      "  1%|          | 19137/2658573 [23:15<64:31:29, 11.36it/s]\u001b[A\n",
      "  1%|          | 19139/2658573 [23:16<69:06:46, 10.61it/s]\u001b[A\n",
      "  1%|          | 19141/2658573 [23:16<63:41:19, 11.51it/s]\u001b[A\n",
      "  1%|          | 19143/2658573 [23:16<59:09:44, 12.39it/s]\u001b[A\n",
      "  1%|          | 19145/2658573 [23:16<54:49:59, 13.37it/s]\u001b[A\n",
      "  1%|          | 19147/2658573 [23:16<53:30:17, 13.70it/s]\u001b[A\n",
      "  1%|          | 19149/2658573 [23:16<50:43:11, 14.46it/s]\u001b[A\n",
      "  1%|          | 19151/2658573 [23:16<49:07:10, 14.93it/s]\u001b[A\n",
      "  1%|          | 19153/2658573 [23:17<64:29:57, 11.37it/s]\u001b[A\n",
      "  1%|          | 19155/2658573 [23:17<63:06:48, 11.62it/s]\u001b[A\n",
      "  1%|          | 19158/2658573 [23:17<55:58:07, 13.10it/s]\u001b[A\n",
      "  1%|          | 19160/2658573 [23:17<54:36:55, 13.42it/s]\u001b[A\n",
      "  1%|          | 19162/2658573 [23:17<50:15:42, 14.59it/s]\u001b[A\n",
      "  1%|          | 19164/2658573 [23:17<48:38:45, 15.07it/s]\u001b[A\n",
      "  1%|          | 19166/2658573 [23:17<47:47:17, 15.34it/s]\u001b[A\n",
      "  1%|          | 19168/2658573 [23:17<44:57:43, 16.31it/s]\u001b[A\n",
      "  1%|          | 19170/2658573 [23:18<44:00:51, 16.66it/s]\u001b[A\n",
      "  1%|          | 19172/2658573 [23:18<53:24:11, 13.73it/s]\u001b[A\n",
      "  1%|          | 19174/2658573 [23:18<59:29:20, 12.32it/s]\u001b[A\n",
      "  1%|          | 19176/2658573 [23:18<58:45:46, 12.48it/s]\u001b[A\n",
      "  1%|          | 19178/2658573 [23:18<54:29:49, 13.45it/s]\u001b[A\n",
      "  1%|          | 19180/2658573 [23:18<49:47:38, 14.72it/s]\u001b[A\n",
      "  1%|          | 19182/2658573 [23:19<47:26:32, 15.45it/s]\u001b[A\n",
      "  1%|          | 19185/2658573 [23:19<43:52:41, 16.71it/s]\u001b[A\n",
      "  1%|          | 19187/2658573 [23:19<41:58:26, 17.47it/s]\u001b[A\n",
      "  1%|          | 19189/2658573 [23:19<40:25:48, 18.13it/s]\u001b[A\n",
      "  1%|          | 19191/2658573 [23:19<39:58:40, 18.34it/s]\u001b[A\n",
      "  1%|          | 19193/2658573 [23:19<39:06:58, 18.74it/s]\u001b[A\n",
      "  1%|          | 19196/2658573 [23:19<38:15:25, 19.16it/s]\u001b[A\n",
      "  1%|          | 19199/2658573 [23:19<37:52:24, 19.36it/s]\u001b[A\n",
      "  1%|          | 19201/2658573 [23:20<43:00:16, 17.05it/s]\u001b[A\n",
      "  1%|          | 19203/2658573 [23:20<42:14:54, 17.35it/s]\u001b[A\n",
      "  1%|          | 19205/2658573 [23:20<40:52:06, 17.94it/s]\u001b[A\n",
      "  1%|          | 19208/2658573 [23:20<40:57:23, 17.90it/s]\u001b[A\n",
      "  1%|          | 19210/2658573 [23:20<44:46:18, 16.38it/s]\u001b[A\n",
      "  1%|          | 19212/2658573 [23:20<45:57:04, 15.96it/s]\u001b[A\n",
      "  1%|          | 19214/2658573 [23:20<44:15:49, 16.56it/s]\u001b[A\n",
      "  1%|          | 19217/2658573 [23:20<41:37:17, 17.61it/s]\u001b[A\n",
      "  1%|          | 19220/2658573 [23:21<39:45:38, 18.44it/s]\u001b[A\n",
      "  1%|          | 19222/2658573 [23:21<44:40:56, 16.41it/s]\u001b[A\n",
      "  1%|          | 19224/2658573 [23:21<53:41:28, 13.65it/s]\u001b[A\n",
      "  1%|          | 19226/2658573 [23:21<52:42:00, 13.91it/s]\u001b[A\n",
      "  1%|          | 19228/2658573 [23:21<58:17:21, 12.58it/s]\u001b[A\n",
      "  1%|          | 19230/2658573 [23:21<62:39:55, 11.70it/s]\u001b[A\n",
      "  1%|          | 19232/2658573 [23:22<61:48:54, 11.86it/s]\u001b[A\n",
      "  1%|          | 19234/2658573 [23:22<58:08:18, 12.61it/s]\u001b[A\n",
      "  1%|          | 19236/2658573 [23:22<57:13:41, 12.81it/s]\u001b[A\n",
      "  1%|          | 19238/2658573 [23:22<60:43:59, 12.07it/s]\u001b[A\n",
      "  1%|          | 19240/2658573 [23:22<54:05:11, 13.56it/s]\u001b[A\n",
      "  1%|          | 19242/2658573 [23:22<50:23:24, 14.55it/s]\u001b[A\n",
      "  1%|          | 19244/2658573 [23:22<50:51:02, 14.42it/s]\u001b[A\n",
      "  1%|          | 19247/2658573 [23:23<45:43:08, 16.04it/s]\u001b[A\n",
      "  1%|          | 19249/2658573 [23:23<43:06:47, 17.01it/s]\u001b[A\n",
      "  1%|          | 19252/2658573 [23:23<40:35:23, 18.06it/s]\u001b[A\n",
      "  1%|          | 19254/2658573 [23:23<53:19:28, 13.75it/s]\u001b[A\n",
      "  1%|          | 19256/2658573 [23:23<53:33:22, 13.69it/s]\u001b[A\n",
      "  1%|          | 19258/2658573 [23:23<51:53:23, 14.13it/s]\u001b[A\n",
      "  1%|          | 19260/2658573 [23:23<50:30:47, 14.51it/s]\u001b[A\n",
      "  1%|          | 19262/2658573 [23:24<46:24:05, 15.80it/s]\u001b[A\n",
      "  1%|          | 19264/2658573 [23:24<46:41:49, 15.70it/s]\u001b[A\n",
      "  1%|          | 19266/2658573 [23:24<48:39:14, 15.07it/s]\u001b[A\n",
      "  1%|          | 19268/2658573 [23:24<47:04:41, 15.57it/s]\u001b[A\n",
      "  1%|          | 19270/2658573 [23:24<46:09:49, 15.88it/s]\u001b[A\n",
      "  1%|          | 19272/2658573 [23:24<45:33:30, 16.09it/s]\u001b[A\n",
      "  1%|          | 19274/2658573 [23:24<46:31:02, 15.76it/s]\u001b[A\n",
      "  1%|          | 19276/2658573 [23:25<51:21:01, 14.28it/s]\u001b[A\n",
      "  1%|          | 19278/2658573 [23:25<48:45:09, 15.04it/s]\u001b[A\n",
      "  1%|          | 19280/2658573 [23:25<48:38:58, 15.07it/s]\u001b[A\n",
      "  1%|          | 19282/2658573 [23:25<46:52:22, 15.64it/s]\u001b[A\n",
      "  1%|          | 19284/2658573 [23:25<55:00:28, 13.33it/s]\u001b[A\n",
      "  1%|          | 19286/2658573 [23:25<56:12:38, 13.04it/s]\u001b[A\n",
      "  1%|          | 19288/2658573 [23:25<51:35:55, 14.21it/s]\u001b[A\n",
      "  1%|          | 19290/2658573 [23:26<52:57:39, 13.84it/s]\u001b[A\n",
      "  1%|          | 19292/2658573 [23:26<51:39:09, 14.19it/s]\u001b[A\n",
      "  1%|          | 19294/2658573 [23:26<55:06:48, 13.30it/s]\u001b[A\n",
      "  1%|          | 19296/2658573 [23:26<62:55:08, 11.65it/s]\u001b[A\n",
      "  1%|          | 19298/2658573 [23:26<60:22:45, 12.14it/s]\u001b[A\n",
      "  1%|          | 19300/2658573 [23:26<56:46:54, 12.91it/s]\u001b[A\n",
      "  1%|          | 19302/2658573 [23:26<54:04:48, 13.56it/s]\u001b[A\n",
      "  1%|          | 19304/2658573 [23:27<52:19:30, 14.01it/s]\u001b[A\n",
      "  1%|          | 19306/2658573 [23:27<50:56:01, 14.39it/s]\u001b[A\n",
      "  1%|          | 19308/2658573 [23:27<50:29:33, 14.52it/s]\u001b[A\n",
      "  1%|          | 19310/2658573 [23:27<50:08:18, 14.62it/s]\u001b[A\n",
      "  1%|          | 19312/2658573 [23:27<57:07:07, 12.84it/s]\u001b[A\n",
      "  1%|          | 19314/2658573 [23:27<57:31:19, 12.75it/s]\u001b[A\n",
      "  1%|          | 19316/2658573 [23:27<54:40:52, 13.41it/s]\u001b[A\n",
      "  1%|          | 19318/2658573 [23:28<54:56:34, 13.34it/s]\u001b[A\n",
      "  1%|          | 19320/2658573 [23:28<54:16:03, 13.51it/s]\u001b[A\n",
      "  1%|          | 19322/2658573 [23:28<52:48:21, 13.88it/s]\u001b[A\n",
      "  1%|          | 19324/2658573 [23:28<51:10:30, 14.33it/s]\u001b[A\n",
      "  1%|          | 19326/2658573 [23:28<49:52:06, 14.70it/s]\u001b[A\n",
      "  1%|          | 19328/2658573 [23:28<48:02:46, 15.26it/s]\u001b[A\n",
      "  1%|          | 19330/2658573 [23:28<47:52:43, 15.31it/s]\u001b[A\n",
      "  1%|          | 19332/2658573 [23:29<47:45:09, 15.35it/s]\u001b[A\n",
      "  1%|          | 19334/2658573 [23:29<46:49:28, 15.66it/s]\u001b[A\n",
      "  1%|          | 19336/2658573 [23:29<47:11:30, 15.53it/s]\u001b[A\n",
      "  1%|          | 19338/2658573 [23:29<46:18:16, 15.83it/s]\u001b[A\n",
      "  1%|          | 19340/2658573 [23:29<46:02:32, 15.92it/s]\u001b[A\n",
      "  1%|          | 19342/2658573 [23:29<45:28:33, 16.12it/s]\u001b[A\n",
      "  1%|          | 19344/2658573 [23:29<49:37:40, 14.77it/s]\u001b[A\n",
      "  1%|          | 19346/2658573 [23:29<48:07:10, 15.24it/s]\u001b[A\n",
      "  1%|          | 19348/2658573 [23:30<47:54:03, 15.30it/s]\u001b[A\n",
      "  1%|          | 19350/2658573 [23:30<47:57:04, 15.29it/s]\u001b[A\n",
      "  1%|          | 19352/2658573 [23:30<48:26:20, 15.13it/s]\u001b[A\n",
      "  1%|          | 19354/2658573 [23:30<46:42:13, 15.70it/s]\u001b[A\n",
      "  1%|          | 19356/2658573 [23:30<48:33:23, 15.10it/s]\u001b[A\n",
      "  1%|          | 19358/2658573 [23:30<48:40:26, 15.06it/s]\u001b[A\n",
      "  1%|          | 19360/2658573 [23:30<51:06:38, 14.34it/s]\u001b[A\n",
      "  1%|          | 19362/2658573 [23:31<53:38:25, 13.67it/s]\u001b[A\n",
      "  1%|          | 19364/2658573 [23:31<54:45:13, 13.39it/s]\u001b[A\n",
      "  1%|          | 19366/2658573 [23:31<53:16:10, 13.76it/s]\u001b[A\n",
      "  1%|          | 19368/2658573 [23:31<54:50:15, 13.37it/s]\u001b[A\n",
      "  1%|          | 19370/2658573 [23:31<52:36:38, 13.93it/s]\u001b[A\n",
      "  1%|          | 19372/2658573 [23:31<52:22:46, 14.00it/s]\u001b[A\n",
      "  1%|          | 19374/2658573 [23:31<53:42:57, 13.65it/s]\u001b[A\n",
      "  1%|          | 19376/2658573 [23:32<51:33:02, 14.22it/s]\u001b[A\n",
      "  1%|          | 19378/2658573 [23:32<56:13:05, 13.04it/s]\u001b[A\n",
      "  1%|          | 19380/2658573 [23:32<66:12:36, 11.07it/s]\u001b[A\n",
      "  1%|          | 19382/2658573 [23:32<63:40:15, 11.51it/s]\u001b[A\n",
      "  1%|          | 19384/2658573 [23:32<63:11:30, 11.60it/s]\u001b[A\n",
      "  1%|          | 19386/2658573 [23:32<61:30:25, 11.92it/s]\u001b[A\n",
      "  1%|          | 19388/2658573 [23:33<59:42:30, 12.28it/s]\u001b[A\n",
      "  1%|          | 19390/2658573 [23:33<53:12:27, 13.78it/s]\u001b[A\n",
      "  1%|          | 19392/2658573 [23:33<48:38:43, 15.07it/s]\u001b[A\n",
      "  1%|          | 19394/2658573 [23:33<48:28:56, 15.12it/s]\u001b[A\n",
      "  1%|          | 19396/2658573 [23:33<54:19:19, 13.50it/s]\u001b[A\n",
      "  1%|          | 19398/2658573 [23:33<53:13:14, 13.77it/s]\u001b[A\n",
      "  1%|          | 19400/2658573 [23:33<50:54:34, 14.40it/s]\u001b[A\n",
      "  1%|          | 19402/2658573 [23:34<54:40:17, 13.41it/s]\u001b[A\n",
      "  1%|          | 19405/2658573 [23:34<49:38:17, 14.77it/s]\u001b[A\n",
      "  1%|          | 19407/2658573 [23:34<49:38:05, 14.77it/s]\u001b[A\n",
      "  1%|          | 19410/2658573 [23:34<45:23:00, 16.15it/s]\u001b[A\n",
      "  1%|          | 19413/2658573 [23:34<42:49:53, 17.12it/s]\u001b[A\n",
      "  1%|          | 19416/2658573 [23:34<40:56:34, 17.91it/s]\u001b[A\n",
      "  1%|          | 19418/2658573 [23:34<39:40:14, 18.48it/s]\u001b[A\n",
      "  1%|          | 19420/2658573 [23:35<39:35:40, 18.52it/s]\u001b[A\n",
      "  1%|          | 19422/2658573 [23:35<39:09:49, 18.72it/s]\u001b[A\n",
      "  1%|          | 19425/2658573 [23:35<37:26:45, 19.58it/s]\u001b[A\n",
      "  1%|          | 19427/2658573 [23:35<37:26:30, 19.58it/s]\u001b[A\n",
      "  1%|          | 19429/2658573 [23:35<38:05:07, 19.25it/s]\u001b[A\n",
      "  1%|          | 19432/2658573 [23:35<36:50:27, 19.90it/s]\u001b[A\n",
      "  1%|          | 19435/2658573 [23:35<35:31:01, 20.64it/s]\u001b[A\n",
      "  1%|          | 19438/2658573 [23:35<32:56:24, 22.26it/s]\u001b[A\n",
      "  1%|          | 19442/2658573 [23:35<29:38:06, 24.74it/s]\u001b[A\n",
      "  1%|          | 19446/2658573 [23:36<27:20:29, 26.81it/s]\u001b[A\n",
      "  1%|          | 19449/2658573 [23:36<31:15:00, 23.46it/s]\u001b[A\n",
      "  1%|          | 19452/2658573 [23:36<34:58:25, 20.96it/s]\u001b[A\n",
      "  1%|          | 19455/2658573 [23:36<36:46:44, 19.93it/s]\u001b[A\n",
      "  1%|          | 19458/2658573 [23:36<36:28:45, 20.10it/s]\u001b[A\n",
      "  1%|          | 19461/2658573 [23:36<37:14:22, 19.69it/s]\u001b[A\n",
      "  1%|          | 19464/2658573 [23:37<36:15:32, 20.22it/s]\u001b[A\n",
      "  1%|          | 19467/2658573 [23:37<36:34:56, 20.04it/s]\u001b[A\n",
      "  1%|          | 19470/2658573 [23:37<36:07:19, 20.29it/s]\u001b[A\n",
      "  1%|          | 19473/2658573 [23:37<36:00:25, 20.36it/s]\u001b[A\n",
      "  1%|          | 19476/2658573 [23:37<35:56:11, 20.40it/s]\u001b[A\n",
      "  1%|          | 19479/2658573 [23:37<43:21:59, 16.90it/s]\u001b[A\n",
      "  1%|          | 19481/2658573 [23:38<46:54:04, 15.63it/s]\u001b[A\n",
      "  1%|          | 19483/2658573 [23:38<50:09:30, 14.62it/s]\u001b[A\n",
      "  1%|          | 19486/2658573 [23:38<45:01:26, 16.28it/s]\u001b[A\n",
      "  1%|          | 19489/2658573 [23:38<41:12:43, 17.79it/s]\u001b[A\n",
      "  1%|          | 19492/2658573 [23:38<38:30:44, 19.03it/s]\u001b[A\n",
      "  1%|          | 19495/2658573 [23:38<36:39:46, 19.99it/s]\u001b[A\n",
      "  1%|          | 19498/2658573 [23:38<35:19:38, 20.75it/s]\u001b[A\n",
      "  1%|          | 19501/2658573 [23:38<34:29:06, 21.26it/s]\u001b[A\n",
      "  1%|          | 19504/2658573 [23:39<33:49:59, 21.67it/s]\u001b[A\n",
      "  1%|          | 19507/2658573 [23:39<34:14:09, 21.41it/s]\u001b[A\n",
      "  1%|          | 19510/2658573 [23:39<33:51:05, 21.66it/s]\u001b[A\n",
      "  1%|          | 19513/2658573 [23:39<33:24:57, 21.94it/s]\u001b[A\n",
      "  1%|          | 19516/2658573 [23:39<33:04:34, 22.16it/s]\u001b[A\n",
      "  1%|          | 19519/2658573 [23:39<32:57:17, 22.24it/s]\u001b[A\n",
      "  1%|          | 19522/2658573 [23:39<32:46:41, 22.36it/s]\u001b[A\n",
      "  1%|          | 19525/2658573 [23:40<32:34:58, 22.50it/s]\u001b[A\n",
      "  1%|          | 19528/2658573 [23:40<35:53:59, 20.42it/s]\u001b[A\n",
      "  1%|          | 19531/2658573 [23:40<35:21:22, 20.73it/s]\u001b[A\n",
      "  1%|          | 19534/2658573 [23:40<34:17:42, 21.38it/s]\u001b[A\n",
      "  1%|          | 19537/2658573 [23:40<33:36:52, 21.81it/s]\u001b[A\n",
      "  1%|          | 19540/2658573 [23:40<33:27:33, 21.91it/s]\u001b[A\n",
      "  1%|          | 19543/2658573 [23:41<42:33:34, 17.22it/s]\u001b[A\n",
      "  1%|          | 19545/2658573 [23:41<49:30:07, 14.81it/s]\u001b[A\n",
      "  1%|          | 19547/2658573 [23:41<48:38:32, 15.07it/s]\u001b[A\n",
      "  1%|          | 19549/2658573 [23:41<51:28:40, 14.24it/s]\u001b[A\n",
      "  1%|          | 19551/2658573 [23:41<50:39:42, 14.47it/s]\u001b[A\n",
      "  1%|          | 19553/2658573 [23:41<48:44:56, 15.04it/s]\u001b[A\n",
      "  1%|          | 19555/2658573 [23:41<46:58:58, 15.60it/s]\u001b[A\n",
      "  1%|          | 19557/2658573 [23:41<46:03:37, 15.92it/s]\u001b[A\n",
      "  1%|          | 19559/2658573 [23:42<44:53:20, 16.33it/s]\u001b[A\n",
      "  1%|          | 19561/2658573 [23:42<44:14:09, 16.57it/s]\u001b[A\n",
      "  1%|          | 19563/2658573 [23:42<43:30:01, 16.85it/s]\u001b[A\n",
      "  1%|          | 19565/2658573 [23:42<43:34:22, 16.82it/s]\u001b[A\n",
      "  1%|          | 19567/2658573 [23:42<43:34:45, 16.82it/s]\u001b[A\n",
      "  1%|          | 19569/2658573 [23:42<43:40:43, 16.78it/s]\u001b[A\n",
      "  1%|          | 19571/2658573 [23:42<44:30:39, 16.47it/s]\u001b[A\n",
      "  1%|          | 19573/2658573 [23:42<43:27:38, 16.87it/s]\u001b[A\n",
      "  1%|          | 19575/2658573 [23:43<44:38:28, 16.42it/s]\u001b[A\n",
      "  1%|          | 19577/2658573 [23:43<44:33:17, 16.45it/s]\u001b[A\n",
      "  1%|          | 19579/2658573 [23:43<44:50:40, 16.35it/s]\u001b[A\n",
      "  1%|          | 19581/2658573 [23:43<44:46:31, 16.37it/s]\u001b[A\n",
      "  1%|          | 19583/2658573 [23:43<42:57:25, 17.06it/s]\u001b[A\n",
      "  1%|          | 19585/2658573 [23:43<42:46:11, 17.14it/s]\u001b[A\n",
      "  1%|          | 19587/2658573 [23:43<42:47:37, 17.13it/s]\u001b[A\n",
      "  1%|          | 19589/2658573 [23:43<48:14:53, 15.19it/s]\u001b[A\n",
      "  1%|          | 19591/2658573 [23:44<50:27:34, 14.53it/s]\u001b[A\n",
      "  1%|          | 19593/2658573 [23:44<50:38:02, 14.48it/s]\u001b[A\n",
      "  1%|          | 19595/2658573 [23:44<47:34:56, 15.41it/s]\u001b[A\n",
      "  1%|          | 19597/2658573 [23:44<45:56:07, 15.96it/s]\u001b[A\n",
      "  1%|          | 19599/2658573 [23:44<46:13:43, 15.86it/s]\u001b[A\n",
      "  1%|          | 19601/2658573 [23:44<45:28:33, 16.12it/s]\u001b[A\n",
      "  1%|          | 19603/2658573 [23:44<43:54:21, 16.70it/s]\u001b[A\n",
      "  1%|          | 19605/2658573 [23:44<44:35:59, 16.44it/s]\u001b[A\n",
      "  1%|          | 19607/2658573 [23:45<43:08:06, 16.99it/s]\u001b[A\n",
      "  1%|          | 19609/2658573 [23:45<41:27:32, 17.68it/s]\u001b[A\n",
      "  1%|          | 19611/2658573 [23:45<40:30:32, 18.10it/s]\u001b[A\n",
      "  1%|          | 19613/2658573 [23:45<40:56:06, 17.91it/s]\u001b[A\n",
      "  1%|          | 19615/2658573 [23:45<41:42:31, 17.58it/s]\u001b[A\n",
      "  1%|          | 19617/2658573 [23:45<42:52:37, 17.10it/s]\u001b[A\n",
      "  1%|          | 19619/2658573 [23:45<46:03:07, 15.92it/s]\u001b[A\n",
      "  1%|          | 19621/2658573 [23:45<46:30:38, 15.76it/s]\u001b[A\n",
      "  1%|          | 19623/2658573 [23:46<46:38:39, 15.72it/s]\u001b[A\n",
      "  1%|          | 19625/2658573 [23:46<47:58:21, 15.28it/s]\u001b[A\n",
      "  1%|          | 19627/2658573 [23:46<46:54:01, 15.63it/s]\u001b[A\n",
      "  1%|          | 19629/2658573 [23:46<48:34:46, 15.09it/s]\u001b[A\n",
      "  1%|          | 19631/2658573 [23:46<50:57:09, 14.39it/s]\u001b[A\n",
      "  1%|          | 19633/2658573 [23:46<54:33:03, 13.44it/s]\u001b[A\n",
      "  1%|          | 19635/2658573 [23:46<52:19:51, 14.01it/s]\u001b[A\n",
      "  1%|          | 19637/2658573 [23:46<49:28:58, 14.81it/s]\u001b[A\n",
      "  1%|          | 19639/2658573 [23:47<45:53:47, 15.97it/s]\u001b[A\n",
      "  1%|          | 19642/2658573 [23:47<43:40:58, 16.78it/s]\u001b[A\n",
      "  1%|          | 19645/2658573 [23:47<40:21:08, 18.17it/s]\u001b[A\n",
      "  1%|          | 19648/2658573 [23:47<38:01:00, 19.28it/s]\u001b[A\n",
      "  1%|          | 19651/2658573 [23:47<36:27:42, 20.10it/s]\u001b[A\n",
      "  1%|          | 19654/2658573 [23:47<35:25:56, 20.69it/s]\u001b[A\n",
      "  1%|          | 19657/2658573 [23:47<34:37:20, 21.17it/s]\u001b[A\n",
      "  1%|          | 19660/2658573 [23:48<34:03:37, 21.52it/s]\u001b[A\n",
      "  1%|          | 19663/2658573 [23:48<33:40:46, 21.76it/s]\u001b[A\n",
      "  1%|          | 19666/2658573 [23:48<34:54:40, 21.00it/s]\u001b[A\n",
      "  1%|          | 19669/2658573 [23:48<35:50:20, 20.45it/s]\u001b[A\n",
      "  1%|          | 19672/2658573 [23:48<35:50:37, 20.45it/s]\u001b[A\n",
      "  1%|          | 19675/2658573 [23:48<35:44:46, 20.51it/s]\u001b[A\n",
      "  1%|          | 19678/2658573 [23:48<36:05:29, 20.31it/s]\u001b[A\n",
      "  1%|          | 19681/2658573 [23:49<35:58:39, 20.37it/s]\u001b[A\n",
      "  1%|          | 19684/2658573 [23:49<35:55:01, 20.41it/s]\u001b[A\n",
      "  1%|          | 19687/2658573 [23:49<36:37:49, 20.01it/s]\u001b[A\n",
      "  1%|          | 19690/2658573 [23:49<37:00:24, 19.81it/s]\u001b[A\n",
      "  1%|          | 19693/2658573 [23:49<36:17:39, 20.20it/s]\u001b[A\n",
      "  1%|          | 19696/2658573 [23:49<34:58:33, 20.96it/s]\u001b[A\n",
      "  1%|          | 19699/2658573 [23:49<34:07:59, 21.48it/s]\u001b[A\n",
      "  1%|          | 19702/2658573 [23:50<33:31:56, 21.86it/s]\u001b[A\n",
      "  1%|          | 19705/2658573 [23:50<33:04:23, 22.16it/s]\u001b[A\n",
      "  1%|          | 19708/2658573 [23:50<32:44:14, 22.39it/s]\u001b[A\n",
      "  1%|          | 19711/2658573 [23:50<32:34:03, 22.51it/s]\u001b[A\n",
      "  1%|          | 19714/2658573 [23:50<32:38:26, 22.46it/s]\u001b[A\n",
      "  1%|          | 19717/2658573 [23:50<32:50:38, 22.32it/s]\u001b[A\n",
      "  1%|          | 19720/2658573 [23:50<32:35:35, 22.49it/s]\u001b[A\n",
      "  1%|          | 19723/2658573 [23:51<32:27:10, 22.59it/s]\u001b[A\n",
      "  1%|          | 19726/2658573 [23:51<32:17:41, 22.70it/s]\u001b[A\n",
      "  1%|          | 19729/2658573 [23:51<32:13:58, 22.74it/s]\u001b[A\n",
      "  1%|          | 19732/2658573 [23:51<32:16:14, 22.71it/s]\u001b[A\n",
      "  1%|          | 19735/2658573 [23:51<32:31:39, 22.54it/s]\u001b[A\n",
      "  1%|          | 19738/2658573 [23:51<32:18:57, 22.68it/s]\u001b[A\n",
      "  1%|          | 19741/2658573 [23:51<32:15:29, 22.72it/s]\u001b[A\n",
      "  1%|          | 19744/2658573 [23:51<32:15:06, 22.73it/s]\u001b[A\n",
      "  1%|          | 19747/2658573 [23:52<32:16:04, 22.72it/s]\u001b[A\n",
      "  1%|          | 19750/2658573 [23:52<32:12:46, 22.75it/s]\u001b[A\n",
      "  1%|          | 19753/2658573 [23:52<32:09:16, 22.80it/s]\u001b[A\n",
      "  1%|          | 19756/2658573 [23:52<32:10:54, 22.78it/s]\u001b[A\n",
      "  1%|          | 19759/2658573 [23:52<32:10:39, 22.78it/s]\u001b[A\n",
      "  1%|          | 19762/2658573 [23:52<32:07:56, 22.81it/s]\u001b[A\n",
      "  1%|          | 19765/2658573 [23:52<32:26:27, 22.59it/s]\u001b[A\n",
      "  1%|          | 19768/2658573 [23:52<32:17:04, 22.70it/s]\u001b[A\n",
      "  1%|          | 19771/2658573 [23:53<32:13:17, 22.75it/s]\u001b[A\n",
      "  1%|          | 19774/2658573 [23:53<32:12:11, 22.76it/s]\u001b[A\n",
      "  1%|          | 19777/2658573 [23:53<32:15:54, 22.72it/s]\u001b[A\n",
      "  1%|          | 19780/2658573 [23:53<40:08:16, 18.26it/s]\u001b[A\n",
      "  1%|          | 19782/2658573 [23:53<46:15:50, 15.84it/s]\u001b[A\n",
      "  1%|          | 19784/2658573 [23:53<48:17:12, 15.18it/s]\u001b[A\n",
      "  1%|          | 19787/2658573 [23:54<44:40:29, 16.41it/s]\u001b[A\n",
      "  1%|          | 19789/2658573 [23:54<42:40:49, 17.17it/s]\u001b[A\n",
      "  1%|          | 19792/2658573 [23:54<42:09:28, 17.39it/s]\u001b[A\n",
      "  1%|          | 19794/2658573 [23:54<47:52:45, 15.31it/s]\u001b[A\n",
      "  1%|          | 19796/2658573 [23:54<48:43:48, 15.04it/s]\u001b[A\n",
      "  1%|          | 19799/2658573 [23:54<43:55:02, 16.69it/s]\u001b[A\n",
      "  1%|          | 19802/2658573 [23:54<40:35:34, 18.06it/s]\u001b[A\n",
      "  1%|          | 19805/2658573 [23:55<38:27:57, 19.06it/s]\u001b[A\n",
      "  1%|          | 19808/2658573 [23:55<36:40:19, 19.99it/s]\u001b[A\n",
      "  1%|          | 19811/2658573 [23:55<35:20:49, 20.74it/s]\u001b[A\n",
      "  1%|          | 19814/2658573 [23:55<34:25:40, 21.29it/s]\u001b[A\n",
      "  1%|          | 19817/2658573 [23:55<33:47:42, 21.69it/s]\u001b[A\n",
      "  1%|          | 19820/2658573 [23:55<33:40:19, 21.77it/s]\u001b[A\n",
      "  1%|          | 19823/2658573 [23:55<33:17:58, 22.01it/s]\u001b[A\n",
      "  1%|          | 19826/2658573 [23:55<32:59:14, 22.22it/s]\u001b[A\n",
      "  1%|          | 19829/2658573 [23:56<34:41:26, 21.13it/s]\u001b[A\n",
      "  1%|          | 19832/2658573 [23:56<47:12:18, 15.53it/s]\u001b[A\n",
      "  1%|          | 19834/2658573 [23:56<46:17:54, 15.83it/s]\u001b[A\n",
      "  1%|          | 19837/2658573 [23:56<43:21:10, 16.91it/s]\u001b[A\n",
      "  1%|          | 19839/2658573 [23:56<42:47:40, 17.13it/s]\u001b[A\n",
      "  1%|          | 19841/2658573 [23:57<48:15:02, 15.19it/s]\u001b[A\n",
      "  1%|          | 19843/2658573 [23:57<54:32:20, 13.44it/s]\u001b[A\n",
      "  1%|          | 19845/2658573 [23:57<49:24:41, 14.83it/s]\u001b[A\n",
      "  1%|          | 19847/2658573 [23:57<45:48:00, 16.00it/s]\u001b[A\n",
      "  1%|          | 19849/2658573 [23:57<45:32:16, 16.10it/s]\u001b[A\n",
      "  1%|          | 19851/2658573 [23:57<45:37:54, 16.06it/s]\u001b[A\n",
      "  1%|          | 19853/2658573 [23:57<45:23:44, 16.15it/s]\u001b[A\n",
      "  1%|          | 19855/2658573 [23:57<45:22:48, 16.15it/s]\u001b[A\n",
      "  1%|          | 19857/2658573 [23:58<46:43:20, 15.69it/s]\u001b[A\n",
      "  1%|          | 19859/2658573 [23:58<52:58:33, 13.84it/s]\u001b[A\n",
      "  1%|          | 19861/2658573 [23:58<59:20:32, 12.35it/s]\u001b[A\n",
      "  1%|          | 19863/2658573 [23:58<54:47:32, 13.38it/s]\u001b[A\n",
      "  1%|          | 19865/2658573 [23:58<52:12:29, 14.04it/s]\u001b[A\n",
      "  1%|          | 19867/2658573 [23:58<49:29:20, 14.81it/s]\u001b[A\n",
      "  1%|          | 19869/2658573 [23:58<49:08:30, 14.92it/s]\u001b[A\n",
      "  1%|          | 19871/2658573 [23:59<56:24:52, 12.99it/s]\u001b[A\n",
      "  1%|          | 19873/2658573 [23:59<58:49:52, 12.46it/s]\u001b[A\n",
      "  1%|          | 19875/2658573 [23:59<57:30:43, 12.74it/s]\u001b[A\n",
      "  1%|          | 19877/2658573 [23:59<54:23:47, 13.47it/s]\u001b[A\n",
      "  1%|          | 19879/2658573 [23:59<49:40:53, 14.75it/s]\u001b[A\n",
      "  1%|          | 19881/2658573 [23:59<46:20:02, 15.82it/s]\u001b[A\n",
      "  1%|          | 19883/2658573 [23:59<44:02:49, 16.64it/s]\u001b[A\n",
      "  1%|          | 19885/2658573 [24:00<45:22:03, 16.16it/s]\u001b[A\n",
      "  1%|          | 19887/2658573 [24:00<44:42:00, 16.40it/s]\u001b[A\n",
      "  1%|          | 19889/2658573 [24:00<45:02:47, 16.27it/s]\u001b[A\n",
      "  1%|          | 19891/2658573 [24:00<46:22:14, 15.81it/s]\u001b[A\n",
      "  1%|          | 19893/2658573 [24:00<47:12:48, 15.52it/s]\u001b[A\n",
      "  1%|          | 19895/2658573 [24:00<47:29:37, 15.43it/s]\u001b[A\n",
      "  1%|          | 19897/2658573 [24:00<48:21:31, 15.16it/s]\u001b[A\n",
      "  1%|          | 19900/2658573 [24:00<43:20:12, 16.91it/s]\u001b[A\n",
      "  1%|          | 19903/2658573 [24:01<39:03:15, 18.77it/s]\u001b[A\n",
      "  1%|          | 19905/2658573 [24:01<41:09:49, 17.81it/s]\u001b[A\n",
      "  1%|          | 19907/2658573 [24:01<40:51:13, 17.94it/s]\u001b[A\n",
      "  1%|          | 19909/2658573 [24:01<41:33:14, 17.64it/s]\u001b[A\n",
      "  1%|          | 19912/2658573 [24:01<38:00:48, 19.28it/s]\u001b[A\n",
      "  1%|          | 19915/2658573 [24:01<37:28:25, 19.56it/s]\u001b[A\n",
      "  1%|          | 19918/2658573 [24:01<35:48:46, 20.47it/s]\u001b[A\n",
      "  1%|          | 19922/2658573 [24:01<31:51:36, 23.01it/s]\u001b[A\n",
      "  1%|          | 19925/2658573 [24:02<35:07:14, 20.87it/s]\u001b[A\n",
      "  1%|          | 19928/2658573 [24:02<36:10:27, 20.26it/s]\u001b[A\n",
      "  1%|          | 19931/2658573 [24:02<35:35:11, 20.60it/s]\u001b[A\n",
      "  1%|          | 19934/2658573 [24:02<34:39:35, 21.15it/s]\u001b[A\n",
      "  1%|          | 19937/2658573 [24:02<34:58:54, 20.95it/s]\u001b[A\n",
      "  1%|          | 19940/2658573 [24:02<34:47:00, 21.07it/s]\u001b[A\n",
      "  1%|          | 19943/2658573 [24:02<35:07:08, 20.87it/s]\u001b[A\n",
      "  1%|          | 19946/2658573 [24:03<35:22:32, 20.72it/s]\u001b[A\n",
      "  1%|          | 19949/2658573 [24:03<35:41:43, 20.53it/s]\u001b[A\n",
      "  1%|          | 19952/2658573 [24:03<36:13:47, 20.23it/s]\u001b[A\n",
      "  1%|          | 19955/2658573 [24:03<36:30:10, 20.08it/s]\u001b[A\n",
      "  1%|          | 19958/2658573 [24:03<36:41:03, 19.98it/s]\u001b[A\n",
      "  1%|          | 19961/2658573 [24:03<36:49:41, 19.90it/s]\u001b[A\n",
      "  1%|          | 19963/2658573 [24:03<36:56:59, 19.84it/s]\u001b[A\n",
      "  1%|          | 19965/2658573 [24:04<37:06:34, 19.75it/s]\u001b[A\n",
      "  1%|          | 19967/2658573 [24:04<37:34:19, 19.51it/s]\u001b[A\n",
      "  1%|          | 19969/2658573 [24:04<37:33:55, 19.51it/s]\u001b[A\n",
      "  1%|          | 19971/2658573 [24:04<38:27:01, 19.06it/s]\u001b[A\n",
      "  1%|          | 19973/2658573 [24:04<39:42:45, 18.46it/s]\u001b[A\n",
      "  1%|          | 19975/2658573 [24:04<48:14:18, 15.19it/s]\u001b[A\n",
      "  1%|          | 19977/2658573 [24:04<45:33:03, 16.09it/s]\u001b[A\n",
      "  1%|          | 19980/2658573 [24:04<42:25:05, 17.28it/s]\u001b[A\n",
      "  1%|          | 19982/2658573 [24:05<41:04:05, 17.85it/s]\u001b[A\n",
      "  1%|          | 19984/2658573 [24:05<40:01:31, 18.31it/s]\u001b[A\n",
      "  1%|          | 19986/2658573 [24:05<39:01:54, 18.78it/s]\u001b[A\n",
      "  1%|          | 19988/2658573 [24:05<38:20:01, 19.12it/s]\u001b[A\n",
      "  1%|          | 19990/2658573 [24:05<38:08:52, 19.21it/s]\u001b[A\n",
      "  1%|          | 19992/2658573 [24:05<38:00:06, 19.29it/s]\u001b[A\n",
      "  1%|          | 19994/2658573 [24:05<37:59:56, 19.29it/s]\u001b[A\n",
      "  1%|          | 19996/2658573 [24:05<37:47:21, 19.40it/s]\u001b[A\n",
      "  1%|          | 19998/2658573 [24:05<37:53:38, 19.34it/s]\u001b[A\n",
      "  1%|          | 20000/2658573 [24:05<37:43:07, 19.43it/s]\u001b[A\n",
      "  1%|          | 20002/2658573 [24:06<38:08:59, 19.21it/s]\u001b[A\n",
      "  1%|          | 20005/2658573 [24:06<37:05:58, 19.76it/s]\u001b[A\n",
      "  1%|          | 20008/2658573 [24:06<36:46:50, 19.93it/s]\u001b[A\n",
      "  1%|          | 20011/2658573 [24:06<36:06:57, 20.29it/s]\u001b[A\n",
      "  1%|          | 20014/2658573 [24:06<35:59:42, 20.36it/s]\u001b[A"
     ]
    }
   ],
   "source": [
    "for step in trange(step, total_steps + 1):\n",
    "    agent.epsilon = utils.linear_decay(init_epsilon, final_epsilon, step, decay_steps)\n",
    "\n",
    "    # play\n",
    "    _, state = play_and_record(state, agent, env, exp_replay, timesteps_per_epoch)\n",
    "\n",
    "    # train\n",
    "    obs_batch, act_batch, reward_batch, next_obs_batch, is_done_batch = exp_replay.sample(batch_size)\n",
    "\n",
    "    loss = compute_td_loss(\n",
    "        states=obs_batch,\n",
    "        actions=act_batch,\n",
    "        rewards=reward_batch,\n",
    "        next_states=next_obs_batch,\n",
    "        is_done=is_done_batch,\n",
    "        agent=agent,\n",
    "        target_network=target_network,\n",
    "        gamma=0.99,\n",
    "        check_shapes=True,\n",
    "    )\n",
    "\n",
    "    loss.backward()\n",
    "    grad_norm = nn.utils.clip_grad_norm_(agent.parameters(), max_grad_norm)\n",
    "    opt.step()\n",
    "    opt.zero_grad()\n",
    "\n",
    "    if step % loss_freq == 0:\n",
    "        td_loss_history.append(loss.data.cpu().item())\n",
    "        grad_norm_history.append(grad_norm)\n",
    "\n",
    "    if step % refresh_target_network_freq == 0:\n",
    "        # Load agent weights into target_network\n",
    "        target_network.load_state_dict(agent.state_dict())\n",
    "\n",
    "    if step % eval_freq == 0:\n",
    "        mean_rw_history.append(evaluate(\n",
    "            make_env(clip_rewards=True, seed=step), agent, n_games=3 * n_lives, greedy=True)\n",
    "        )\n",
    "        initial_state_q_values = agent.get_qvalues(\n",
    "            [make_env(seed=step).reset()]\n",
    "        )\n",
    "        initial_state_v_history.append(np.max(initial_state_q_values))\n",
    "\n",
    "        clear_output(True)\n",
    "        print(\"buffer size = %i, epsilon = %.5f\" % (len(exp_replay), agent.epsilon))\n",
    "\n",
    "        plt.figure(figsize=[16, 9])\n",
    "\n",
    "        plt.subplot(2, 2, 1)\n",
    "        plt.title(\"Mean reward per life\")\n",
    "        plt.plot(mean_rw_history)\n",
    "        plt.grid()\n",
    "\n",
    "        assert not np.isnan(td_loss_history[-1])\n",
    "        plt.subplot(2, 2, 2)\n",
    "        plt.title(\"TD loss history (smoothened)\")\n",
    "        plt.plot(utils.smoothen(td_loss_history))\n",
    "        plt.grid()\n",
    "\n",
    "        plt.subplot(2, 2, 3)\n",
    "        plt.title(\"Initial state V\")\n",
    "        plt.plot(initial_state_v_history)\n",
    "        plt.grid()\n",
    "\n",
    "        plt.subplot(2, 2, 4)\n",
    "        plt.title(\"Grad norm history (smoothened)\")\n",
    "        plt.plot(utils.smoothen(grad_norm_history))\n",
    "        plt.grid()\n",
    "\n",
    "        plt.show()"
   ]
  },
  {
   "cell_type": "markdown",
   "metadata": {
    "colab_type": "text",
    "id": "hU6gLeMBc9Bc"
   },
   "source": [
    "Agent is evaluated for 1 life, not for a whole episode of 5 lives. Rewards in evaluation are also truncated. Cuz this is what environment the agent is learning in and in this way mean rewards per life can be compared with initial state value\n",
    "\n",
    "**The goal is to get 10 points in the real env**. So 3 or more points in the preprocessed one will probably be enough. You can interrupt learning then."
   ]
  },
  {
   "cell_type": "markdown",
   "metadata": {
    "colab_type": "text",
    "id": "r-G7DKhJc9Bd"
   },
   "source": [
    "Final scoring is done on a whole episode with all 5 lives."
   ]
  },
  {
   "cell_type": "code",
   "execution_count": 32,
   "metadata": {
    "colab": {},
    "colab_type": "code",
    "id": "H4hK1jEWc9Bd"
   },
   "outputs": [
    {
     "name": "stderr",
     "output_type": "stream",
     "text": [
      " 11%|█▏        | 341427/3000001 [5:17:20<49:41:04, 14.86it/s]"
     ]
    },
    {
     "name": "stdout",
     "output_type": "stream",
     "text": [
      "final score: 12.0\n",
      "Cool!\n"
     ]
    }
   ],
   "source": [
    "final_score = evaluate(\n",
    "  make_env(clip_rewards=False, seed=9),\n",
    "    agent, n_games=30, greedy=True, t_max=10 * 1000\n",
    ") * n_lives\n",
    "print('final score:', final_score)\n",
    "assert final_score >= 10, 'not as cool as DQN can'\n",
    "print('Cool!')"
   ]
  },
  {
   "cell_type": "markdown",
   "metadata": {
    "colab_type": "text",
    "id": "Hz7H2yFlc9Bf"
   },
   "source": [
    "## How to interpret plots:\n",
    "\n",
    "This aint no supervised learning so don't expect anything to improve monotonously. \n",
    "* **TD loss** is the MSE between agent's current Q-values and target Q-values. It may slowly increase or decrease, it's ok. The \"not ok\" behavior includes going NaN or stayng at exactly zero before agent has perfect performance.\n",
    "* **grad norm** just shows the intensivity of training. Not ok is growing to values of about 100 (or maybe even 50) though it depends on network architecture.\n",
    "* **mean reward** is the expected sum of r(s,a) agent gets over the full game session. It will oscillate, but on average it should get higher over time (after a few thousand iterations...). \n",
    " * In basic q-learning implementation it takes about 40k steps to \"warm up\" agent before it starts to get better.\n",
    "* **Initial state V** is the expected discounted reward for episode in the oppinion of the agent. It should behave more smoothly than **mean reward**. It should get higher over time but sometimes can experience drawdowns because of the agaent's overestimates.\n",
    "* **buffer size** - this one is simple. It should go up and cap at max size.\n",
    "* **epsilon** - agent's willingness to explore. If you see that agent's already at 0.01 epsilon before it's average reward is above 0 - it means you need to increase epsilon. Set it back to some 0.2 - 0.5 and decrease the pace at which it goes down.\n",
    "* Smoothing of plots is done with a gaussian kernel\n",
    "\n",
    "At first your agent will lose quickly. Then it will learn to suck less and at least hit the ball a few times before it loses. Finally it will learn to actually score points.\n",
    "\n",
    "**Training will take time.** A lot of it actually. Probably you will not see any improvment during first **150k** time steps (note that by default in this notebook agent is evaluated every 5000 time steps).\n",
    "\n",
    "But hey, long training time isn't _that_ bad:\n",
    "![img](https://github.com/yandexdataschool/Practical_RL/raw/master/yet_another_week/_resource/training.png)"
   ]
  },
  {
   "cell_type": "markdown",
   "metadata": {
    "colab_type": "text",
    "id": "3dw70D_1c9Bf"
   },
   "source": [
    "## About hyperparameters:\n",
    "\n",
    "The task has something in common with supervised learning: loss is optimized through the buffer (instead of Train dataset). But the distribution of states and actions in the buffer **is not stationary** and depends on the policy that generated it. It can even happen that the mean TD error across the buffer is very low but the performance is extremely poor (imagine the agent collecting data to the buffer always manages to avoid the ball).\n",
    "\n",
    "* Total timesteps and training time: It seems to be so huge, but actually it is normal for RL.\n",
    "\n",
    "* $\\epsilon$ decay shedule was taken from the original paper and is like traditional for epsilon-greedy policies. At the beginning of the training the agent's greedy policy is poor so many random actions should be taken.\n",
    "\n",
    "* Optimizer: In the original paper RMSProp was used (they did not have Adam in 2013) and it can work not worse than Adam. For us Adam was default and it worked.\n",
    "\n",
    "* lr: $10^{-3}$ would probably be too huge\n",
    "\n",
    "* batch size: This one can be very important: if it is too small the agent can fail to learn. Huge batch takes more time to process. If batch of size 8 can not be processed on the hardware you use take 2 (or even 4) batches of size 4, divide the loss on them by 2 (or 4) and make optimization step after both backward() calls in torch.\n",
    "\n",
    "* target network update frequency: has something in common with learning rate. Too frequent updates can lead to divergence. Too rare can lead to slow leraning. For millions of total timesteps thousands of inner steps seem ok. One iteration of target network updating is an iteration of the (this time approximate) $\\gamma$-compression that stands behind Q-learning. The more inner steps it makes the more accurate is the compression.\n",
    "* max_grad_norm - just huge enough. In torch clip_grad_norm also evaluates the norm before clipping and it can be convenient for logging."
   ]
  },
  {
   "cell_type": "markdown",
   "metadata": {
    "colab_type": "text",
    "id": "LE4IRaXRc9Bg"
   },
   "source": [
    "### Video"
   ]
  },
  {
   "cell_type": "code",
   "execution_count": 33,
   "metadata": {
    "colab": {},
    "colab_type": "code",
    "id": "9zFs-UCKc9Bg"
   },
   "outputs": [],
   "source": [
    "# Record sessions\n",
    "\n",
    "import gym.wrappers\n",
    "\n",
    "with gym.wrappers.Monitor(make_env(), directory=\"videos\", force=True) as env_monitor:\n",
    "    sessions = [evaluate(env_monitor, agent, n_games=n_lives, greedy=True) for _ in range(10)]"
   ]
  },
  {
   "cell_type": "code",
   "execution_count": 34,
   "metadata": {
    "colab": {},
    "colab_type": "code",
    "id": "r-wpr_Lec9Bi"
   },
   "outputs": [
    {
     "data": {
      "text/html": [
       "\n",
       "<video width=\"640\" height=\"480\" controls>\n",
       "  <source src=\"videos/openaigym.video.0.11774.video000027.mp4\" type=\"video/mp4\">\n",
       "</video>\n"
      ],
      "text/plain": [
       "<IPython.core.display.HTML object>"
      ]
     },
     "execution_count": 34,
     "metadata": {},
     "output_type": "execute_result"
    }
   ],
   "source": [
    "# Show video. This may not work in some setups. If it doesn't\n",
    "# work for you, you can download the videos and view them locally.\n",
    "\n",
    "from pathlib import Path\n",
    "from IPython.display import HTML\n",
    "\n",
    "video_names = sorted([s for s in Path('videos').iterdir() if s.suffix == '.mp4'])\n",
    "\n",
    "HTML(\"\"\"\n",
    "<video width=\"640\" height=\"480\" controls>\n",
    "  <source src=\"{}\" type=\"video/mp4\">\n",
    "</video>\n",
    "\"\"\".format(video_names[-1]))  # You can also try other indices"
   ]
  },
  {
   "cell_type": "markdown",
   "metadata": {
    "colab_type": "text",
    "id": "gm3zca4sc9Bm"
   },
   "source": [
    "## Submit to Coursera"
   ]
  },
  {
   "cell_type": "code",
   "execution_count": 35,
   "metadata": {
    "colab": {},
    "colab_type": "code",
    "id": "AsksaDcac9Bn"
   },
   "outputs": [
    {
     "name": "stdout",
     "output_type": "stream",
     "text": [
      "Submitted to Coursera platform. See results on assignment page!\n"
     ]
    }
   ],
   "source": [
    "from submit import submit_breakout\n",
    "env = make_env()\n",
    "submit_breakout(agent, env, evaluate, \"lavoie.michel@gmail.com\", \"V2EmX7X6dRyq413L\")"
   ]
  },
  {
   "cell_type": "markdown",
   "metadata": {
    "colab_type": "text",
    "id": "DRFf7hV1c9Bq"
   },
   "source": [
    "```\n",
    "```\n",
    "```\n",
    "```\n",
    "```\n",
    "```\n",
    "\n",
    "\n",
    "\n",
    "\n",
    "\n",
    "\n",
    "## Let's have a closer look at this.\n",
    "\n",
    "If average episode score is below 200 using all 5 lives, then probably DQN has not converged fully. But anyway let's make a more complete record of an episode."
   ]
  },
  {
   "cell_type": "code",
   "execution_count": null,
   "metadata": {
    "colab": {},
    "colab_type": "code",
    "id": "bumnoG2Wc9Bq"
   },
   "outputs": [],
   "source": [
    "eval_env = make_env(clip_rewards=False)\n",
    "record = utils.play_and_log_episode(eval_env, agent)\n",
    "print('total reward for life:', np.sum(record['rewards']))\n",
    "for key in record:\n",
    "    print(key)"
   ]
  },
  {
   "cell_type": "code",
   "execution_count": null,
   "metadata": {
    "colab": {},
    "colab_type": "code",
    "id": "GuYWYWpcc9Bt"
   },
   "outputs": [],
   "source": [
    "fig = plt.figure(figsize=(5, 5))\n",
    "ax = fig.add_subplot(1, 1, 1)\n",
    "\n",
    "ax.scatter(record['v_mc'], record['v_agent'])\n",
    "ax.plot(sorted(record['v_mc']), sorted(record['v_mc']),\n",
    "       'black', linestyle='--', label='x=y')\n",
    "\n",
    "ax.grid()\n",
    "ax.legend()\n",
    "ax.set_title('State Value Estimates')\n",
    "ax.set_xlabel('Monte-Carlo')\n",
    "ax.set_ylabel('Agent')\n",
    "\n",
    "plt.show()"
   ]
  },
  {
   "cell_type": "markdown",
   "metadata": {
    "colab_type": "text",
    "id": "aN1cGch6c9Bw"
   },
   "source": [
    "$\\hat V_{Monte-Carlo}(s_t) = \\sum_{\\tau=0}^{episode~end} \\gamma^{\\tau-t}r_t$"
   ]
  },
  {
   "cell_type": "markdown",
   "metadata": {
    "colab_type": "text",
    "id": "CDGyy5QGc9Bx"
   },
   "source": [
    "Is there a big bias? It's ok, anyway it works."
   ]
  },
  {
   "cell_type": "markdown",
   "metadata": {
    "colab_type": "text",
    "id": "YNaK7RcMc9Bx"
   },
   "source": [
    "## More\n",
    "\n",
    "If you want to play with DQN a bit more, here's a list of things you can try with it:\n",
    "\n",
    "### Easy:\n",
    "* Implementing __double q-learning__ shouldn't be a problem if you've already have target networks in place.\n",
    "  * You will probably need `tf.argmax` to select best actions\n",
    "  * Here's an original [article](https://arxiv.org/abs/1509.06461)\n",
    "\n",
    "* __Dueling__ architecture is also quite straightforward if you have standard DQN.\n",
    "  * You will need to change network architecture, namely the q-values layer\n",
    "  * It must now contain two heads: V(s) and A(s,a), both dense layers\n",
    "  * You should then add them up via elemwise sum layer.\n",
    "  * Here's an [article](https://arxiv.org/pdf/1511.06581.pdf)"
   ]
  },
  {
   "cell_type": "markdown",
   "metadata": {
    "colab_type": "text",
    "id": "eDmoo_gQc9By"
   },
   "source": [
    "### Hard: Prioritized experience replay\n",
    "\n",
    "In this section, you're invited to implement prioritized experience replay\n",
    "\n",
    "* You will probably need to provide a custom data structure\n",
    "* Once pool.update is called, collect the pool.experience_replay.observations, actions, rewards and is_alive and store them in your data structure\n",
    "* You can now sample such transitions in proportion to the error (see [article](https://arxiv.org/abs/1511.05952)) for training.\n",
    "\n",
    "It's probably more convenient to explicitly declare inputs for \"sample observations\", \"sample actions\" and so on to plug them into q-learning.\n",
    "\n",
    "Prioritized (and even normal) experience replay should greatly reduce amount of game sessions you need to play in order to achieve good performance. \n",
    "\n",
    "While it's effect on runtime is limited for atari, more complicated envs (further in the course) will certainly benefit for it.\n",
    "\n",
    "There is even more out there - see this [overview article](https://arxiv.org/abs/1710.02298)."
   ]
  }
 ],
 "metadata": {
  "accelerator": "GPU",
  "colab": {
   "collapsed_sections": [
    "Hz7H2yFlc9Bf",
    "3dw70D_1c9Bf",
    "LE4IRaXRc9Bg",
    "gm3zca4sc9Bm",
    "DRFf7hV1c9Bq",
    "YNaK7RcMc9Bx",
    "eDmoo_gQc9By"
   ],
   "name": "Copie de dqn_atari_pytorch.ipynb",
   "provenance": []
  },
  "kernelspec": {
   "display_name": "Python 3",
   "language": "python",
   "name": "python3"
  },
  "language_info": {
   "codemirror_mode": {
    "name": "ipython",
    "version": 3
   },
   "file_extension": ".py",
   "mimetype": "text/x-python",
   "name": "python",
   "nbconvert_exporter": "python",
   "pygments_lexer": "ipython3",
   "version": "3.7.6"
  }
 },
 "nbformat": 4,
 "nbformat_minor": 4
}
