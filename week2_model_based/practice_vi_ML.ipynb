{
 "cells": [
  {
   "cell_type": "markdown",
   "metadata": {},
   "source": [
    "### Markov decision process\n",
    "\n",
    "This week's methods are all built to solve __M__arkov __D__ecision __P__rocesses. In the broadest sense, an MDP is defined by how it changes states and how rewards are computed.\n",
    "\n",
    "State transition is defined by $P(s' |s,a)$ - how likely are you to end at state $s'$ if you take action $a$ from state $s$. Now there's more than one way to define rewards, but we'll use $r(s,a,s')$ function for convenience.\n",
    "\n",
    "_This notebook is inspired by the awesome_ [CS294](https://github.com/berkeleydeeprlcourse/homework/blob/36a0b58261acde756abd55306fbe63df226bf62b/hw2/HW2.ipynb) _by Berkeley_"
   ]
  },
  {
   "cell_type": "markdown",
   "metadata": {},
   "source": [
    "For starters, let's define a simple MDP from this picture:\n",
    "\n",
    "<img src=\"https://upload.wikimedia.org/wikipedia/commons/a/ad/Markov_Decision_Process.svg\" width=\"400px\" alt=\"Diagram by Waldoalvarez via Wikimedia Commons, CC BY-SA 4.0\"/>"
   ]
  },
  {
   "cell_type": "code",
   "execution_count": 1,
   "metadata": {},
   "outputs": [],
   "source": [
    "import sys, os\n",
    "if 'google.colab' in sys.modules and not os.path.exists('.setup_complete'):\n",
    "    !wget -q https://raw.githubusercontent.com/yandexdataschool/Practical_RL/spring20/setup_colab.sh -O- | bash\n",
    "\n",
    "    !wget -q https://raw.githubusercontent.com/yandexdataschool/Practical_RL/coursera/grading.py -O ../grading.py\n",
    "    !wget -q https://raw.githubusercontent.com/yandexdataschool/Practical_RL/coursera/week2_model_based/submit.py\n",
    "    !wget -q https://raw.githubusercontent.com/yandexdataschool/Practical_RL/coursera/week2_model_based/mdp.py\n",
    "\n",
    "    !touch .setup_complete\n",
    "\n",
    "# This code creates a virtual display to draw game images on.\n",
    "# It will have no effect if your machine has a monitor.\n",
    "if type(os.environ.get(\"DISPLAY\")) is not str or len(os.environ.get(\"DISPLAY\")) == 0:\n",
    "    !bash ../xvfb start\n",
    "    os.environ['DISPLAY'] = ':1'"
   ]
  },
  {
   "cell_type": "code",
   "execution_count": null,
   "metadata": {},
   "outputs": [],
   "source": [
    "transition_probs = {\n",
    "    's0': {\n",
    "        'a0': {'s0': 0.5, 's2': 0.5},\n",
    "        'a1': {'s2': 1}\n",
    "    },\n",
    "    's1': {\n",
    "        'a0': {'s0': 0.7, 's1': 0.1, 's2': 0.2},\n",
    "        'a1': {'s1': 0.95, 's2': 0.05}\n",
    "    },\n",
    "    's2': {\n",
    "        'a0': {'s0': 0.4, 's2': 0.6},\n",
    "        'a1': {'s0': 0.3, 's1': 0.3, 's2': 0.4}\n",
    "    }\n",
    "}\n",
    "rewards = {\n",
    "    's1': {'a0': {'s0': +5}},\n",
    "    's2': {'a1': {'s0': -1}}\n",
    "}\n",
    "\n",
    "from mdp import MDP\n",
    "mdp = MDP(transition_probs, rewards, initial_state='s0')"
   ]
  },
  {
   "cell_type": "markdown",
   "metadata": {},
   "source": [
    "We can now use MDP just as any other gym environment:"
   ]
  },
  {
   "cell_type": "code",
   "execution_count": 2,
   "metadata": {},
   "outputs": [
    {
     "name": "stdout",
     "output_type": "stream",
     "text": [
      "initial state = s0\n",
      "next_state = s2, reward = 0.0, done = False\n"
     ]
    }
   ],
   "source": [
    "print('initial state =', mdp.reset())\n",
    "next_state, reward, done, info = mdp.step('a1')\n",
    "print('next_state = %s, reward = %s, done = %s' % (next_state, reward, done))"
   ]
  },
  {
   "cell_type": "markdown",
   "metadata": {},
   "source": [
    "but it also has other methods that you'll need for Value Iteration"
   ]
  },
  {
   "cell_type": "code",
   "execution_count": 3,
   "metadata": {},
   "outputs": [
    {
     "name": "stdout",
     "output_type": "stream",
     "text": [
      "mdp.get_all_states = ('s1', 's2', 's0')\n",
      "mdp.get_possible_actions('s1') =  ('a1', 'a0')\n",
      "mdp.get_next_states('s1', 'a0') =  {'s1': 0.1, 's2': 0.2, 's0': 0.7}\n",
      "mdp.get_reward('s1', 'a0', 's0') =  5\n",
      "mdp.get_transition_prob('s1', 'a0', 's0') =  0.7\n"
     ]
    }
   ],
   "source": [
    "print(\"mdp.get_all_states =\", mdp.get_all_states())\n",
    "print(\"mdp.get_possible_actions('s1') = \", mdp.get_possible_actions('s1'))\n",
    "print(\"mdp.get_next_states('s1', 'a0') = \", mdp.get_next_states('s1', 'a0'))\n",
    "print(\"mdp.get_reward('s1', 'a0', 's0') = \", mdp.get_reward('s1', 'a0', 's0'))\n",
    "print(\"mdp.get_transition_prob('s1', 'a0', 's0') = \",\n",
    "      mdp.get_transition_prob('s1', 'a0', 's0'))"
   ]
  },
  {
   "cell_type": "markdown",
   "metadata": {},
   "source": [
    "### Optional: Visualizing MDPs\n",
    "\n",
    "You can also visualize any MDP with the drawing fuction donated by [neer201](https://github.com/neer201).\n",
    "\n",
    "You have to install graphviz for system and for python. For ubuntu just run:\n",
    "\n",
    "1. `sudo apt-get install graphviz`\n",
    "2. `pip install graphviz`\n",
    "3. restart the notebook\n",
    "\n",
    "__Note:__ Installing graphviz on some OS (esp. Windows) may be tricky. However, you can ignore this part alltogether and use the standart vizualization."
   ]
  },
  {
   "cell_type": "code",
   "execution_count": 4,
   "metadata": {},
   "outputs": [
    {
     "name": "stdout",
     "output_type": "stream",
     "text": [
      "Graphviz available: True\n"
     ]
    }
   ],
   "source": [
    "from mdp import has_graphviz\n",
    "from IPython.display import display\n",
    "print(\"Graphviz available:\", has_graphviz)"
   ]
  },
  {
   "cell_type": "code",
   "execution_count": 5,
   "metadata": {},
   "outputs": [
    {
     "data": {
      "image/svg+xml": [
       "<?xml version=\"1.0\" encoding=\"UTF-8\" standalone=\"no\"?>\n",
       "<!DOCTYPE svg PUBLIC \"-//W3C//DTD SVG 1.1//EN\"\n",
       " \"http://www.w3.org/Graphics/SVG/1.1/DTD/svg11.dtd\">\n",
       "<!-- Generated by graphviz version 2.38.0 (20140413.2041)\n",
       " -->\n",
       "<!-- Title: MDP Pages: 1 -->\n",
       "<svg width=\"720pt\" height=\"220pt\"\n",
       " viewBox=\"0.00 0.00 720.00 219.92\" xmlns=\"http://www.w3.org/2000/svg\" xmlns:xlink=\"http://www.w3.org/1999/xlink\">\n",
       "<g id=\"graph0\" class=\"graph\" transform=\"scale(0.704871 0.704871) rotate(0) translate(4 307.997)\">\n",
       "<title>MDP</title>\n",
       "<polygon fill=\"white\" stroke=\"none\" points=\"-4,4 -4,-307.997 1017.46,-307.997 1017.46,4 -4,4\"/>\n",
       "<!-- s1 -->\n",
       "<g id=\"node1\" class=\"node\"><title>s1</title>\n",
       "<ellipse fill=\"#85ff75\" stroke=\"#85ff75\" cx=\"40\" cy=\"-104.997\" rx=\"36\" ry=\"36\"/>\n",
       "<ellipse fill=\"none\" stroke=\"#85ff75\" cx=\"40\" cy=\"-104.997\" rx=\"40\" ry=\"40\"/>\n",
       "<text text-anchor=\"middle\" x=\"40\" y=\"-98.7969\" font-family=\"Arial\" font-size=\"24.00\">s1</text>\n",
       "</g>\n",
       "<!-- s1&#45;a1 -->\n",
       "<g id=\"node2\" class=\"node\"><title>s1&#45;a1</title>\n",
       "<ellipse fill=\"lightpink\" stroke=\"lightpink\" cx=\"201.577\" cy=\"-170.997\" rx=\"27.6545\" ry=\"27.6545\"/>\n",
       "<text text-anchor=\"middle\" x=\"201.577\" y=\"-165.997\" font-family=\"Arial\" font-size=\"20.00\">a1</text>\n",
       "</g>\n",
       "<!-- s1&#45;&gt;s1&#45;a1 -->\n",
       "<g id=\"edge1\" class=\"edge\"><title>s1&#45;&gt;s1&#45;a1</title>\n",
       "<path fill=\"none\" stroke=\"red\" stroke-width=\"2\" d=\"M77.3131,-119.676C99.973,-128.877 129.727,-141.03 156,-151.997 159.464,-153.443 163.076,-154.962 166.677,-156.485\"/>\n",
       "<polygon fill=\"red\" stroke=\"red\" stroke-width=\"2\" points=\"165.508,-159.791 176.08,-160.478 168.243,-153.348 165.508,-159.791\"/>\n",
       "</g>\n",
       "<!-- s1&#45;a0 -->\n",
       "<g id=\"node4\" class=\"node\"><title>s1&#45;a0</title>\n",
       "<ellipse fill=\"lightpink\" stroke=\"lightpink\" cx=\"201.577\" cy=\"-88.9969\" rx=\"27.6545\" ry=\"27.6545\"/>\n",
       "<text text-anchor=\"middle\" x=\"201.577\" y=\"-83.9969\" font-family=\"Arial\" font-size=\"20.00\">a0</text>\n",
       "</g>\n",
       "<!-- s1&#45;&gt;s1&#45;a0 -->\n",
       "<g id=\"edge4\" class=\"edge\"><title>s1&#45;&gt;s1&#45;a0</title>\n",
       "<path fill=\"none\" stroke=\"red\" stroke-width=\"2\" d=\"M77.6654,-90.8633C84.3386,-88.8424 91.3073,-87.083 98,-85.9969 123.445,-81.8678 130.237,-85.131 156,-85.9969 158.51,-86.0813 161.098,-86.1923 163.704,-86.3218\"/>\n",
       "<polygon fill=\"red\" stroke=\"red\" stroke-width=\"2\" points=\"163.535,-89.8178 173.719,-86.8964 163.936,-82.8293 163.535,-89.8178\"/>\n",
       "</g>\n",
       "<!-- s1&#45;a1&#45;&gt;s1 -->\n",
       "<g id=\"edge2\" class=\"edge\"><title>s1&#45;a1&#45;&gt;s1</title>\n",
       "<path fill=\"none\" stroke=\"blue\" stroke-dasharray=\"5,2\" d=\"M173.834,-168.556C152.505,-165.845 122.288,-160.263 98,-148.997 91.2949,-145.887 84.6466,-141.866 78.3864,-137.521\"/>\n",
       "<polygon fill=\"blue\" stroke=\"blue\" points=\"80.2532,-134.55 70.1215,-131.451 76.1095,-140.192 80.2532,-134.55\"/>\n",
       "<text text-anchor=\"middle\" x=\"127\" y=\"-171.197\" font-family=\"Arial\" font-size=\"16.00\">p = 0.95</text>\n",
       "</g>\n",
       "<!-- s2 -->\n",
       "<g id=\"node3\" class=\"node\"><title>s2</title>\n",
       "<ellipse fill=\"#85ff75\" stroke=\"#85ff75\" cx=\"363.154\" cy=\"-176.997\" rx=\"36\" ry=\"36\"/>\n",
       "<ellipse fill=\"none\" stroke=\"#85ff75\" cx=\"363.154\" cy=\"-176.997\" rx=\"40\" ry=\"40\"/>\n",
       "<text text-anchor=\"middle\" x=\"363.154\" y=\"-170.797\" font-family=\"Arial\" font-size=\"24.00\">s2</text>\n",
       "</g>\n",
       "<!-- s1&#45;a1&#45;&gt;s2 -->\n",
       "<g id=\"edge3\" class=\"edge\"><title>s1&#45;a1&#45;&gt;s2</title>\n",
       "<path fill=\"none\" stroke=\"blue\" stroke-dasharray=\"5,2\" d=\"M229.287,-172.001C252.024,-172.856 285.285,-174.107 312.84,-175.143\"/>\n",
       "<polygon fill=\"blue\" stroke=\"blue\" points=\"312.963,-178.65 323.088,-175.528 313.226,-171.655 312.963,-178.65\"/>\n",
       "<text text-anchor=\"middle\" x=\"276.154\" y=\"-180.197\" font-family=\"Arial\" font-size=\"16.00\">p = 0.05</text>\n",
       "</g>\n",
       "<!-- s2&#45;a1 -->\n",
       "<g id=\"node6\" class=\"node\"><title>s2&#45;a1</title>\n",
       "<ellipse fill=\"lightpink\" stroke=\"lightpink\" cx=\"595.731\" cy=\"-108.997\" rx=\"27.6545\" ry=\"27.6545\"/>\n",
       "<text text-anchor=\"middle\" x=\"595.731\" y=\"-103.997\" font-family=\"Arial\" font-size=\"20.00\">a1</text>\n",
       "</g>\n",
       "<!-- s2&#45;&gt;s2&#45;a1 -->\n",
       "<g id=\"edge8\" class=\"edge\"><title>s2&#45;&gt;s2&#45;a1</title>\n",
       "<path fill=\"none\" stroke=\"red\" stroke-width=\"2\" d=\"M387.533,-145.13C396.787,-134.954 408.297,-124.829 421.154,-118.997 465.064,-99.0808 521.755,-100.125 558.183,-103.727\"/>\n",
       "<polygon fill=\"red\" stroke=\"red\" stroke-width=\"2\" points=\"558.022,-107.23 568.347,-104.85 558.792,-100.273 558.022,-107.23\"/>\n",
       "</g>\n",
       "<!-- s2&#45;a0 -->\n",
       "<g id=\"node7\" class=\"node\"><title>s2&#45;a0</title>\n",
       "<ellipse fill=\"lightpink\" stroke=\"lightpink\" cx=\"595.731\" cy=\"-181.997\" rx=\"27.6545\" ry=\"27.6545\"/>\n",
       "<text text-anchor=\"middle\" x=\"595.731\" y=\"-176.997\" font-family=\"Arial\" font-size=\"20.00\">a0</text>\n",
       "</g>\n",
       "<!-- s2&#45;&gt;s2&#45;a0 -->\n",
       "<g id=\"edge12\" class=\"edge\"><title>s2&#45;&gt;s2&#45;a0</title>\n",
       "<path fill=\"none\" stroke=\"red\" stroke-width=\"2\" d=\"M400.111,-192.406C406.979,-194.727 414.198,-196.756 421.154,-197.997 477.597,-208.064 493.67,-207.827 550.154,-197.997 553.579,-197.401 557.089,-196.565 560.562,-195.585\"/>\n",
       "<polygon fill=\"red\" stroke=\"red\" stroke-width=\"2\" points=\"561.691,-198.899 570.151,-192.522 559.561,-192.231 561.691,-198.899\"/>\n",
       "</g>\n",
       "<!-- s1&#45;a0&#45;&gt;s1 -->\n",
       "<g id=\"edge5\" class=\"edge\"><title>s1&#45;a0&#45;&gt;s1</title>\n",
       "<path fill=\"none\" stroke=\"blue\" stroke-dasharray=\"5,2\" d=\"M173.927,-91.669C151.183,-93.9495 117.877,-97.2889 90.2941,-100.054\"/>\n",
       "<polygon fill=\"blue\" stroke=\"blue\" points=\"89.6379,-96.6026 80.037,-101.083 90.3363,-103.568 89.6379,-96.6026\"/>\n",
       "<text text-anchor=\"middle\" x=\"127\" y=\"-104.197\" font-family=\"Arial\" font-size=\"16.00\">p = 0.1</text>\n",
       "</g>\n",
       "<!-- s1&#45;a0&#45;&gt;s2 -->\n",
       "<g id=\"edge6\" class=\"edge\"><title>s1&#45;a0&#45;&gt;s2</title>\n",
       "<path fill=\"none\" stroke=\"blue\" stroke-dasharray=\"5,2\" d=\"M226.123,-101.982C250.48,-115.413 289.063,-136.69 318.928,-153.159\"/>\n",
       "<polygon fill=\"blue\" stroke=\"blue\" points=\"317.443,-156.338 327.89,-158.102 320.824,-150.208 317.443,-156.338\"/>\n",
       "<text text-anchor=\"middle\" x=\"276.154\" y=\"-149.197\" font-family=\"Arial\" font-size=\"16.00\">p = 0.2</text>\n",
       "</g>\n",
       "<!-- s0 -->\n",
       "<g id=\"node5\" class=\"node\"><title>s0</title>\n",
       "<ellipse fill=\"#85ff75\" stroke=\"#85ff75\" cx=\"833.309\" cy=\"-146.997\" rx=\"36\" ry=\"36\"/>\n",
       "<ellipse fill=\"none\" stroke=\"#85ff75\" cx=\"833.309\" cy=\"-146.997\" rx=\"40\" ry=\"40\"/>\n",
       "<text text-anchor=\"middle\" x=\"833.309\" y=\"-140.797\" font-family=\"Arial\" font-size=\"24.00\">s0</text>\n",
       "</g>\n",
       "<!-- s1&#45;a0&#45;&gt;s0 -->\n",
       "<g id=\"edge7\" class=\"edge\"><title>s1&#45;a0&#45;&gt;s0</title>\n",
       "<path fill=\"none\" stroke=\"blue\" stroke-dasharray=\"5,2\" d=\"M229.289,-84.8656C296.033,-75.2038 475.352,-53.3182 623.309,-71.9969 692.503,-80.7324 711.269,-83.3731 775.309,-110.997 780.679,-113.313 786.124,-116.097 791.411,-119.077\"/>\n",
       "<polygon fill=\"blue\" stroke=\"blue\" points=\"789.729,-122.149 800.117,-124.231 793.294,-116.125 789.729,-122.149\"/>\n",
       "<text text-anchor=\"middle\" x=\"485.654\" y=\"-72.1969\" font-family=\"Arial\" font-size=\"16.00\">p = 0.7 &#160;reward =5</text>\n",
       "</g>\n",
       "<!-- s0&#45;a1 -->\n",
       "<g id=\"node8\" class=\"node\"><title>s0&#45;a1</title>\n",
       "<ellipse fill=\"lightpink\" stroke=\"lightpink\" cx=\"985.886\" cy=\"-237.997\" rx=\"27.6545\" ry=\"27.6545\"/>\n",
       "<text text-anchor=\"middle\" x=\"985.886\" y=\"-232.997\" font-family=\"Arial\" font-size=\"20.00\">a1</text>\n",
       "</g>\n",
       "<!-- s0&#45;&gt;s0&#45;a1 -->\n",
       "<g id=\"edge15\" class=\"edge\"><title>s0&#45;&gt;s0&#45;a1</title>\n",
       "<path fill=\"none\" stroke=\"red\" stroke-width=\"2\" d=\"M867.725,-167.604C875.459,-172.348 883.662,-177.362 891.309,-181.997 911.714,-194.367 934.708,-208.129 952.796,-218.916\"/>\n",
       "<polygon fill=\"red\" stroke=\"red\" stroke-width=\"2\" points=\"951.386,-222.15 961.768,-224.262 954.969,-216.136 951.386,-222.15\"/>\n",
       "</g>\n",
       "<!-- s0&#45;a0 -->\n",
       "<g id=\"node9\" class=\"node\"><title>s0&#45;a0</title>\n",
       "<ellipse fill=\"lightpink\" stroke=\"lightpink\" cx=\"985.886\" cy=\"-164.997\" rx=\"27.6545\" ry=\"27.6545\"/>\n",
       "<text text-anchor=\"middle\" x=\"985.886\" y=\"-159.997\" font-family=\"Arial\" font-size=\"20.00\">a0</text>\n",
       "</g>\n",
       "<!-- s0&#45;&gt;s0&#45;a0 -->\n",
       "<g id=\"edge17\" class=\"edge\"><title>s0&#45;&gt;s0&#45;a0</title>\n",
       "<path fill=\"none\" stroke=\"red\" stroke-width=\"2\" d=\"M873.356,-145.358C893.498,-145.203 918.378,-146.087 940.309,-149.997 943.524,-150.57 946.823,-151.331 950.101,-152.206\"/>\n",
       "<polygon fill=\"red\" stroke=\"red\" stroke-width=\"2\" points=\"949.183,-155.584 959.767,-155.102 951.192,-148.879 949.183,-155.584\"/>\n",
       "</g>\n",
       "<!-- s2&#45;a1&#45;&gt;s1 -->\n",
       "<g id=\"edge9\" class=\"edge\"><title>s2&#45;a1&#45;&gt;s1</title>\n",
       "<path fill=\"none\" stroke=\"blue\" stroke-dasharray=\"5,2\" d=\"M587.061,-82.4518C580.396,-64.6036 568.813,-42.3394 550.154,-30.9969 464.277,21.2065 329.793,-5.24632 247.154,-20.9969 188.336,-32.2076 125.203,-60.6154 84.5221,-81.2988\"/>\n",
       "<polygon fill=\"blue\" stroke=\"blue\" points=\"82.7232,-78.2883 75.4368,-85.9798 85.9294,-84.5109 82.7232,-78.2883\"/>\n",
       "<text text-anchor=\"middle\" x=\"276.154\" y=\"-26.1969\" font-family=\"Arial\" font-size=\"16.00\">p = 0.3</text>\n",
       "</g>\n",
       "<!-- s2&#45;a1&#45;&gt;s2 -->\n",
       "<g id=\"edge10\" class=\"edge\"><title>s2&#45;a1&#45;&gt;s2</title>\n",
       "<path fill=\"none\" stroke=\"blue\" stroke-dasharray=\"5,2\" d=\"M568.454,-114.048C534.103,-120.981 472.293,-134.59 421.154,-151.997 417.184,-153.348 413.107,-154.865 409.048,-156.465\"/>\n",
       "<polygon fill=\"blue\" stroke=\"blue\" points=\"407.59,-153.28 399.665,-160.312 410.246,-159.756 407.59,-153.28\"/>\n",
       "<text text-anchor=\"middle\" x=\"485.654\" y=\"-157.197\" font-family=\"Arial\" font-size=\"16.00\">p = 0.4</text>\n",
       "</g>\n",
       "<!-- s2&#45;a1&#45;&gt;s0 -->\n",
       "<g id=\"edge11\" class=\"edge\"><title>s2&#45;a1&#45;&gt;s0</title>\n",
       "<path fill=\"none\" stroke=\"blue\" stroke-dasharray=\"5,2\" d=\"M623.168,-111.984C658.125,-116.097 721.58,-124.128 775.309,-133.997 778.163,-134.521 781.091,-135.091 784.04,-135.688\"/>\n",
       "<polygon fill=\"blue\" stroke=\"blue\" points=\"783.568,-139.166 794.075,-137.807 785.014,-132.317 783.568,-139.166\"/>\n",
       "<text text-anchor=\"middle\" x=\"708.309\" y=\"-139.197\" font-family=\"Arial\" font-size=\"16.00\">p = 0.3 &#160;reward =&#45;1</text>\n",
       "</g>\n",
       "<!-- s2&#45;a0&#45;&gt;s2 -->\n",
       "<g id=\"edge13\" class=\"edge\"><title>s2&#45;a0&#45;&gt;s2</title>\n",
       "<path fill=\"none\" stroke=\"blue\" stroke-dasharray=\"5,2\" d=\"M568.39,-177.858C562.41,-177.084 556.076,-176.394 550.154,-175.997 503.916,-172.899 451.068,-173.589 413.551,-174.793\"/>\n",
       "<polygon fill=\"blue\" stroke=\"blue\" points=\"413.268,-171.3 403.394,-175.143 413.509,-178.296 413.268,-171.3\"/>\n",
       "<text text-anchor=\"middle\" x=\"485.654\" y=\"-181.197\" font-family=\"Arial\" font-size=\"16.00\">p = 0.6</text>\n",
       "</g>\n",
       "<!-- s2&#45;a0&#45;&gt;s0 -->\n",
       "<g id=\"edge14\" class=\"edge\"><title>s2&#45;a0&#45;&gt;s0</title>\n",
       "<path fill=\"none\" stroke=\"blue\" stroke-dasharray=\"5,2\" d=\"M623.297,-178.05C662.055,-172.292 734.764,-161.489 783.37,-154.268\"/>\n",
       "<polygon fill=\"blue\" stroke=\"blue\" points=\"783.978,-157.716 793.355,-152.784 782.949,-150.792 783.978,-157.716\"/>\n",
       "<text text-anchor=\"middle\" x=\"708.309\" y=\"-181.197\" font-family=\"Arial\" font-size=\"16.00\">p = 0.4</text>\n",
       "</g>\n",
       "<!-- s0&#45;a1&#45;&gt;s2 -->\n",
       "<g id=\"edge16\" class=\"edge\"><title>s0&#45;a1&#45;&gt;s2</title>\n",
       "<path fill=\"none\" stroke=\"blue\" stroke-dasharray=\"5,2\" d=\"M957.966,-237.361C849.21,-234.74 446.871,-224.506 421.154,-215.997 415.029,-213.97 408.959,-211.072 403.194,-207.759\"/>\n",
       "<polygon fill=\"blue\" stroke=\"blue\" points=\"404.754,-204.607 394.419,-202.276 401.045,-210.543 404.754,-204.607\"/>\n",
       "<text text-anchor=\"middle\" x=\"708.309\" y=\"-238.197\" font-family=\"Arial\" font-size=\"16.00\">p = 1</text>\n",
       "</g>\n",
       "<!-- s0&#45;a0&#45;&gt;s2 -->\n",
       "<g id=\"edge18\" class=\"edge\"><title>s0&#45;a0&#45;&gt;s2</title>\n",
       "<path fill=\"none\" stroke=\"blue\" stroke-dasharray=\"5,2\" d=\"M961.764,-178.995C924.245,-200.801 847.06,-241.942 775.309,-256.997 621.246,-289.323 561.373,-323.544 421.154,-251.997 407.661,-245.112 396.47,-233.391 387.682,-221.234\"/>\n",
       "<polygon fill=\"blue\" stroke=\"blue\" points=\"390.482,-219.128 381.982,-212.803 384.683,-223.048 390.482,-219.128\"/>\n",
       "<text text-anchor=\"middle\" x=\"708.309\" y=\"-291.197\" font-family=\"Arial\" font-size=\"16.00\">p = 0.5</text>\n",
       "</g>\n",
       "<!-- s0&#45;a0&#45;&gt;s0 -->\n",
       "<g id=\"edge19\" class=\"edge\"><title>s0&#45;a0&#45;&gt;s0</title>\n",
       "<path fill=\"none\" stroke=\"blue\" stroke-dasharray=\"5,2\" d=\"M958.104,-161.795C937.338,-159.313 907.998,-155.806 883.093,-152.829\"/>\n",
       "<polygon fill=\"blue\" stroke=\"blue\" points=\"883.431,-149.344 873.086,-151.632 882.6,-156.295 883.431,-149.344\"/>\n",
       "<text text-anchor=\"middle\" x=\"915.809\" y=\"-165.197\" font-family=\"Arial\" font-size=\"16.00\">p = 0.5</text>\n",
       "</g>\n",
       "</g>\n",
       "</svg>\n"
      ],
      "text/plain": [
       "<graphviz.dot.Digraph at 0x7f80c84f85c0>"
      ]
     },
     "metadata": {},
     "output_type": "display_data"
    }
   ],
   "source": [
    "if has_graphviz:\n",
    "    from mdp import plot_graph, plot_graph_with_state_values, \\\n",
    "        plot_graph_optimal_strategy_and_state_values\n",
    "\n",
    "    display(plot_graph(mdp))"
   ]
  },
  {
   "cell_type": "markdown",
   "metadata": {},
   "source": [
    "### Value Iteration\n",
    "\n",
    "Now let's build something to solve this MDP. The simplest algorithm so far is __V__alue __I__teration\n",
    "\n",
    "Here's the pseudo-code for VI:\n",
    "\n",
    "---\n",
    "\n",
    "`1.` Initialize $V^{(0)}(s)=0$, for all $s$\n",
    "\n",
    "`2.` For $i=0, 1, 2, \\dots$\n",
    " \n",
    "`3.` $ \\quad V_{(i+1)}(s) = \\max_a \\sum_{s'} P(s' | s,a) \\cdot [ r(s,a,s') + \\gamma V_{i}(s')]$, for all $s$\n",
    "\n",
    "---"
   ]
  },
  {
   "cell_type": "markdown",
   "metadata": {},
   "source": [
    "First, let's write a function to compute the state-action value function $Q^{\\pi}$, defined as follows\n",
    "\n",
    "$$Q_i(s, a) = \\sum_{s'} P(s' | s,a) \\cdot [ r(s,a,s') + \\gamma V_{i}(s')]$$\n"
   ]
  },
  {
   "cell_type": "code",
   "execution_count": 6,
   "metadata": {},
   "outputs": [
    {
     "name": "stdout",
     "output_type": "stream",
     "text": [
      "Overwriting mdp_get_action_value.py\n"
     ]
    }
   ],
   "source": [
    "%%writefile mdp_get_action_value.py\n",
    "\n",
    "def get_action_value(mdp, state_values, state, action, gamma):\n",
    "    \"\"\" Computes Q(s,a) as in formula above \"\"\"\n",
    "\n",
    "    actions = mdp.get_possible_actions(state)\n",
    "\n",
    "    if action not in actions:\n",
    "        print(\"Error: action \", action, \" is not possible from state \", state)\n",
    "        sys.exit()\n",
    "\n",
    "    Qi = 0.0\n",
    "    s_ps = mdp.get_next_states(state, action)\n",
    "    for s_p in s_ps:\n",
    "        P = mdp.get_transition_prob(state, action, s_p)\n",
    "        r = mdp.get_reward(state, action, s_p)\n",
    "        y = gamma\n",
    "        Vi = state_values[s_p]\n",
    "        Qi += P * (r + y * Vi)\n",
    "\n",
    "    return Qi"
   ]
  },
  {
   "cell_type": "code",
   "execution_count": 7,
   "metadata": {},
   "outputs": [],
   "source": [
    "from mdp_get_action_value import get_action_value"
   ]
  },
  {
   "cell_type": "code",
   "execution_count": 8,
   "metadata": {},
   "outputs": [],
   "source": [
    "import numpy as np\n",
    "test_Vs = {s: i for i, s in enumerate(sorted(mdp.get_all_states()))}\n",
    "assert np.isclose(get_action_value(mdp, test_Vs, 's2', 'a1', 0.9), 0.69)\n",
    "assert np.isclose(get_action_value(mdp, test_Vs, 's1', 'a0', 0.9), 3.95)"
   ]
  },
  {
   "cell_type": "markdown",
   "metadata": {},
   "source": [
    "Using $Q(s,a)$ we can now define the \"next\" V(s) for value iteration.\n",
    " $$V_{(i+1)}(s) = \\max_a \\sum_{s'} P(s' | s,a) \\cdot [ r(s,a,s') + \\gamma V_{i}(s')] = \\max_a Q_i(s,a)$$"
   ]
  },
  {
   "cell_type": "code",
   "execution_count": 9,
   "metadata": {},
   "outputs": [],
   "source": [
    "def get_new_state_value(mdp, state_values, state, gamma):\n",
    "    \"\"\" Computes next V(s) as in formula above. Please do not change state_values in process. \"\"\"\n",
    "    if mdp.is_terminal(state):\n",
    "        return 0\n",
    "\n",
    "    return max([get_action_value(mdp, state_values, state, a, gamma) for a in mdp.get_possible_actions(state)])"
   ]
  },
  {
   "cell_type": "code",
   "execution_count": 10,
   "metadata": {},
   "outputs": [],
   "source": [
    "test_Vs_copy = dict(test_Vs)\n",
    "assert np.isclose(get_new_state_value(mdp, test_Vs, 's0', 0.9), 1.8)\n",
    "assert np.isclose(get_new_state_value(mdp, test_Vs, 's2', 0.9), 1.08)\n",
    "assert test_Vs == test_Vs_copy, \"please do not change state_values in get_new_state_value\""
   ]
  },
  {
   "cell_type": "markdown",
   "metadata": {},
   "source": [
    "Finally, let's combine everything we wrote into a working value iteration algo."
   ]
  },
  {
   "cell_type": "code",
   "execution_count": 11,
   "metadata": {},
   "outputs": [
    {
     "data": {
      "image/svg+xml": [
       "<?xml version=\"1.0\" encoding=\"UTF-8\" standalone=\"no\"?>\n",
       "<!DOCTYPE svg PUBLIC \"-//W3C//DTD SVG 1.1//EN\"\n",
       " \"http://www.w3.org/Graphics/SVG/1.1/DTD/svg11.dtd\">\n",
       "<!-- Generated by graphviz version 2.38.0 (20140413.2041)\n",
       " -->\n",
       "<!-- Title: MDP Pages: 1 -->\n",
       "<svg width=\"720pt\" height=\"208pt\"\n",
       " viewBox=\"0.00 0.00 720.00 208.34\" xmlns=\"http://www.w3.org/2000/svg\" xmlns:xlink=\"http://www.w3.org/1999/xlink\">\n",
       "<g id=\"graph0\" class=\"graph\" transform=\"scale(0.66072 0.66072) rotate(0) translate(4 311.33)\">\n",
       "<title>MDP</title>\n",
       "<polygon fill=\"white\" stroke=\"none\" points=\"-4,4 -4,-311.33 1085.72,-311.33 1085.72,4 -4,4\"/>\n",
       "<!-- s1 -->\n",
       "<g id=\"node1\" class=\"node\"><title>s1</title>\n",
       "<ellipse fill=\"#85ff75\" stroke=\"#85ff75\" cx=\"51.3762\" cy=\"-110.33\" rx=\"47.2622\" ry=\"47.2622\"/>\n",
       "<ellipse fill=\"none\" stroke=\"#85ff75\" cx=\"51.3762\" cy=\"-110.33\" rx=\"51.2526\" ry=\"51.2526\"/>\n",
       "<text text-anchor=\"middle\" x=\"51.3762\" y=\"-117.13\" font-family=\"Arial\" font-size=\"24.00\">s1</text>\n",
       "<text text-anchor=\"middle\" x=\"51.3762\" y=\"-91.13\" font-family=\"Arial\" font-size=\"24.00\">V =0</text>\n",
       "</g>\n",
       "<!-- s1&#45;a1 -->\n",
       "<g id=\"node2\" class=\"node\"><title>s1&#45;a1</title>\n",
       "<ellipse fill=\"lightpink\" stroke=\"lightpink\" cx=\"224.329\" cy=\"-176.33\" rx=\"27.6545\" ry=\"27.6545\"/>\n",
       "<text text-anchor=\"middle\" x=\"224.329\" y=\"-171.33\" font-family=\"Arial\" font-size=\"20.00\">a1</text>\n",
       "</g>\n",
       "<!-- s1&#45;&gt;s1&#45;a1 -->\n",
       "<g id=\"edge1\" class=\"edge\"><title>s1&#45;&gt;s1&#45;a1</title>\n",
       "<path fill=\"none\" stroke=\"red\" stroke-width=\"2\" d=\"M99.987,-127.439C123.751,-136.13 152.878,-147.011 178.752,-157.33 182.239,-158.721 185.865,-160.204 189.476,-161.705\"/>\n",
       "<polygon fill=\"red\" stroke=\"red\" stroke-width=\"2\" points=\"188.316,-165.014 198.89,-165.67 191.032,-158.563 188.316,-165.014\"/>\n",
       "</g>\n",
       "<!-- s1&#45;a0 -->\n",
       "<g id=\"node4\" class=\"node\"><title>s1&#45;a0</title>\n",
       "<ellipse fill=\"lightpink\" stroke=\"lightpink\" cx=\"224.329\" cy=\"-94.33\" rx=\"27.6545\" ry=\"27.6545\"/>\n",
       "<text text-anchor=\"middle\" x=\"224.329\" y=\"-89.33\" font-family=\"Arial\" font-size=\"20.00\">a0</text>\n",
       "</g>\n",
       "<!-- s1&#45;&gt;s1&#45;a0 -->\n",
       "<g id=\"edge4\" class=\"edge\"><title>s1&#45;&gt;s1&#45;a0</title>\n",
       "<path fill=\"none\" stroke=\"red\" stroke-width=\"2\" d=\"M100.595,-95.1885C107.307,-93.5939 114.16,-92.2289 120.752,-91.33 146.294,-87.8473 152.989,-90.4641 178.752,-91.33 181.262,-91.4144 183.85,-91.5254 186.456,-91.6549\"/>\n",
       "<polygon fill=\"red\" stroke=\"red\" stroke-width=\"2\" points=\"186.288,-95.1509 196.472,-92.2295 186.689,-88.1624 186.288,-95.1509\"/>\n",
       "</g>\n",
       "<!-- s1&#45;a1&#45;&gt;s1 -->\n",
       "<g id=\"edge2\" class=\"edge\"><title>s1&#45;a1&#45;&gt;s1</title>\n",
       "<path fill=\"none\" stroke=\"blue\" stroke-dasharray=\"5,2\" d=\"M196.836,-173.318C175.649,-170.284 145.5,-164.547 120.752,-154.33 114.528,-151.76 108.249,-148.62 102.152,-145.212\"/>\n",
       "<polygon fill=\"blue\" stroke=\"blue\" points=\"103.773,-142.105 93.3772,-140.062 100.23,-148.142 103.773,-142.105\"/>\n",
       "<text text-anchor=\"middle\" x=\"149.752\" y=\"-175.53\" font-family=\"Arial\" font-size=\"16.00\">p = 0.95</text>\n",
       "</g>\n",
       "<!-- s2 -->\n",
       "<g id=\"node3\" class=\"node\"><title>s2</title>\n",
       "<ellipse fill=\"#85ff75\" stroke=\"#85ff75\" cx=\"397.283\" cy=\"-182.33\" rx=\"47.2622\" ry=\"47.2622\"/>\n",
       "<ellipse fill=\"none\" stroke=\"#85ff75\" cx=\"397.283\" cy=\"-182.33\" rx=\"51.2526\" ry=\"51.2526\"/>\n",
       "<text text-anchor=\"middle\" x=\"397.283\" y=\"-189.13\" font-family=\"Arial\" font-size=\"24.00\">s2</text>\n",
       "<text text-anchor=\"middle\" x=\"397.283\" y=\"-163.13\" font-family=\"Arial\" font-size=\"24.00\">V =0</text>\n",
       "</g>\n",
       "<!-- s1&#45;a1&#45;&gt;s2 -->\n",
       "<g id=\"edge3\" class=\"edge\"><title>s1&#45;a1&#45;&gt;s2</title>\n",
       "<path fill=\"none\" stroke=\"blue\" stroke-dasharray=\"5,2\" d=\"M252.041,-177.267C274.288,-178.048 306.829,-179.19 335.375,-180.192\"/>\n",
       "<polygon fill=\"blue\" stroke=\"blue\" points=\"335.568,-183.701 345.685,-180.554 335.814,-176.705 335.568,-183.701\"/>\n",
       "<text text-anchor=\"middle\" x=\"298.907\" y=\"-185.53\" font-family=\"Arial\" font-size=\"16.00\">p = 0.05</text>\n",
       "</g>\n",
       "<!-- s2&#45;a1 -->\n",
       "<g id=\"node6\" class=\"node\"><title>s2&#45;a1</title>\n",
       "<ellipse fill=\"lightpink\" stroke=\"lightpink\" cx=\"641.236\" cy=\"-114.33\" rx=\"27.6545\" ry=\"27.6545\"/>\n",
       "<text text-anchor=\"middle\" x=\"641.236\" y=\"-109.33\" font-family=\"Arial\" font-size=\"20.00\">a1</text>\n",
       "</g>\n",
       "<!-- s2&#45;&gt;s2&#45;a1 -->\n",
       "<g id=\"edge8\" class=\"edge\"><title>s2&#45;&gt;s2&#45;a1</title>\n",
       "<path fill=\"none\" stroke=\"red\" stroke-width=\"2\" d=\"M433.322,-145.241C443.258,-136.912 454.663,-129.128 466.659,-124.33 511.298,-106.474 567.583,-106.966 603.742,-109.887\"/>\n",
       "<polygon fill=\"red\" stroke=\"red\" stroke-width=\"2\" points=\"603.554,-113.384 613.831,-110.808 604.19,-106.413 603.554,-113.384\"/>\n",
       "</g>\n",
       "<!-- s2&#45;a0 -->\n",
       "<g id=\"node7\" class=\"node\"><title>s2&#45;a0</title>\n",
       "<ellipse fill=\"lightpink\" stroke=\"lightpink\" cx=\"641.236\" cy=\"-187.33\" rx=\"27.6545\" ry=\"27.6545\"/>\n",
       "<text text-anchor=\"middle\" x=\"641.236\" y=\"-182.33\" font-family=\"Arial\" font-size=\"20.00\">a0</text>\n",
       "</g>\n",
       "<!-- s2&#45;&gt;s2&#45;a0 -->\n",
       "<g id=\"edge12\" class=\"edge\"><title>s2&#45;&gt;s2&#45;a0</title>\n",
       "<path fill=\"none\" stroke=\"red\" stroke-width=\"2\" d=\"M446.055,-198.964C452.896,-200.769 459.905,-202.316 466.659,-203.33 523.357,-211.841 539.175,-213.16 595.659,-203.33 599.084,-202.734 602.594,-201.898 606.067,-200.919\"/>\n",
       "<polygon fill=\"red\" stroke=\"red\" stroke-width=\"2\" points=\"607.196,-204.232 615.656,-197.855 605.065,-197.564 607.196,-204.232\"/>\n",
       "</g>\n",
       "<!-- s1&#45;a0&#45;&gt;s1 -->\n",
       "<g id=\"edge5\" class=\"edge\"><title>s1&#45;a0&#45;&gt;s1</title>\n",
       "<path fill=\"none\" stroke=\"blue\" stroke-dasharray=\"5,2\" d=\"M196.571,-96.8344C174.267,-98.9218 141.641,-101.975 113.062,-104.65\"/>\n",
       "<polygon fill=\"blue\" stroke=\"blue\" points=\"112.373,-101.199 102.743,-105.616 113.026,-108.169 112.373,-101.199\"/>\n",
       "<text text-anchor=\"middle\" x=\"149.752\" y=\"-109.53\" font-family=\"Arial\" font-size=\"16.00\">p = 0.1</text>\n",
       "</g>\n",
       "<!-- s1&#45;a0&#45;&gt;s2 -->\n",
       "<g id=\"edge6\" class=\"edge\"><title>s1&#45;a0&#45;&gt;s2</title>\n",
       "<path fill=\"none\" stroke=\"blue\" stroke-dasharray=\"5,2\" d=\"M249.1,-106.566C273.065,-118.902 310.887,-138.372 342.189,-154.484\"/>\n",
       "<polygon fill=\"blue\" stroke=\"blue\" points=\"340.755,-157.683 351.248,-159.148 343.959,-151.459 340.755,-157.683\"/>\n",
       "<text text-anchor=\"middle\" x=\"298.907\" y=\"-151.53\" font-family=\"Arial\" font-size=\"16.00\">p = 0.2</text>\n",
       "</g>\n",
       "<!-- s0 -->\n",
       "<g id=\"node5\" class=\"node\"><title>s0</title>\n",
       "<ellipse fill=\"#85ff75\" stroke=\"#85ff75\" cx=\"890.189\" cy=\"-147.33\" rx=\"47.2622\" ry=\"47.2622\"/>\n",
       "<ellipse fill=\"none\" stroke=\"#85ff75\" cx=\"890.189\" cy=\"-147.33\" rx=\"51.2526\" ry=\"51.2526\"/>\n",
       "<text text-anchor=\"middle\" x=\"890.189\" y=\"-154.13\" font-family=\"Arial\" font-size=\"24.00\">s0</text>\n",
       "<text text-anchor=\"middle\" x=\"890.189\" y=\"-128.13\" font-family=\"Arial\" font-size=\"24.00\">V =0</text>\n",
       "</g>\n",
       "<!-- s1&#45;a0&#45;&gt;s0 -->\n",
       "<g id=\"edge7\" class=\"edge\"><title>s1&#45;a0&#45;&gt;s0</title>\n",
       "<path fill=\"none\" stroke=\"blue\" stroke-dasharray=\"5,2\" d=\"M251.71,-90.271C320.623,-80.3259 511.593,-56.9893 668.813,-77.33 738.091,-86.293 754.85,-94.3378 820.813,-117.33 825.059,-118.81 829.41,-120.44 833.759,-122.151\"/>\n",
       "<polygon fill=\"blue\" stroke=\"blue\" points=\"832.654,-125.48 843.236,-126.003 835.29,-118.996 832.654,-125.48\"/>\n",
       "<text text-anchor=\"middle\" x=\"531.159\" y=\"-76.53\" font-family=\"Arial\" font-size=\"16.00\">p = 0.7 &#160;reward =5</text>\n",
       "</g>\n",
       "<!-- s0&#45;a1 -->\n",
       "<g id=\"node8\" class=\"node\"><title>s0&#45;a1</title>\n",
       "<ellipse fill=\"lightpink\" stroke=\"lightpink\" cx=\"1054.14\" cy=\"-243.33\" rx=\"27.6545\" ry=\"27.6545\"/>\n",
       "<text text-anchor=\"middle\" x=\"1054.14\" y=\"-238.33\" font-family=\"Arial\" font-size=\"20.00\">a1</text>\n",
       "</g>\n",
       "<!-- s0&#45;&gt;s0&#45;a1 -->\n",
       "<g id=\"edge15\" class=\"edge\"><title>s0&#45;&gt;s0&#45;a1</title>\n",
       "<path fill=\"none\" stroke=\"red\" stroke-width=\"2\" d=\"M935.016,-173.309C962.215,-189.431 996.553,-209.786 1021.19,-224.388\"/>\n",
       "<polygon fill=\"red\" stroke=\"red\" stroke-width=\"2\" points=\"1019.4,-227.4 1029.79,-229.488 1022.97,-221.379 1019.4,-227.4\"/>\n",
       "</g>\n",
       "<!-- s0&#45;a0 -->\n",
       "<g id=\"node9\" class=\"node\"><title>s0&#45;a0</title>\n",
       "<ellipse fill=\"lightpink\" stroke=\"lightpink\" cx=\"1054.14\" cy=\"-170.33\" rx=\"27.6545\" ry=\"27.6545\"/>\n",
       "<text text-anchor=\"middle\" x=\"1054.14\" y=\"-165.33\" font-family=\"Arial\" font-size=\"20.00\">a0</text>\n",
       "</g>\n",
       "<!-- s0&#45;&gt;s0&#45;a0 -->\n",
       "<g id=\"edge17\" class=\"edge\"><title>s0&#45;&gt;s0&#45;a0</title>\n",
       "<path fill=\"none\" stroke=\"red\" stroke-width=\"2\" d=\"M941.827,-147.945C962.659,-148.931 986.93,-151.027 1008.57,-155.33 1011.77,-155.967 1015.06,-156.771 1018.33,-157.675\"/>\n",
       "<polygon fill=\"red\" stroke=\"red\" stroke-width=\"2\" points=\"1017.4,-161.051 1027.99,-160.616 1019.44,-154.354 1017.4,-161.051\"/>\n",
       "</g>\n",
       "<!-- s2&#45;a1&#45;&gt;s1 -->\n",
       "<g id=\"edge9\" class=\"edge\"><title>s2&#45;a1&#45;&gt;s1</title>\n",
       "<path fill=\"none\" stroke=\"blue\" stroke-dasharray=\"5,2\" d=\"M632.578,-87.765C625.918,-69.9074 614.338,-47.6401 595.659,-36.33 490.243,27.5006 360.649,-9.41828 269.907,-26.33 212.065,-37.1099 149.788,-62.7234 106.754,-82.8536\"/>\n",
       "<polygon fill=\"blue\" stroke=\"blue\" points=\"105.141,-79.7448 97.6016,-87.1881 108.137,-86.0712 105.141,-79.7448\"/>\n",
       "<text text-anchor=\"middle\" x=\"298.907\" y=\"-31.53\" font-family=\"Arial\" font-size=\"16.00\">p = 0.3</text>\n",
       "</g>\n",
       "<!-- s2&#45;a1&#45;&gt;s2 -->\n",
       "<g id=\"edge10\" class=\"edge\"><title>s2&#45;a1&#45;&gt;s2</title>\n",
       "<path fill=\"none\" stroke=\"blue\" stroke-dasharray=\"5,2\" d=\"M614.119,-119.878C579.942,-127.348 518.319,-141.537 466.659,-157.33 462.891,-158.482 459.027,-159.724 455.146,-161.017\"/>\n",
       "<polygon fill=\"blue\" stroke=\"blue\" points=\"453.838,-157.765 445.509,-164.314 456.104,-164.388 453.838,-157.765\"/>\n",
       "<text text-anchor=\"middle\" x=\"531.159\" y=\"-162.53\" font-family=\"Arial\" font-size=\"16.00\">p = 0.4</text>\n",
       "</g>\n",
       "<!-- s2&#45;a1&#45;&gt;s0 -->\n",
       "<g id=\"edge11\" class=\"edge\"><title>s2&#45;a1&#45;&gt;s0</title>\n",
       "<path fill=\"none\" stroke=\"blue\" stroke-dasharray=\"5,2\" d=\"M668.664,-117.862C706.693,-122.943 777.898,-132.458 829.122,-139.303\"/>\n",
       "<polygon fill=\"blue\" stroke=\"blue\" points=\"828.709,-142.779 839.085,-140.635 829.636,-135.841 828.709,-142.779\"/>\n",
       "<text text-anchor=\"middle\" x=\"753.813\" y=\"-143.53\" font-family=\"Arial\" font-size=\"16.00\">p = 0.3 &#160;reward =&#45;1</text>\n",
       "</g>\n",
       "<!-- s2&#45;a0&#45;&gt;s2 -->\n",
       "<g id=\"edge13\" class=\"edge\"><title>s2&#45;a0&#45;&gt;s2</title>\n",
       "<path fill=\"none\" stroke=\"blue\" stroke-dasharray=\"5,2\" d=\"M613.895,-183.191C607.915,-182.417 601.58,-181.727 595.659,-181.33 549.836,-178.26 497.895,-178.679 458.801,-179.774\"/>\n",
       "<polygon fill=\"blue\" stroke=\"blue\" points=\"458.531,-176.281 448.642,-180.082 458.743,-183.278 458.531,-176.281\"/>\n",
       "<text text-anchor=\"middle\" x=\"531.159\" y=\"-186.53\" font-family=\"Arial\" font-size=\"16.00\">p = 0.6</text>\n",
       "</g>\n",
       "<!-- s2&#45;a0&#45;&gt;s0 -->\n",
       "<g id=\"edge14\" class=\"edge\"><title>s2&#45;a0&#45;&gt;s0</title>\n",
       "<path fill=\"none\" stroke=\"blue\" stroke-dasharray=\"5,2\" d=\"M668.664,-183.049C706.693,-176.89 777.898,-165.356 829.122,-157.059\"/>\n",
       "<polygon fill=\"blue\" stroke=\"blue\" points=\"829.773,-160.5 839.085,-155.446 828.654,-153.59 829.773,-160.5\"/>\n",
       "<text text-anchor=\"middle\" x=\"753.813\" y=\"-185.53\" font-family=\"Arial\" font-size=\"16.00\">p = 0.4</text>\n",
       "</g>\n",
       "<!-- s0&#45;a1&#45;&gt;s2 -->\n",
       "<g id=\"edge16\" class=\"edge\"><title>s0&#45;a1&#45;&gt;s2</title>\n",
       "<path fill=\"none\" stroke=\"blue\" stroke-dasharray=\"5,2\" d=\"M1026.29,-243.075C918.541,-241.949 520.794,-236.775 466.659,-221.33 461.018,-219.721 455.347,-217.555 449.814,-215.064\"/>\n",
       "<polygon fill=\"blue\" stroke=\"blue\" points=\"451.185,-211.839 440.662,-210.606 448.12,-218.132 451.185,-211.839\"/>\n",
       "<text text-anchor=\"middle\" x=\"753.813\" y=\"-245.53\" font-family=\"Arial\" font-size=\"16.00\">p = 1</text>\n",
       "</g>\n",
       "<!-- s0&#45;a0&#45;&gt;s2 -->\n",
       "<g id=\"edge18\" class=\"edge\"><title>s0&#45;a0&#45;&gt;s2</title>\n",
       "<path fill=\"none\" stroke=\"blue\" stroke-dasharray=\"5,2\" d=\"M1029.63,-183.12C988.67,-204.594 900.927,-247.045 820.813,-262.33 666.185,-291.831 609.934,-322.543 466.659,-257.33 454.263,-251.688 443.119,-242.615 433.601,-232.698\"/>\n",
       "<polygon fill=\"blue\" stroke=\"blue\" points=\"435.944,-230.071 426.646,-224.993 430.748,-234.761 435.944,-230.071\"/>\n",
       "<text text-anchor=\"middle\" x=\"753.813\" y=\"-294.53\" font-family=\"Arial\" font-size=\"16.00\">p = 0.5</text>\n",
       "</g>\n",
       "<!-- s0&#45;a0&#45;&gt;s0 -->\n",
       "<g id=\"edge19\" class=\"edge\"><title>s0&#45;a0&#45;&gt;s0</title>\n",
       "<path fill=\"none\" stroke=\"blue\" stroke-dasharray=\"5,2\" d=\"M1026.68,-166.572C1006.27,-163.673 977.22,-159.548 951.253,-155.86\"/>\n",
       "<polygon fill=\"blue\" stroke=\"blue\" points=\"951.495,-152.359 941.102,-154.418 950.511,-159.29 951.495,-152.359\"/>\n",
       "<text text-anchor=\"middle\" x=\"984.066\" y=\"-169.53\" font-family=\"Arial\" font-size=\"16.00\">p = 0.5</text>\n",
       "</g>\n",
       "</g>\n",
       "</svg>\n"
      ],
      "text/plain": [
       "<graphviz.dot.Digraph at 0x7f80ac744a20>"
      ]
     },
     "metadata": {},
     "output_type": "display_data"
    },
    {
     "name": "stdout",
     "output_type": "stream",
     "text": [
      "iter    0   |   diff: 3.50000   |   V(s1) = 0.000   V(s2) = 0.000   V(s0) = 0.000\n",
      "iter    1   |   diff: 0.64500   |   V(s1) = 3.500   V(s2) = 0.000   V(s0) = 0.000\n",
      "iter    2   |   diff: 0.58050   |   V(s1) = 3.815   V(s2) = 0.645   V(s0) = 0.000\n",
      "iter    3   |   diff: 0.43582   |   V(s1) = 3.959   V(s2) = 0.962   V(s0) = 0.581\n",
      "iter    4   |   diff: 0.30634   |   V(s1) = 4.395   V(s2) = 1.272   V(s0) = 0.866\n",
      "iter    5   |   diff: 0.27571   |   V(s1) = 4.670   V(s2) = 1.579   V(s0) = 1.145\n",
      "iter    6   |   diff: 0.24347   |   V(s1) = 4.926   V(s2) = 1.838   V(s0) = 1.421\n",
      "iter    7   |   diff: 0.21419   |   V(s1) = 5.169   V(s2) = 2.075   V(s0) = 1.655\n",
      "iter    8   |   diff: 0.19277   |   V(s1) = 5.381   V(s2) = 2.290   V(s0) = 1.868\n",
      "iter    9   |   diff: 0.17327   |   V(s1) = 5.573   V(s2) = 2.481   V(s0) = 2.061\n",
      "iter   10   |   diff: 0.15569   |   V(s1) = 5.746   V(s2) = 2.654   V(s0) = 2.233\n",
      "iter   11   |   diff: 0.14012   |   V(s1) = 5.902   V(s2) = 2.810   V(s0) = 2.389\n",
      "iter   12   |   diff: 0.12610   |   V(s1) = 6.042   V(s2) = 2.950   V(s0) = 2.529\n",
      "iter   13   |   diff: 0.11348   |   V(s1) = 6.168   V(s2) = 3.076   V(s0) = 2.655\n",
      "iter   14   |   diff: 0.10213   |   V(s1) = 6.282   V(s2) = 3.190   V(s0) = 2.769\n",
      "iter   15   |   diff: 0.09192   |   V(s1) = 6.384   V(s2) = 3.292   V(s0) = 2.871\n",
      "iter   16   |   diff: 0.08272   |   V(s1) = 6.476   V(s2) = 3.384   V(s0) = 2.963\n",
      "iter   17   |   diff: 0.07445   |   V(s1) = 6.558   V(s2) = 3.467   V(s0) = 3.045\n",
      "iter   18   |   diff: 0.06701   |   V(s1) = 6.633   V(s2) = 3.541   V(s0) = 3.120\n",
      "iter   19   |   diff: 0.06031   |   V(s1) = 6.700   V(s2) = 3.608   V(s0) = 3.187\n",
      "iter   20   |   diff: 0.05428   |   V(s1) = 6.760   V(s2) = 3.668   V(s0) = 3.247\n",
      "iter   21   |   diff: 0.04885   |   V(s1) = 6.814   V(s2) = 3.723   V(s0) = 3.301\n",
      "iter   22   |   diff: 0.04396   |   V(s1) = 6.863   V(s2) = 3.771   V(s0) = 3.350\n",
      "iter   23   |   diff: 0.03957   |   V(s1) = 6.907   V(s2) = 3.815   V(s0) = 3.394\n",
      "iter   24   |   diff: 0.03561   |   V(s1) = 6.947   V(s2) = 3.855   V(s0) = 3.434\n",
      "iter   25   |   diff: 0.03205   |   V(s1) = 6.982   V(s2) = 3.891   V(s0) = 3.469\n",
      "iter   26   |   diff: 0.02884   |   V(s1) = 7.014   V(s2) = 3.923   V(s0) = 3.502\n",
      "iter   27   |   diff: 0.02596   |   V(s1) = 7.043   V(s2) = 3.951   V(s0) = 3.530\n",
      "iter   28   |   diff: 0.02336   |   V(s1) = 7.069   V(s2) = 3.977   V(s0) = 3.556\n",
      "iter   29   |   diff: 0.02103   |   V(s1) = 7.093   V(s2) = 4.001   V(s0) = 3.580\n",
      "iter   30   |   diff: 0.01892   |   V(s1) = 7.114   V(s2) = 4.022   V(s0) = 3.601\n",
      "iter   31   |   diff: 0.01703   |   V(s1) = 7.133   V(s2) = 4.041   V(s0) = 3.620\n",
      "iter   32   |   diff: 0.01533   |   V(s1) = 7.150   V(s2) = 4.058   V(s0) = 3.637\n",
      "iter   33   |   diff: 0.01380   |   V(s1) = 7.165   V(s2) = 4.073   V(s0) = 3.652\n",
      "iter   34   |   diff: 0.01242   |   V(s1) = 7.179   V(s2) = 4.087   V(s0) = 3.666\n",
      "iter   35   |   diff: 0.01117   |   V(s1) = 7.191   V(s2) = 4.099   V(s0) = 3.678\n",
      "iter   36   |   diff: 0.01006   |   V(s1) = 7.202   V(s2) = 4.110   V(s0) = 3.689\n",
      "iter   37   |   diff: 0.00905   |   V(s1) = 7.212   V(s2) = 4.121   V(s0) = 3.699\n",
      "iter   38   |   diff: 0.00815   |   V(s1) = 7.221   V(s2) = 4.130   V(s0) = 3.708\n",
      "iter   39   |   diff: 0.00733   |   V(s1) = 7.230   V(s2) = 4.138   V(s0) = 3.717\n",
      "iter   40   |   diff: 0.00660   |   V(s1) = 7.237   V(s2) = 4.145   V(s0) = 3.724\n",
      "iter   41   |   diff: 0.00594   |   V(s1) = 7.244   V(s2) = 4.152   V(s0) = 3.731\n",
      "iter   42   |   diff: 0.00534   |   V(s1) = 7.249   V(s2) = 4.158   V(s0) = 3.736\n",
      "iter   43   |   diff: 0.00481   |   V(s1) = 7.255   V(s2) = 4.163   V(s0) = 3.742\n",
      "iter   44   |   diff: 0.00433   |   V(s1) = 7.260   V(s2) = 4.168   V(s0) = 3.747\n",
      "iter   45   |   diff: 0.00390   |   V(s1) = 7.264   V(s2) = 4.172   V(s0) = 3.751\n",
      "iter   46   |   diff: 0.00351   |   V(s1) = 7.268   V(s2) = 4.176   V(s0) = 3.755\n",
      "iter   47   |   diff: 0.00316   |   V(s1) = 7.271   V(s2) = 4.179   V(s0) = 3.758\n",
      "iter   48   |   diff: 0.00284   |   V(s1) = 7.275   V(s2) = 4.183   V(s0) = 3.762\n",
      "iter   49   |   diff: 0.00256   |   V(s1) = 7.277   V(s2) = 4.185   V(s0) = 3.764\n",
      "iter   50   |   diff: 0.00230   |   V(s1) = 7.280   V(s2) = 4.188   V(s0) = 3.767\n",
      "iter   51   |   diff: 0.00207   |   V(s1) = 7.282   V(s2) = 4.190   V(s0) = 3.769\n",
      "iter   52   |   diff: 0.00186   |   V(s1) = 7.284   V(s2) = 4.192   V(s0) = 3.771\n",
      "iter   53   |   diff: 0.00168   |   V(s1) = 7.286   V(s2) = 4.194   V(s0) = 3.773\n",
      "iter   54   |   diff: 0.00151   |   V(s1) = 7.288   V(s2) = 4.196   V(s0) = 3.775\n",
      "iter   55   |   diff: 0.00136   |   V(s1) = 7.289   V(s2) = 4.197   V(s0) = 3.776\n",
      "iter   56   |   diff: 0.00122   |   V(s1) = 7.291   V(s2) = 4.199   V(s0) = 3.778\n",
      "iter   57   |   diff: 0.00110   |   V(s1) = 7.292   V(s2) = 4.200   V(s0) = 3.779\n",
      "iter   58   |   diff: 0.00099   |   V(s1) = 7.293   V(s2) = 4.201   V(s0) = 3.780\n",
      "Terminated\n"
     ]
    }
   ],
   "source": [
    "# parameters\n",
    "gamma = 0.9            # discount for MDP\n",
    "num_iter = 100         # maximum iterations, excluding initialization\n",
    "# stop VI if new values are this close to old values (or closer)\n",
    "min_difference = 0.001\n",
    "\n",
    "# initialize V(s)\n",
    "state_values = {s: 0 for s in mdp.get_all_states()}\n",
    "\n",
    "if has_graphviz:\n",
    "    display(plot_graph_with_state_values(mdp, state_values))\n",
    "\n",
    "for i in range(num_iter):\n",
    "\n",
    "    # Compute new state values using the functions you defined above.\n",
    "    # It must be a dict {state : float V_new(state)}\n",
    "    new_state_values = state_values.copy()\n",
    "    for k in new_state_values.keys():\n",
    "        new_state_values[k] = get_new_state_value(mdp, state_values, k, gamma)\n",
    "\n",
    "    assert isinstance(new_state_values, dict)\n",
    "\n",
    "    # Compute difference\n",
    "    diff = max(abs(new_state_values[s] - state_values[s])\n",
    "               for s in mdp.get_all_states())\n",
    "    print(\"iter %4i   |   diff: %6.5f   |   \" % (i, diff), end=\"\")\n",
    "    print('   '.join(\"V(%s) = %.3f\" % (s, v) for s, v in state_values.items()))\n",
    "    state_values = new_state_values\n",
    "\n",
    "    if diff < min_difference:\n",
    "        print(\"Terminated\")\n",
    "        break"
   ]
  },
  {
   "cell_type": "code",
   "execution_count": 12,
   "metadata": {},
   "outputs": [
    {
     "data": {
      "image/svg+xml": [
       "<?xml version=\"1.0\" encoding=\"UTF-8\" standalone=\"no\"?>\n",
       "<!DOCTYPE svg PUBLIC \"-//W3C//DTD SVG 1.1//EN\"\n",
       " \"http://www.w3.org/Graphics/SVG/1.1/DTD/svg11.dtd\">\n",
       "<!-- Generated by graphviz version 2.38.0 (20140413.2041)\n",
       " -->\n",
       "<!-- Title: MDP Pages: 1 -->\n",
       "<svg width=\"720pt\" height=\"185pt\"\n",
       " viewBox=\"0.00 0.00 720.00 185.28\" xmlns=\"http://www.w3.org/2000/svg\" xmlns:xlink=\"http://www.w3.org/1999/xlink\">\n",
       "<g id=\"graph0\" class=\"graph\" transform=\"scale(0.583483 0.583483) rotate(0) translate(4 313.541)\">\n",
       "<title>MDP</title>\n",
       "<polygon fill=\"white\" stroke=\"none\" points=\"-4,4 -4,-313.541 1229.97,-313.541 1229.97,4 -4,4\"/>\n",
       "<!-- s1 -->\n",
       "<g id=\"node1\" class=\"node\"><title>s1</title>\n",
       "<ellipse fill=\"#85ff75\" stroke=\"#85ff75\" cx=\"75.4178\" cy=\"-120.541\" rx=\"71.34\" ry=\"71.34\"/>\n",
       "<ellipse fill=\"none\" stroke=\"#85ff75\" cx=\"75.4178\" cy=\"-120.541\" rx=\"75.3357\" ry=\"75.3357\"/>\n",
       "<text text-anchor=\"middle\" x=\"75.4178\" y=\"-127.341\" font-family=\"Arial\" font-size=\"24.00\">s1</text>\n",
       "<text text-anchor=\"middle\" x=\"75.4178\" y=\"-101.341\" font-family=\"Arial\" font-size=\"24.00\">V =7.29</text>\n",
       "</g>\n",
       "<!-- s1&#45;a1 -->\n",
       "<g id=\"node2\" class=\"node\"><title>s1&#45;a1</title>\n",
       "<ellipse fill=\"lightpink\" stroke=\"lightpink\" cx=\"272.413\" cy=\"-186.541\" rx=\"27.6545\" ry=\"27.6545\"/>\n",
       "<text text-anchor=\"middle\" x=\"272.413\" y=\"-181.541\" font-family=\"Arial\" font-size=\"20.00\">a1</text>\n",
       "</g>\n",
       "<!-- s1&#45;&gt;s1&#45;a1 -->\n",
       "<g id=\"edge1\" class=\"edge\"><title>s1&#45;&gt;s1&#45;a1</title>\n",
       "<path fill=\"none\" stroke=\"red\" stroke-width=\"2\" d=\"M148.07,-141.329C173.165,-149.031 201.419,-158.181 226.836,-167.541 230.358,-168.839 234.008,-170.261 237.632,-171.726\"/>\n",
       "<polygon fill=\"red\" stroke=\"red\" stroke-width=\"2\" points=\"236.487,-175.04 247.065,-175.643 239.172,-168.575 236.487,-175.04\"/>\n",
       "</g>\n",
       "<!-- s1&#45;a0 -->\n",
       "<g id=\"node4\" class=\"node\"><title>s1&#45;a0</title>\n",
       "<ellipse fill=\"lightpink\" stroke=\"lightpink\" cx=\"272.413\" cy=\"-104.541\" rx=\"27.6545\" ry=\"27.6545\"/>\n",
       "<text text-anchor=\"middle\" x=\"272.413\" y=\"-99.5415\" font-family=\"Arial\" font-size=\"20.00\">a0</text>\n",
       "</g>\n",
       "<!-- s1&#45;&gt;s1&#45;a0 -->\n",
       "<g id=\"edge4\" class=\"edge\"><title>s1&#45;&gt;s1&#45;a0</title>\n",
       "<path fill=\"none\" stroke=\"red\" stroke-width=\"2\" d=\"M149.102,-104.164C155.748,-103.101 162.399,-102.196 168.836,-101.541 194.481,-98.9325 201.072,-100.676 226.836,-101.541 229.345,-101.626 231.933,-101.737 234.539,-101.866\"/>\n",
       "<polygon fill=\"red\" stroke=\"red\" stroke-width=\"2\" points=\"234.371,-105.362 244.555,-102.441 234.772,-98.3738 234.371,-105.362\"/>\n",
       "</g>\n",
       "<!-- s1&#45;a1&#45;&gt;s1 -->\n",
       "<g id=\"edge2\" class=\"edge\"><title>s1&#45;a1&#45;&gt;s1</title>\n",
       "<path fill=\"none\" stroke=\"blue\" stroke-dasharray=\"5,2\" d=\"M244.816,-182.589C223.835,-179.055 194.011,-173.103 168.836,-164.541 163.393,-162.69 157.85,-160.605 152.318,-158.373\"/>\n",
       "<polygon fill=\"blue\" stroke=\"blue\" points=\"153.617,-155.122 143.041,-154.495 150.918,-161.581 153.617,-155.122\"/>\n",
       "<text text-anchor=\"middle\" x=\"197.836\" y=\"-184.741\" font-family=\"Arial\" font-size=\"16.00\">p = 0.95</text>\n",
       "</g>\n",
       "<!-- s2 -->\n",
       "<g id=\"node3\" class=\"node\"><title>s2</title>\n",
       "<ellipse fill=\"#85ff75\" stroke=\"#85ff75\" cx=\"469.408\" cy=\"-192.541\" rx=\"71.34\" ry=\"71.34\"/>\n",
       "<ellipse fill=\"none\" stroke=\"#85ff75\" cx=\"469.408\" cy=\"-192.541\" rx=\"75.3357\" ry=\"75.3357\"/>\n",
       "<text text-anchor=\"middle\" x=\"469.408\" y=\"-199.341\" font-family=\"Arial\" font-size=\"24.00\">s2</text>\n",
       "<text text-anchor=\"middle\" x=\"469.408\" y=\"-173.341\" font-family=\"Arial\" font-size=\"24.00\">V =4.20</text>\n",
       "</g>\n",
       "<!-- s1&#45;a1&#45;&gt;s2 -->\n",
       "<g id=\"edge3\" class=\"edge\"><title>s1&#45;a1&#45;&gt;s2</title>\n",
       "<path fill=\"none\" stroke=\"blue\" stroke-dasharray=\"5,2\" d=\"M300.117,-187.363C321.764,-188.029 353.514,-189.006 383.619,-189.932\"/>\n",
       "<polygon fill=\"blue\" stroke=\"blue\" points=\"383.645,-193.435 393.748,-190.244 383.861,-186.438 383.645,-193.435\"/>\n",
       "<text text-anchor=\"middle\" x=\"346.99\" y=\"-195.741\" font-family=\"Arial\" font-size=\"16.00\">p = 0.05</text>\n",
       "</g>\n",
       "<!-- s2&#45;a1 -->\n",
       "<g id=\"node6\" class=\"node\"><title>s2&#45;a1</title>\n",
       "<ellipse fill=\"lightpink\" stroke=\"lightpink\" cx=\"737.403\" cy=\"-124.541\" rx=\"27.6545\" ry=\"27.6545\"/>\n",
       "<text text-anchor=\"middle\" x=\"737.403\" y=\"-119.541\" font-family=\"Arial\" font-size=\"20.00\">a1</text>\n",
       "</g>\n",
       "<!-- s2&#45;&gt;s2&#45;a1 -->\n",
       "<g id=\"edge8\" class=\"edge\"><title>s2&#45;&gt;s2&#45;a1</title>\n",
       "<path fill=\"none\" stroke=\"red\" stroke-width=\"2\" d=\"M530.592,-148.016C540.913,-142.202 551.858,-137.055 562.825,-133.541 608.336,-118.964 663.965,-118.978 699.778,-121.109\"/>\n",
       "<polygon fill=\"red\" stroke=\"red\" stroke-width=\"2\" points=\"699.56,-124.602 709.775,-121.79 700.036,-117.619 699.56,-124.602\"/>\n",
       "</g>\n",
       "<!-- s2&#45;a0 -->\n",
       "<g id=\"node7\" class=\"node\"><title>s2&#45;a0</title>\n",
       "<ellipse fill=\"lightpink\" stroke=\"lightpink\" cx=\"737.403\" cy=\"-197.541\" rx=\"27.6545\" ry=\"27.6545\"/>\n",
       "<text text-anchor=\"middle\" x=\"737.403\" y=\"-192.541\" font-family=\"Arial\" font-size=\"20.00\">a0</text>\n",
       "</g>\n",
       "<!-- s2&#45;&gt;s2&#45;a0 -->\n",
       "<g id=\"edge12\" class=\"edge\"><title>s2&#45;&gt;s2&#45;a0</title>\n",
       "<path fill=\"none\" stroke=\"red\" stroke-width=\"2\" d=\"M543.069,-209.78C549.72,-210.899 556.378,-211.852 562.825,-212.541 619.834,-218.639 635.246,-221.806 691.825,-212.541 695.049,-212.014 698.353,-211.285 701.634,-210.43\"/>\n",
       "<polygon fill=\"red\" stroke=\"red\" stroke-width=\"2\" points=\"702.711,-213.762 711.305,-207.566 700.723,-207.05 702.711,-213.762\"/>\n",
       "</g>\n",
       "<!-- s1&#45;a0&#45;&gt;s1 -->\n",
       "<g id=\"edge5\" class=\"edge\"><title>s1&#45;a0&#45;&gt;s1</title>\n",
       "<path fill=\"none\" stroke=\"blue\" stroke-dasharray=\"5,2\" d=\"M244.506,-106.749C222.772,-108.533 190.951,-111.144 160.827,-113.615\"/>\n",
       "<polygon fill=\"blue\" stroke=\"blue\" points=\"160.374,-110.141 150.693,-114.447 160.946,-117.117 160.374,-110.141\"/>\n",
       "<text text-anchor=\"middle\" x=\"197.836\" y=\"-117.741\" font-family=\"Arial\" font-size=\"16.00\">p = 0.1</text>\n",
       "</g>\n",
       "<!-- s1&#45;a0&#45;&gt;s2 -->\n",
       "<g id=\"edge6\" class=\"edge\"><title>s1&#45;a0&#45;&gt;s2</title>\n",
       "<path fill=\"none\" stroke=\"blue\" stroke-dasharray=\"5,2\" d=\"M298.109,-115.687C321.528,-126.255 357.965,-142.7 391.136,-157.669\"/>\n",
       "<polygon fill=\"blue\" stroke=\"blue\" points=\"389.837,-160.923 400.392,-161.846 392.717,-154.543 389.837,-160.923\"/>\n",
       "<text text-anchor=\"middle\" x=\"346.99\" y=\"-156.741\" font-family=\"Arial\" font-size=\"16.00\">p = 0.2</text>\n",
       "</g>\n",
       "<!-- s0 -->\n",
       "<g id=\"node5\" class=\"node\"><title>s0</title>\n",
       "<ellipse fill=\"#85ff75\" stroke=\"#85ff75\" cx=\"1010.4\" cy=\"-149.541\" rx=\"71.34\" ry=\"71.34\"/>\n",
       "<ellipse fill=\"none\" stroke=\"#85ff75\" cx=\"1010.4\" cy=\"-149.541\" rx=\"75.3357\" ry=\"75.3357\"/>\n",
       "<text text-anchor=\"middle\" x=\"1010.4\" y=\"-156.341\" font-family=\"Arial\" font-size=\"24.00\">s0</text>\n",
       "<text text-anchor=\"middle\" x=\"1010.4\" y=\"-130.341\" font-family=\"Arial\" font-size=\"24.00\">V =3.78</text>\n",
       "</g>\n",
       "<!-- s1&#45;a0&#45;&gt;s0 -->\n",
       "<g id=\"edge7\" class=\"edge\"><title>s1&#45;a0&#45;&gt;s0</title>\n",
       "<path fill=\"none\" stroke=\"blue\" stroke-dasharray=\"5,2\" d=\"M299.918,-100.72C373.846,-90.6856 588.482,-65.8136 764.98,-87.5415 820.451,-94.3703 881.384,-109.808 928.534,-123.569\"/>\n",
       "<polygon fill=\"blue\" stroke=\"blue\" points=\"927.797,-127.001 938.379,-126.477 929.78,-120.288 927.797,-127.001\"/>\n",
       "<text text-anchor=\"middle\" x=\"627.325\" y=\"-86.7415\" font-family=\"Arial\" font-size=\"16.00\">p = 0.7 &#160;reward =5</text>\n",
       "</g>\n",
       "<!-- s0&#45;a1 -->\n",
       "<g id=\"node8\" class=\"node\"><title>s0&#45;a1</title>\n",
       "<ellipse fill=\"lightpink\" stroke=\"lightpink\" cx=\"1198.39\" cy=\"-253.541\" rx=\"27.6545\" ry=\"27.6545\"/>\n",
       "<text text-anchor=\"middle\" x=\"1198.39\" y=\"-248.541\" font-family=\"Arial\" font-size=\"20.00\">a1</text>\n",
       "</g>\n",
       "<!-- s0&#45;&gt;s0&#45;a1 -->\n",
       "<g id=\"edge15\" class=\"edge\"><title>s0&#45;&gt;s0&#45;a1</title>\n",
       "<path fill=\"none\" stroke=\"red\" stroke-width=\"2\" d=\"M1076.71,-186.062C1106.6,-202.773 1140.68,-221.831 1164.99,-235.422\"/>\n",
       "<polygon fill=\"red\" stroke=\"red\" stroke-width=\"2\" points=\"1163.36,-238.521 1173.79,-240.346 1166.77,-232.411 1163.36,-238.521\"/>\n",
       "</g>\n",
       "<!-- s0&#45;a0 -->\n",
       "<g id=\"node9\" class=\"node\"><title>s0&#45;a0</title>\n",
       "<ellipse fill=\"lightpink\" stroke=\"lightpink\" cx=\"1198.39\" cy=\"-180.541\" rx=\"27.6545\" ry=\"27.6545\"/>\n",
       "<text text-anchor=\"middle\" x=\"1198.39\" y=\"-175.541\" font-family=\"Arial\" font-size=\"20.00\">a0</text>\n",
       "</g>\n",
       "<!-- s0&#45;&gt;s0&#45;a0 -->\n",
       "<g id=\"edge17\" class=\"edge\"><title>s0&#45;&gt;s0&#45;a0</title>\n",
       "<path fill=\"none\" stroke=\"red\" stroke-width=\"2\" d=\"M1085.83,-152.291C1107.63,-154.193 1131.37,-157.345 1152.82,-162.541 1156.25,-163.372 1159.76,-164.42 1163.23,-165.59\"/>\n",
       "<polygon fill=\"red\" stroke=\"red\" stroke-width=\"2\" points=\"1162.23,-168.951 1172.82,-169.132 1164.66,-162.385 1162.23,-168.951\"/>\n",
       "</g>\n",
       "<!-- s2&#45;a1&#45;&gt;s1 -->\n",
       "<g id=\"edge9\" class=\"edge\"><title>s2&#45;a1&#45;&gt;s1</title>\n",
       "<path fill=\"none\" stroke=\"blue\" stroke-dasharray=\"5,2\" d=\"M728.764,-97.9437C722.114,-80.0708 710.536,-57.7985 691.825,-46.5415 548.069,39.9476 427.355,-18.0695 317.99,-36.5415 261.464,-46.0887 200.512,-67.3706 153.974,-86.1228\"/>\n",
       "<polygon fill=\"blue\" stroke=\"blue\" points=\"152.506,-82.9417 144.567,-89.9579 155.148,-89.4237 152.506,-82.9417\"/>\n",
       "<text text-anchor=\"middle\" x=\"346.99\" y=\"-41.7415\" font-family=\"Arial\" font-size=\"16.00\">p = 0.3</text>\n",
       "</g>\n",
       "<!-- s2&#45;a1&#45;&gt;s2 -->\n",
       "<g id=\"edge10\" class=\"edge\"><title>s2&#45;a1&#45;&gt;s2</title>\n",
       "<path fill=\"none\" stroke=\"blue\" stroke-dasharray=\"5,2\" d=\"M710.449,-130.507C676.449,-138.393 615.018,-152.89 562.825,-166.541 559.27,-167.471 555.642,-168.434 551.98,-169.417\"/>\n",
       "<polygon fill=\"blue\" stroke=\"blue\" points=\"550.97,-166.064 542.232,-172.056 552.8,-172.821 550.97,-166.064\"/>\n",
       "<text text-anchor=\"middle\" x=\"627.325\" y=\"-171.741\" font-family=\"Arial\" font-size=\"16.00\">p = 0.4</text>\n",
       "</g>\n",
       "<!-- s2&#45;a1&#45;&gt;s0 -->\n",
       "<g id=\"edge11\" class=\"edge\"><title>s2&#45;a1&#45;&gt;s0</title>\n",
       "<path fill=\"none\" stroke=\"blue\" stroke-dasharray=\"5,2\" d=\"M764.88,-126.984C801.679,-130.379 869.97,-136.679 925.047,-141.76\"/>\n",
       "<polygon fill=\"blue\" stroke=\"blue\" points=\"924.888,-145.26 935.167,-142.693 925.531,-138.29 924.888,-145.26\"/>\n",
       "<text text-anchor=\"middle\" x=\"849.98\" y=\"-146.741\" font-family=\"Arial\" font-size=\"16.00\">p = 0.3 &#160;reward =&#45;1</text>\n",
       "</g>\n",
       "<!-- s2&#45;a0&#45;&gt;s2 -->\n",
       "<g id=\"edge13\" class=\"edge\"><title>s2&#45;a0&#45;&gt;s2</title>\n",
       "<path fill=\"none\" stroke=\"blue\" stroke-dasharray=\"5,2\" d=\"M710.083,-192.713C704.101,-191.81 697.761,-191.005 691.825,-190.541 646.682,-187.019 596.207,-187.161 554.862,-188.342\"/>\n",
       "<polygon fill=\"blue\" stroke=\"blue\" points=\"554.716,-184.844 544.829,-188.653 554.933,-191.841 554.716,-184.844\"/>\n",
       "<text text-anchor=\"middle\" x=\"627.325\" y=\"-195.741\" font-family=\"Arial\" font-size=\"16.00\">p = 0.6</text>\n",
       "</g>\n",
       "<!-- s2&#45;a0&#45;&gt;s0 -->\n",
       "<g id=\"edge14\" class=\"edge\"><title>s2&#45;a0&#45;&gt;s0</title>\n",
       "<path fill=\"none\" stroke=\"blue\" stroke-dasharray=\"5,2\" d=\"M764.88,-192.852C801.867,-186.3 870.669,-174.114 925.891,-164.333\"/>\n",
       "<polygon fill=\"blue\" stroke=\"blue\" points=\"926.797,-167.727 936.033,-162.536 925.576,-160.834 926.797,-167.727\"/>\n",
       "<text text-anchor=\"middle\" x=\"849.98\" y=\"-194.741\" font-family=\"Arial\" font-size=\"16.00\">p = 0.4</text>\n",
       "</g>\n",
       "<!-- s0&#45;a1&#45;&gt;s2 -->\n",
       "<g id=\"edge16\" class=\"edge\"><title>s0&#45;a1&#45;&gt;s2</title>\n",
       "<path fill=\"none\" stroke=\"blue\" stroke-dasharray=\"5,2\" d=\"M1170.72,-253.071C1057.88,-251.006 622.812,-242.284 562.825,-229.541 558.108,-228.539 553.32,-227.316 548.535,-225.932\"/>\n",
       "<polygon fill=\"blue\" stroke=\"blue\" points=\"549.325,-222.512 538.736,-222.883 547.245,-229.196 549.325,-222.512\"/>\n",
       "<text text-anchor=\"middle\" x=\"849.98\" y=\"-252.741\" font-family=\"Arial\" font-size=\"16.00\">p = 1</text>\n",
       "</g>\n",
       "<!-- s0&#45;a0&#45;&gt;s2 -->\n",
       "<g id=\"edge18\" class=\"edge\"><title>s0&#45;a0&#45;&gt;s2</title>\n",
       "<path fill=\"none\" stroke=\"blue\" stroke-dasharray=\"5,2\" d=\"M1173.65,-193.674C1151.49,-205.483 1117.21,-222.606 1085.82,-233.541 1013.09,-258.878 993.498,-263.819 916.98,-272.541 760.575,-290.371 710.579,-321.848 562.825,-267.541 552.1,-263.599 541.696,-257.861 531.974,-251.285\"/>\n",
       "<polygon fill=\"blue\" stroke=\"blue\" points=\"533.788,-248.28 523.616,-245.316 529.72,-253.976 533.788,-248.28\"/>\n",
       "<text text-anchor=\"middle\" x=\"849.98\" y=\"-296.741\" font-family=\"Arial\" font-size=\"16.00\">p = 0.5</text>\n",
       "</g>\n",
       "<!-- s0&#45;a0&#45;&gt;s0 -->\n",
       "<g id=\"edge19\" class=\"edge\"><title>s0&#45;a0&#45;&gt;s0</title>\n",
       "<path fill=\"none\" stroke=\"blue\" stroke-dasharray=\"5,2\" d=\"M1170.73,-176.097C1150.76,-172.769 1122.29,-168.024 1094.92,-163.463\"/>\n",
       "<polygon fill=\"blue\" stroke=\"blue\" points=\"1095.35,-159.985 1084.91,-161.793 1094.2,-166.89 1095.35,-159.985\"/>\n",
       "<text text-anchor=\"middle\" x=\"1128.32\" y=\"-178.741\" font-family=\"Arial\" font-size=\"16.00\">p = 0.5</text>\n",
       "</g>\n",
       "</g>\n",
       "</svg>\n"
      ],
      "text/plain": [
       "<graphviz.dot.Digraph at 0x7f80ac7989b0>"
      ]
     },
     "metadata": {},
     "output_type": "display_data"
    }
   ],
   "source": [
    "if has_graphviz:\n",
    "    display(plot_graph_with_state_values(mdp, state_values))"
   ]
  },
  {
   "cell_type": "code",
   "execution_count": 13,
   "metadata": {},
   "outputs": [
    {
     "name": "stdout",
     "output_type": "stream",
     "text": [
      "Final state values: {'s1': 7.294006423867229, 's2': 4.202140275227047, 's0': 3.7810348735476396}\n"
     ]
    }
   ],
   "source": [
    "print(\"Final state values:\", state_values)\n",
    "\n",
    "assert abs(state_values['s0'] - 3.781) < 0.01\n",
    "assert abs(state_values['s1'] - 7.294) < 0.01\n",
    "assert abs(state_values['s2'] - 4.202) < 0.01"
   ]
  },
  {
   "cell_type": "markdown",
   "metadata": {},
   "source": [
    "Now let's use those $V^{*}(s)$ to find optimal actions in each state\n",
    "\n",
    " $$\\pi^*(s) = argmax_a \\sum_{s'} P(s' | s,a) \\cdot [ r(s,a,s') + \\gamma V_{i}(s')] = argmax_a Q_i(s,a)$$\n",
    " \n",
    "The only difference vs V(s) is that here we take not max but argmax: find action such with maximum Q(s,a)."
   ]
  },
  {
   "cell_type": "code",
   "execution_count": 16,
   "metadata": {},
   "outputs": [],
   "source": [
    "def get_optimal_action(mdp, state_values, state, gamma=0.9):\n",
    "    \"\"\" Finds optimal action using formula above. \"\"\"\n",
    "    if mdp.is_terminal(state):\n",
    "        return None\n",
    "\n",
    "    Qi = dict()\n",
    "    for action in mdp.get_possible_actions(state):\n",
    "        Qi[action] = get_action_value(mdp, state_values, state, action, gamma)\n",
    "    \n",
    "    return max(Qi, key=lambda key: Qi[key])"
   ]
  },
  {
   "cell_type": "code",
   "execution_count": 17,
   "metadata": {},
   "outputs": [],
   "source": [
    "assert get_optimal_action(mdp, state_values, 's0', gamma) == 'a1'\n",
    "assert get_optimal_action(mdp, state_values, 's1', gamma) == 'a0'\n",
    "assert get_optimal_action(mdp, state_values, 's2', gamma) == 'a1'"
   ]
  },
  {
   "cell_type": "code",
   "execution_count": 18,
   "metadata": {},
   "outputs": [
    {
     "data": {
      "image/svg+xml": [
       "<?xml version=\"1.0\" encoding=\"UTF-8\" standalone=\"no\"?>\n",
       "<!DOCTYPE svg PUBLIC \"-//W3C//DTD SVG 1.1//EN\"\n",
       " \"http://www.w3.org/Graphics/SVG/1.1/DTD/svg11.dtd\">\n",
       "<!-- Generated by graphviz version 2.38.0 (20140413.2041)\n",
       " -->\n",
       "<!-- Title: MDP Pages: 1 -->\n",
       "<svg width=\"720pt\" height=\"179pt\"\n",
       " viewBox=\"0.00 0.00 720.00 178.79\" xmlns=\"http://www.w3.org/2000/svg\" xmlns:xlink=\"http://www.w3.org/1999/xlink\">\n",
       "<g id=\"graph0\" class=\"graph\" transform=\"scale(0.583483 0.583483) rotate(0) translate(4 302.418)\">\n",
       "<title>MDP</title>\n",
       "<polygon fill=\"white\" stroke=\"none\" points=\"-4,4 -4,-302.418 1229.97,-302.418 1229.97,4 -4,4\"/>\n",
       "<!-- s1 -->\n",
       "<g id=\"node1\" class=\"node\"><title>s1</title>\n",
       "<ellipse fill=\"#85ff75\" stroke=\"#85ff75\" cx=\"75.4178\" cy=\"-75.4178\" rx=\"71.34\" ry=\"71.34\"/>\n",
       "<ellipse fill=\"none\" stroke=\"#85ff75\" cx=\"75.4178\" cy=\"-75.4178\" rx=\"75.3357\" ry=\"75.3357\"/>\n",
       "<text text-anchor=\"middle\" x=\"75.4178\" y=\"-82.2178\" font-family=\"Arial\" font-size=\"24.00\">s1</text>\n",
       "<text text-anchor=\"middle\" x=\"75.4178\" y=\"-56.2178\" font-family=\"Arial\" font-size=\"24.00\">V =7.29</text>\n",
       "</g>\n",
       "<!-- s1&#45;a1 -->\n",
       "<g id=\"node2\" class=\"node\"><title>s1&#45;a1</title>\n",
       "<ellipse fill=\"lightpink\" stroke=\"lightpink\" cx=\"272.413\" cy=\"-150.418\" rx=\"27.6545\" ry=\"27.6545\"/>\n",
       "<text text-anchor=\"middle\" x=\"272.413\" y=\"-145.418\" font-family=\"Arial\" font-size=\"20.00\">a1</text>\n",
       "</g>\n",
       "<!-- s1&#45;&gt;s1&#45;a1 -->\n",
       "<g id=\"edge1\" class=\"edge\"><title>s1&#45;&gt;s1&#45;a1</title>\n",
       "<path fill=\"none\" stroke=\"red\" stroke-width=\"2\" d=\"M145.99,-102.177C176.888,-114.061 211.873,-127.517 237.028,-137.193\"/>\n",
       "<polygon fill=\"red\" stroke=\"red\" stroke-width=\"2\" points=\"235.904,-140.51 246.494,-140.833 238.417,-133.977 235.904,-140.51\"/>\n",
       "</g>\n",
       "<!-- s1&#45;a0 -->\n",
       "<g id=\"node4\" class=\"node\"><title>s1&#45;a0</title>\n",
       "<ellipse fill=\"lightpink\" stroke=\"lightpink\" cx=\"272.413\" cy=\"-65.4178\" rx=\"27.6545\" ry=\"27.6545\"/>\n",
       "<text text-anchor=\"middle\" x=\"272.413\" y=\"-60.4178\" font-family=\"Arial\" font-size=\"20.00\">a0</text>\n",
       "</g>\n",
       "<!-- s1&#45;&gt;s1&#45;a0 -->\n",
       "<g id=\"edge4\" class=\"edge\"><title>s1&#45;&gt;s1&#45;a0</title>\n",
       "<path fill=\"none\" stroke=\"red\" stroke-width=\"2\" d=\"M150.137,-65.0689C179.073,-63.1346 210.984,-61.8849 234.808,-61.8873\"/>\n",
       "<polygon fill=\"red\" stroke=\"red\" stroke-width=\"2\" points=\"234.787,-65.3871 244.817,-61.9724 234.847,-58.3874 234.787,-65.3871\"/>\n",
       "</g>\n",
       "<!-- s1&#45;&gt;s1&#45;a0 -->\n",
       "<g id=\"edge20\" class=\"edge\"><title>s1&#45;&gt;s1&#45;a0</title>\n",
       "<path fill=\"none\" stroke=\"green\" stroke-width=\"6\" d=\"M150.972,-78.1755C179.688,-77.1329 211.22,-75.1246 234.816,-72.702\"/>\n",
       "<polygon fill=\"green\" stroke=\"green\" stroke-width=\"6\" points=\"235.702,-77.8858 245.059,-71.5617 234.54,-67.4503 235.702,-77.8858\"/>\n",
       "</g>\n",
       "<!-- s1&#45;a1&#45;&gt;s1 -->\n",
       "<g id=\"edge2\" class=\"edge\"><title>s1&#45;a1&#45;&gt;s1</title>\n",
       "<path fill=\"none\" stroke=\"blue\" stroke-dasharray=\"5,2\" d=\"M244.465,-150.373C223.291,-149.548 193.378,-146.613 168.836,-137.418 160.62,-134.34 152.411,-130.402 144.464,-126.008\"/>\n",
       "<polygon fill=\"blue\" stroke=\"blue\" points=\"146.024,-122.867 135.618,-120.874 142.51,-128.921 146.024,-122.867\"/>\n",
       "<text text-anchor=\"middle\" x=\"197.836\" y=\"-154.618\" font-family=\"Arial\" font-size=\"16.00\">p = 0.95</text>\n",
       "</g>\n",
       "<!-- s2 -->\n",
       "<g id=\"node3\" class=\"node\"><title>s2</title>\n",
       "<ellipse fill=\"#85ff75\" stroke=\"#85ff75\" cx=\"469.408\" cy=\"-150.418\" rx=\"71.34\" ry=\"71.34\"/>\n",
       "<ellipse fill=\"none\" stroke=\"#85ff75\" cx=\"469.408\" cy=\"-150.418\" rx=\"75.3357\" ry=\"75.3357\"/>\n",
       "<text text-anchor=\"middle\" x=\"469.408\" y=\"-157.218\" font-family=\"Arial\" font-size=\"24.00\">s2</text>\n",
       "<text text-anchor=\"middle\" x=\"469.408\" y=\"-131.218\" font-family=\"Arial\" font-size=\"24.00\">V =4.20</text>\n",
       "</g>\n",
       "<!-- s1&#45;a1&#45;&gt;s2 -->\n",
       "<g id=\"edge3\" class=\"edge\"><title>s1&#45;a1&#45;&gt;s2</title>\n",
       "<path fill=\"none\" stroke=\"blue\" stroke-dasharray=\"5,2\" d=\"M300.117,-150.418C321.764,-150.418 353.514,-150.418 383.619,-150.418\"/>\n",
       "<polygon fill=\"blue\" stroke=\"blue\" points=\"383.748,-153.918 393.748,-150.418 383.748,-146.918 383.748,-153.918\"/>\n",
       "<text text-anchor=\"middle\" x=\"346.99\" y=\"-155.618\" font-family=\"Arial\" font-size=\"16.00\">p = 0.05</text>\n",
       "</g>\n",
       "<!-- s2&#45;a1 -->\n",
       "<g id=\"node6\" class=\"node\"><title>s2&#45;a1</title>\n",
       "<ellipse fill=\"lightpink\" stroke=\"lightpink\" cx=\"737.403\" cy=\"-141.418\" rx=\"27.6545\" ry=\"27.6545\"/>\n",
       "<text text-anchor=\"middle\" x=\"737.403\" y=\"-136.418\" font-family=\"Arial\" font-size=\"20.00\">a1</text>\n",
       "</g>\n",
       "<!-- s2&#45;&gt;s2&#45;a1 -->\n",
       "<g id=\"edge8\" class=\"edge\"><title>s2&#45;&gt;s2&#45;a1</title>\n",
       "<path fill=\"none\" stroke=\"red\" stroke-width=\"2\" d=\"M544.502,-141.787C595.161,-138.922 660.109,-137.16 699.964,-137.833\"/>\n",
       "<polygon fill=\"red\" stroke=\"red\" stroke-width=\"2\" points=\"699.939,-141.334 710.019,-138.073 700.106,-134.336 699.939,-141.334\"/>\n",
       "</g>\n",
       "<!-- s2&#45;&gt;s2&#45;a1 -->\n",
       "<g id=\"edge21\" class=\"edge\"><title>s2&#45;&gt;s2&#45;a1</title>\n",
       "<path fill=\"none\" stroke=\"green\" stroke-width=\"6\" d=\"M544.856,-154.03C595.505,-153.459 660.309,-150.826 700.063,-147.46\"/>\n",
       "<polygon fill=\"green\" stroke=\"green\" stroke-width=\"6\" points=\"700.613,-152.681 710.092,-146.541 699.655,-142.225 700.613,-152.681\"/>\n",
       "</g>\n",
       "<!-- s2&#45;a0 -->\n",
       "<g id=\"node7\" class=\"node\"><title>s2&#45;a0</title>\n",
       "<ellipse fill=\"lightpink\" stroke=\"lightpink\" cx=\"737.403\" cy=\"-214.418\" rx=\"27.6545\" ry=\"27.6545\"/>\n",
       "<text text-anchor=\"middle\" x=\"737.403\" y=\"-209.418\" font-family=\"Arial\" font-size=\"20.00\">a0</text>\n",
       "</g>\n",
       "<!-- s2&#45;&gt;s2&#45;a0 -->\n",
       "<g id=\"edge12\" class=\"edge\"><title>s2&#45;&gt;s2&#45;a0</title>\n",
       "<path fill=\"none\" stroke=\"red\" stroke-width=\"2\" d=\"M529.573,-196.342C540.148,-202.495 551.44,-207.891 562.825,-211.418 608.551,-225.579 664.349,-223.324 700.123,-219.571\"/>\n",
       "<polygon fill=\"red\" stroke=\"red\" stroke-width=\"2\" points=\"700.564,-223.043 710.102,-218.43 699.769,-216.089 700.564,-223.043\"/>\n",
       "</g>\n",
       "<!-- s1&#45;a0&#45;&gt;s1 -->\n",
       "<g id=\"edge5\" class=\"edge\"><title>s1&#45;a0&#45;&gt;s1</title>\n",
       "<path fill=\"none\" stroke=\"blue\" stroke-dasharray=\"5,2\" d=\"M245.142,-71.5947C239.158,-72.7575 232.804,-73.8012 226.836,-74.4178 205.644,-76.6069 182.683,-77.5023 161.233,-77.7063\"/>\n",
       "<polygon fill=\"blue\" stroke=\"blue\" points=\"161.152,-74.2065 151.169,-77.7535 161.185,-81.2064 161.152,-74.2065\"/>\n",
       "<text text-anchor=\"middle\" x=\"197.836\" y=\"-83.6178\" font-family=\"Arial\" font-size=\"16.00\">p = 0.1</text>\n",
       "</g>\n",
       "<!-- s1&#45;a0&#45;&gt;s2 -->\n",
       "<g id=\"edge6\" class=\"edge\"><title>s1&#45;a0&#45;&gt;s2</title>\n",
       "<path fill=\"none\" stroke=\"blue\" stroke-dasharray=\"5,2\" d=\"M298.109,-76.1831C321.434,-86.3506 357.674,-102.148 390.738,-116.561\"/>\n",
       "<polygon fill=\"blue\" stroke=\"blue\" points=\"389.401,-119.796 399.966,-120.583 392.198,-113.379 389.401,-119.796\"/>\n",
       "<text text-anchor=\"middle\" x=\"346.99\" y=\"-116.618\" font-family=\"Arial\" font-size=\"16.00\">p = 0.2</text>\n",
       "</g>\n",
       "<!-- s0 -->\n",
       "<g id=\"node5\" class=\"node\"><title>s0</title>\n",
       "<ellipse fill=\"#85ff75\" stroke=\"#85ff75\" cx=\"1010.4\" cy=\"-178.418\" rx=\"71.34\" ry=\"71.34\"/>\n",
       "<ellipse fill=\"none\" stroke=\"#85ff75\" cx=\"1010.4\" cy=\"-178.418\" rx=\"75.3357\" ry=\"75.3357\"/>\n",
       "<text text-anchor=\"middle\" x=\"1010.4\" y=\"-185.218\" font-family=\"Arial\" font-size=\"24.00\">s0</text>\n",
       "<text text-anchor=\"middle\" x=\"1010.4\" y=\"-159.218\" font-family=\"Arial\" font-size=\"24.00\">V =3.78</text>\n",
       "</g>\n",
       "<!-- s1&#45;a0&#45;&gt;s0 -->\n",
       "<g id=\"edge7\" class=\"edge\"><title>s1&#45;a0&#45;&gt;s0</title>\n",
       "<path fill=\"none\" stroke=\"blue\" stroke-dasharray=\"5,2\" d=\"M299.071,-58.0757C389.382,-33.7111 698.863,37.1736 916.98,-67.4178 935.175,-76.1429 951.063,-90.3508 964.297,-105.733\"/>\n",
       "<polygon fill=\"blue\" stroke=\"blue\" points=\"961.922,-108.355 970.974,-113.86 967.331,-103.911 961.922,-108.355\"/>\n",
       "<text text-anchor=\"middle\" x=\"627.325\" y=\"-19.6178\" font-family=\"Arial\" font-size=\"16.00\">p = 0.7 &#160;reward =5</text>\n",
       "</g>\n",
       "<!-- s0&#45;a1 -->\n",
       "<g id=\"node8\" class=\"node\"><title>s0&#45;a1</title>\n",
       "<ellipse fill=\"lightpink\" stroke=\"lightpink\" cx=\"1198.39\" cy=\"-197.418\" rx=\"27.6545\" ry=\"27.6545\"/>\n",
       "<text text-anchor=\"middle\" x=\"1198.39\" y=\"-192.418\" font-family=\"Arial\" font-size=\"20.00\">a1</text>\n",
       "</g>\n",
       "<!-- s0&#45;&gt;s0&#45;a1 -->\n",
       "<g id=\"edge15\" class=\"edge\"><title>s0&#45;&gt;s0&#45;a1</title>\n",
       "<path fill=\"none\" stroke=\"red\" stroke-width=\"2\" d=\"M1085.98,-179.405C1112.03,-181.726 1140.1,-184.984 1161.54,-188.298\"/>\n",
       "<polygon fill=\"red\" stroke=\"red\" stroke-width=\"2\" points=\"1161.07,-191.767 1171.5,-189.926 1162.2,-184.858 1161.07,-191.767\"/>\n",
       "</g>\n",
       "<!-- s0&#45;&gt;s0&#45;a1 -->\n",
       "<g id=\"edge22\" class=\"edge\"><title>s0&#45;&gt;s0&#45;a1</title>\n",
       "<path fill=\"none\" stroke=\"green\" stroke-width=\"6\" d=\"M1084.64,-192.513C1110.67,-195.539 1138.87,-198.051 1160.56,-199.163\"/>\n",
       "<polygon fill=\"green\" stroke=\"green\" stroke-width=\"6\" points=\"1160.43,-204.412 1170.64,-199.593 1160.88,-193.922 1160.43,-204.412\"/>\n",
       "</g>\n",
       "<!-- s0&#45;a0 -->\n",
       "<g id=\"node9\" class=\"node\"><title>s0&#45;a0</title>\n",
       "<ellipse fill=\"lightpink\" stroke=\"lightpink\" cx=\"1198.39\" cy=\"-124.418\" rx=\"27.6545\" ry=\"27.6545\"/>\n",
       "<text text-anchor=\"middle\" x=\"1198.39\" y=\"-119.418\" font-family=\"Arial\" font-size=\"20.00\">a0</text>\n",
       "</g>\n",
       "<!-- s0&#45;&gt;s0&#45;a0 -->\n",
       "<g id=\"edge17\" class=\"edge\"><title>s0&#45;&gt;s0&#45;a0</title>\n",
       "<path fill=\"none\" stroke=\"red\" stroke-width=\"2\" d=\"M1085,-165.207C1107.11,-160.322 1131.22,-154.068 1152.82,-146.418 1156.64,-145.062 1160.57,-143.462 1164.42,-141.753\"/>\n",
       "<polygon fill=\"red\" stroke=\"red\" stroke-width=\"2\" points=\"1166.22,-144.777 1173.78,-137.359 1163.24,-138.441 1166.22,-144.777\"/>\n",
       "</g>\n",
       "<!-- s2&#45;a1&#45;&gt;s1 -->\n",
       "<g id=\"edge9\" class=\"edge\"><title>s2&#45;a1&#45;&gt;s1</title>\n",
       "<path fill=\"none\" stroke=\"blue\" stroke-dasharray=\"5,2\" d=\"M715.031,-124.51C707.938,-119.468 699.807,-114.266 691.825,-110.418 630.395,-80.801 611.343,-81.4605 544.825,-66.4178 515.841,-59.8632 343.98,-14.8431 244.836,-28.4178 215.645,-32.4145 184.38,-40.1364 156.81,-48.1843\"/>\n",
       "<polygon fill=\"blue\" stroke=\"blue\" points=\"155.807,-44.8309 147.222,-51.0389 157.805,-51.5399 155.807,-44.8309\"/>\n",
       "<text text-anchor=\"middle\" x=\"346.99\" y=\"-38.6178\" font-family=\"Arial\" font-size=\"16.00\">p = 0.3</text>\n",
       "</g>\n",
       "<!-- s2&#45;a1&#45;&gt;s2 -->\n",
       "<g id=\"edge10\" class=\"edge\"><title>s2&#45;a1&#45;&gt;s2</title>\n",
       "<path fill=\"none\" stroke=\"blue\" stroke-dasharray=\"5,2\" d=\"M712.51,-128.484C705.987,-125.575 698.793,-122.909 691.825,-121.418 635.762,-109.417 619.497,-112.735 562.825,-121.418 558.871,-122.024 554.854,-122.767 550.819,-123.618\"/>\n",
       "<polygon fill=\"blue\" stroke=\"blue\" points=\"549.737,-120.276 540.781,-125.935 551.312,-127.096 549.737,-120.276\"/>\n",
       "<text text-anchor=\"middle\" x=\"627.325\" y=\"-126.618\" font-family=\"Arial\" font-size=\"16.00\">p = 0.4</text>\n",
       "</g>\n",
       "<!-- s2&#45;a1&#45;&gt;s0 -->\n",
       "<g id=\"edge11\" class=\"edge\"><title>s2&#45;a1&#45;&gt;s0</title>\n",
       "<path fill=\"none\" stroke=\"blue\" stroke-dasharray=\"5,2\" d=\"M764.88,-145.033C801.742,-150.066 870.203,-159.413 925.329,-166.94\"/>\n",
       "<polygon fill=\"blue\" stroke=\"blue\" points=\"925.075,-170.437 935.456,-168.322 926.022,-163.502 925.075,-170.437\"/>\n",
       "<text text-anchor=\"middle\" x=\"849.98\" y=\"-170.618\" font-family=\"Arial\" font-size=\"16.00\">p = 0.3 &#160;reward =&#45;1</text>\n",
       "</g>\n",
       "<!-- s2&#45;a0&#45;&gt;s2 -->\n",
       "<g id=\"edge13\" class=\"edge\"><title>s2&#45;a0&#45;&gt;s2</title>\n",
       "<path fill=\"none\" stroke=\"blue\" stroke-dasharray=\"5,2\" d=\"M713.99,-199.839C707.112,-195.925 699.364,-192.053 691.825,-189.418 636.99,-170.252 620.007,-178.638 562.825,-168.418 559.786,-167.874 556.691,-167.313 553.567,-166.74\"/>\n",
       "<polygon fill=\"blue\" stroke=\"blue\" points=\"553.988,-163.258 543.517,-164.874 552.71,-170.141 553.988,-163.258\"/>\n",
       "<text text-anchor=\"middle\" x=\"627.325\" y=\"-194.618\" font-family=\"Arial\" font-size=\"16.00\">p = 0.6</text>\n",
       "</g>\n",
       "<!-- s2&#45;a0&#45;&gt;s0 -->\n",
       "<g id=\"edge14\" class=\"edge\"><title>s2&#45;a0&#45;&gt;s0</title>\n",
       "<path fill=\"none\" stroke=\"blue\" stroke-dasharray=\"5,2\" d=\"M764.88,-210.9C801.742,-206.004 870.203,-196.909 925.329,-189.586\"/>\n",
       "<polygon fill=\"blue\" stroke=\"blue\" points=\"926.004,-193.027 935.456,-188.24 925.082,-186.088 926.004,-193.027\"/>\n",
       "<text text-anchor=\"middle\" x=\"849.98\" y=\"-213.618\" font-family=\"Arial\" font-size=\"16.00\">p = 0.4</text>\n",
       "</g>\n",
       "<!-- s0&#45;a1&#45;&gt;s2 -->\n",
       "<g id=\"edge16\" class=\"edge\"><title>s0&#45;a1&#45;&gt;s2</title>\n",
       "<path fill=\"none\" stroke=\"blue\" stroke-dasharray=\"5,2\" d=\"M1176.3,-214.34C1154.94,-230.301 1120.23,-253.125 1085.82,-262.418 924.418,-306.001 876.244,-267.335 709.825,-251.418 644.129,-245.134 622.877,-257.792 562.825,-230.418 551.55,-225.278 540.611,-218.321 530.44,-210.643\"/>\n",
       "<polygon fill=\"blue\" stroke=\"blue\" points=\"532.478,-207.793 522.457,-204.352 528.145,-213.291 532.478,-207.793\"/>\n",
       "<text text-anchor=\"middle\" x=\"849.98\" y=\"-285.618\" font-family=\"Arial\" font-size=\"16.00\">p = 1</text>\n",
       "</g>\n",
       "<!-- s0&#45;a0&#45;&gt;s2 -->\n",
       "<g id=\"edge18\" class=\"edge\"><title>s0&#45;a0&#45;&gt;s2</title>\n",
       "<path fill=\"none\" stroke=\"blue\" stroke-dasharray=\"5,2\" d=\"M1172.08,-115.564C1149.71,-108.238 1116.04,-98.4105 1085.82,-94.4178 855.269,-63.9648 789.475,-58.3715 562.825,-110.418 557.738,-111.586 552.579,-113.026 547.436,-114.658\"/>\n",
       "<polygon fill=\"blue\" stroke=\"blue\" points=\"545.924,-111.476 537.587,-118.014 548.181,-118.102 545.924,-111.476\"/>\n",
       "<text text-anchor=\"middle\" x=\"849.98\" y=\"-80.6178\" font-family=\"Arial\" font-size=\"16.00\">p = 0.5</text>\n",
       "</g>\n",
       "<!-- s0&#45;a0&#45;&gt;s0 -->\n",
       "<g id=\"edge19\" class=\"edge\"><title>s0&#45;a0&#45;&gt;s0</title>\n",
       "<path fill=\"none\" stroke=\"blue\" stroke-dasharray=\"5,2\" d=\"M1170.69,-120.757C1151.7,-119.031 1125.77,-118.474 1103.82,-124.418 1096.72,-126.338 1089.62,-128.952 1082.67,-132.001\"/>\n",
       "<polygon fill=\"blue\" stroke=\"blue\" points=\"1080.88,-128.979 1073.32,-136.403 1083.86,-135.312 1080.88,-128.979\"/>\n",
       "<text text-anchor=\"middle\" x=\"1128.32\" y=\"-129.618\" font-family=\"Arial\" font-size=\"16.00\">p = 0.5</text>\n",
       "</g>\n",
       "</g>\n",
       "</svg>\n"
      ],
      "text/plain": [
       "<graphviz.dot.Digraph at 0x7f80ac7986a0>"
      ]
     },
     "metadata": {},
     "output_type": "display_data"
    }
   ],
   "source": [
    "if has_graphviz:\n",
    "    try:\n",
    "        display(plot_graph_optimal_strategy_and_state_values(mdp, state_values))\n",
    "    except ImportError:\n",
    "        raise ImportError(\"Run the cell that starts with \\\"%%writefile mdp_get_action_value.py\\\"\")"
   ]
  },
  {
   "cell_type": "code",
   "execution_count": 25,
   "metadata": {},
   "outputs": [
    {
     "name": "stdout",
     "output_type": "stream",
     "text": [
      "average reward:  0.471\n"
     ]
    }
   ],
   "source": [
    "# Measure agent's average reward\n",
    "\n",
    "s = mdp.reset()\n",
    "rewards = []\n",
    "for _ in range(10000):\n",
    "    s, r, done, _ = mdp.step(get_optimal_action(mdp, state_values, s, gamma))\n",
    "    rewards.append(r)\n",
    "\n",
    "print(\"average reward: \", np.mean(rewards))\n",
    "\n",
    "assert(0.40 < np.mean(rewards) < 0.55)"
   ]
  },
  {
   "cell_type": "markdown",
   "metadata": {},
   "source": [
    "### Frozen lake"
   ]
  },
  {
   "cell_type": "code",
   "execution_count": 26,
   "metadata": {},
   "outputs": [
    {
     "name": "stdout",
     "output_type": "stream",
     "text": [
      "*FFF\n",
      "FHFH\n",
      "FFFH\n",
      "HFFG\n",
      "\n"
     ]
    }
   ],
   "source": [
    "from mdp import FrozenLakeEnv\n",
    "mdp = FrozenLakeEnv(slip_chance=0)\n",
    "\n",
    "mdp.render()"
   ]
  },
  {
   "cell_type": "code",
   "execution_count": 27,
   "metadata": {},
   "outputs": [],
   "source": [
    "def value_iteration(mdp, state_values=None, gamma=0.9, num_iter=1000, min_difference=1e-5):\n",
    "    \"\"\" performs num_iter value iteration steps starting from state_values. Same as before but in a function \"\"\"\n",
    "    state_values = state_values or {s: 0 for s in mdp.get_all_states()}\n",
    "    for i in range(num_iter):\n",
    "\n",
    "        # Compute new state values using the functions you defined above. It must be a dict {state : new_V(state)}\n",
    "        new_state_values = state_values.copy()\n",
    "        for k in new_state_values.keys():\n",
    "            new_state_values[k] = get_new_state_value(mdp, state_values, k, gamma)\n",
    "\n",
    "        assert isinstance(new_state_values, dict)\n",
    "\n",
    "        # Compute difference\n",
    "        diff = max(abs(new_state_values[s] - state_values[s])\n",
    "                   for s in mdp.get_all_states())\n",
    "\n",
    "        print(\"iter %4i   |   diff: %6.5f   |   V(start): %.3f \" %\n",
    "              (i, diff, new_state_values[mdp._initial_state]))\n",
    "\n",
    "        state_values = new_state_values\n",
    "        if diff < min_difference:\n",
    "            break\n",
    "\n",
    "    return state_values"
   ]
  },
  {
   "cell_type": "code",
   "execution_count": 28,
   "metadata": {},
   "outputs": [
    {
     "name": "stdout",
     "output_type": "stream",
     "text": [
      "iter    0   |   diff: 1.00000   |   V(start): 0.000 \n",
      "iter    1   |   diff: 0.90000   |   V(start): 0.000 \n",
      "iter    2   |   diff: 0.81000   |   V(start): 0.000 \n",
      "iter    3   |   diff: 0.72900   |   V(start): 0.000 \n",
      "iter    4   |   diff: 0.65610   |   V(start): 0.000 \n",
      "iter    5   |   diff: 0.59049   |   V(start): 0.590 \n",
      "iter    6   |   diff: 0.00000   |   V(start): 0.590 \n"
     ]
    }
   ],
   "source": [
    "state_values = value_iteration(mdp)"
   ]
  },
  {
   "cell_type": "code",
   "execution_count": 29,
   "metadata": {},
   "outputs": [
    {
     "name": "stdout",
     "output_type": "stream",
     "text": [
      "*FFF\n",
      "FHFH\n",
      "FFFH\n",
      "HFFG\n",
      "\n",
      "down\n",
      "\n",
      "SFFF\n",
      "*HFH\n",
      "FFFH\n",
      "HFFG\n",
      "\n",
      "down\n",
      "\n",
      "SFFF\n",
      "FHFH\n",
      "*FFH\n",
      "HFFG\n",
      "\n",
      "right\n",
      "\n",
      "SFFF\n",
      "FHFH\n",
      "F*FH\n",
      "HFFG\n",
      "\n",
      "down\n",
      "\n",
      "SFFF\n",
      "FHFH\n",
      "FFFH\n",
      "H*FG\n",
      "\n",
      "right\n",
      "\n",
      "SFFF\n",
      "FHFH\n",
      "FFFH\n",
      "HF*G\n",
      "\n",
      "right\n",
      "\n",
      "SFFF\n",
      "FHFH\n",
      "FFFH\n",
      "HFF*\n",
      "\n"
     ]
    }
   ],
   "source": [
    "s = mdp.reset()\n",
    "mdp.render()\n",
    "for t in range(100):\n",
    "    a = get_optimal_action(mdp, state_values, s, gamma)\n",
    "    print(a, end='\\n\\n')\n",
    "    s, r, done, _ = mdp.step(a)\n",
    "    mdp.render()\n",
    "    if done:\n",
    "        break"
   ]
  },
  {
   "cell_type": "markdown",
   "metadata": {},
   "source": [
    "### Let's visualize!\n",
    "\n",
    "It's usually interesting to see what your algorithm actually learned under the hood. To do so, we'll plot state value functions and optimal actions at each VI step."
   ]
  },
  {
   "cell_type": "code",
   "execution_count": 30,
   "metadata": {},
   "outputs": [],
   "source": [
    "import matplotlib.pyplot as plt\n",
    "%matplotlib inline\n",
    "\n",
    "\n",
    "def draw_policy(mdp, state_values):\n",
    "    plt.figure(figsize=(3, 3))\n",
    "    h, w = mdp.desc.shape\n",
    "    states = sorted(mdp.get_all_states())\n",
    "    V = np.array([state_values[s] for s in states])\n",
    "    Pi = {s: get_optimal_action(mdp, state_values, s, gamma) for s in states}\n",
    "    plt.imshow(V.reshape(w, h), cmap='gray', interpolation='none', clim=(0, 1))\n",
    "    ax = plt.gca()\n",
    "    ax.set_xticks(np.arange(h)-.5)\n",
    "    ax.set_yticks(np.arange(w)-.5)\n",
    "    ax.set_xticklabels([])\n",
    "    ax.set_yticklabels([])\n",
    "    Y, X = np.mgrid[0:4, 0:4]\n",
    "    a2uv = {'left': (-1, 0), 'down': (0, -1), 'right': (1, 0), 'up': (0, 1)}\n",
    "    for y in range(h):\n",
    "        for x in range(w):\n",
    "            plt.text(x, y, str(mdp.desc[y, x].item()),\n",
    "                     color='g', size=12,  verticalalignment='center',\n",
    "                     horizontalalignment='center', fontweight='bold')\n",
    "            a = Pi[y, x]\n",
    "            if a is None:\n",
    "                continue\n",
    "            u, v = a2uv[a]\n",
    "            plt.arrow(x, y, u*.3, -v*.3, color='m',\n",
    "                      head_width=0.1, head_length=0.1)\n",
    "    plt.grid(color='b', lw=2, ls='-')\n",
    "    plt.show()"
   ]
  },
  {
   "cell_type": "code",
   "execution_count": 31,
   "metadata": {},
   "outputs": [
    {
     "name": "stdout",
     "output_type": "stream",
     "text": [
      "after iteration 0\n",
      "iter    0   |   diff: 1.00000   |   V(start): 0.000 \n"
     ]
    },
    {
     "data": {
      "image/png": "[encoded data removed]",
      "text/plain": [
       "<Figure size 216x216 with 1 Axes>"
      ]
     },
     "metadata": {
      "needs_background": "light"
     },
     "output_type": "display_data"
    },
    {
     "name": "stdout",
     "output_type": "stream",
     "text": [
      "after iteration 1\n",
      "iter    0   |   diff: 0.90000   |   V(start): 0.000 \n"
     ]
    },
    {
     "data": {
      "image/png": "[encoded data removed]",
      "text/plain": [
       "<Figure size 216x216 with 1 Axes>"
      ]
     },
     "metadata": {
      "needs_background": "light"
     },
     "output_type": "display_data"
    },
    {
     "name": "stdout",
     "output_type": "stream",
     "text": [
      "after iteration 2\n",
      "iter    0   |   diff: 0.81000   |   V(start): 0.000 \n"
     ]
    },
    {
     "data": {
      "image/png": "[encoded data removed]",
      "text/plain": [
       "<Figure size 216x216 with 1 Axes>"
      ]
     },
     "metadata": {
      "needs_background": "light"
     },
     "output_type": "display_data"
    },
    {
     "name": "stdout",
     "output_type": "stream",
     "text": [
      "after iteration 3\n",
      "iter    0   |   diff: 0.72900   |   V(start): 0.000 \n"
     ]
    },
    {
     "data": {
      "image/png": "[encoded data removed]",
      "text/plain": [
       "<Figure size 216x216 with 1 Axes>"
      ]
     },
     "metadata": {
      "needs_background": "light"
     },
     "output_type": "display_data"
    },
    {
     "name": "stdout",
     "output_type": "stream",
     "text": [
      "after iteration 4\n",
      "iter    0   |   diff: 0.65610   |   V(start): 0.000 \n"
     ]
    },
    {
     "data": {
      "image/png": "[encoded data removed]",
      "text/plain": [
       "<Figure size 216x216 with 1 Axes>"
      ]
     },
     "metadata": {
      "needs_background": "light"
     },
     "output_type": "display_data"
    },
    {
     "name": "stdout",
     "output_type": "stream",
     "text": [
      "after iteration 5\n",
      "iter    0   |   diff: 0.59049   |   V(start): 0.590 \n"
     ]
    },
    {
     "data": {
      "image/png": "[encoded data removed]",
      "text/plain": [
       "<Figure size 216x216 with 1 Axes>"
      ]
     },
     "metadata": {
      "needs_background": "light"
     },
     "output_type": "display_data"
    },
    {
     "name": "stdout",
     "output_type": "stream",
     "text": [
      "after iteration 6\n",
      "iter    0   |   diff: 0.00000   |   V(start): 0.590 \n"
     ]
    },
    {
     "data": {
      "image/png": "[encoded data removed]",
      "text/plain": [
       "<Figure size 216x216 with 1 Axes>"
      ]
     },
     "metadata": {
      "needs_background": "light"
     },
     "output_type": "display_data"
    },
    {
     "name": "stdout",
     "output_type": "stream",
     "text": [
      "after iteration 7\n",
      "iter    0   |   diff: 0.00000   |   V(start): 0.590 \n"
     ]
    },
    {
     "data": {
      "image/png": "[encoded data removed]",
      "text/plain": [
       "<Figure size 216x216 with 1 Axes>"
      ]
     },
     "metadata": {
      "needs_background": "light"
     },
     "output_type": "display_data"
    },
    {
     "name": "stdout",
     "output_type": "stream",
     "text": [
      "after iteration 8\n",
      "iter    0   |   diff: 0.00000   |   V(start): 0.590 \n"
     ]
    },
    {
     "data": {
      "image/png": "[encoded data removed]",
      "text/plain": [
       "<Figure size 216x216 with 1 Axes>"
      ]
     },
     "metadata": {
      "needs_background": "light"
     },
     "output_type": "display_data"
    },
    {
     "name": "stdout",
     "output_type": "stream",
     "text": [
      "after iteration 9\n",
      "iter    0   |   diff: 0.00000   |   V(start): 0.590 \n"
     ]
    },
    {
     "data": {
      "image/png": "[encoded data removed]",
      "text/plain": [
       "<Figure size 216x216 with 1 Axes>"
      ]
     },
     "metadata": {
      "needs_background": "light"
     },
     "output_type": "display_data"
    }
   ],
   "source": [
    "state_values = {s: 0 for s in mdp.get_all_states()}\n",
    "\n",
    "for i in range(10):\n",
    "    print(\"after iteration %i\" % i)\n",
    "    state_values = value_iteration(mdp, state_values, num_iter=1)\n",
    "    draw_policy(mdp, state_values)\n",
    "# please ignore iter 0 at each step"
   ]
  },
  {
   "cell_type": "code",
   "execution_count": 32,
   "metadata": {},
   "outputs": [
    {
     "name": "stdout",
     "output_type": "stream",
     "text": [
      "after iteration 29\n",
      "iter    0   |   diff: 0.00000   |   V(start): 0.198 \n"
     ]
    },
    {
     "data": {
      "image/png": "[encoded data removed]",
      "text/plain": [
       "<Figure size 216x216 with 1 Axes>"
      ]
     },
     "metadata": {
      "needs_background": "light"
     },
     "output_type": "display_data"
    }
   ],
   "source": [
    "from IPython.display import clear_output\n",
    "from time import sleep\n",
    "mdp = FrozenLakeEnv(map_name='8x8', slip_chance=0.1)\n",
    "state_values = {s: 0 for s in mdp.get_all_states()}\n",
    "\n",
    "for i in range(30):\n",
    "    clear_output(True)\n",
    "    print(\"after iteration %i\" % i)\n",
    "    state_values = value_iteration(mdp, state_values, num_iter=1)\n",
    "    draw_policy(mdp, state_values)\n",
    "    sleep(0.5)\n",
    "# please ignore iter 0 at each step"
   ]
  },
  {
   "cell_type": "markdown",
   "metadata": {},
   "source": [
    "Massive tests"
   ]
  },
  {
   "cell_type": "code",
   "execution_count": 33,
   "metadata": {},
   "outputs": [
    {
     "name": "stdout",
     "output_type": "stream",
     "text": [
      "iter    0   |   diff: 1.00000   |   V(start): 0.000 \n",
      "iter    1   |   diff: 0.90000   |   V(start): 0.000 \n",
      "iter    2   |   diff: 0.81000   |   V(start): 0.000 \n",
      "iter    3   |   diff: 0.72900   |   V(start): 0.000 \n",
      "iter    4   |   diff: 0.65610   |   V(start): 0.000 \n",
      "iter    5   |   diff: 0.59049   |   V(start): 0.590 \n",
      "iter    6   |   diff: 0.00000   |   V(start): 0.590 \n",
      "average reward:  1.0\n",
      "Well done!\n"
     ]
    }
   ],
   "source": [
    "mdp = FrozenLakeEnv(slip_chance=0)\n",
    "state_values = value_iteration(mdp)\n",
    "\n",
    "total_rewards = []\n",
    "for game_i in range(1000):\n",
    "    s = mdp.reset()\n",
    "    rewards = []\n",
    "    for t in range(100):\n",
    "        s, r, done, _ = mdp.step(\n",
    "            get_optimal_action(mdp, state_values, s, gamma))\n",
    "        rewards.append(r)\n",
    "        if done:\n",
    "            break\n",
    "    total_rewards.append(np.sum(rewards))\n",
    "\n",
    "print(\"average reward: \", np.mean(total_rewards))\n",
    "assert(1.0 <= np.mean(total_rewards) <= 1.0)\n",
    "print(\"Well done!\")"
   ]
  },
  {
   "cell_type": "code",
   "execution_count": 34,
   "metadata": {},
   "outputs": [
    {
     "name": "stdout",
     "output_type": "stream",
     "text": [
      "iter    0   |   diff: 0.90000   |   V(start): 0.000 \n",
      "iter    1   |   diff: 0.72900   |   V(start): 0.000 \n",
      "iter    2   |   diff: 0.62330   |   V(start): 0.000 \n",
      "iter    3   |   diff: 0.50487   |   V(start): 0.000 \n",
      "iter    4   |   diff: 0.40894   |   V(start): 0.000 \n",
      "iter    5   |   diff: 0.34868   |   V(start): 0.349 \n",
      "iter    6   |   diff: 0.06529   |   V(start): 0.410 \n",
      "iter    7   |   diff: 0.05832   |   V(start): 0.468 \n",
      "iter    8   |   diff: 0.01139   |   V(start): 0.480 \n",
      "iter    9   |   diff: 0.00764   |   V(start): 0.487 \n",
      "iter   10   |   diff: 0.00164   |   V(start): 0.489 \n",
      "iter   11   |   diff: 0.00094   |   V(start): 0.490 \n",
      "iter   12   |   diff: 0.00022   |   V(start): 0.490 \n",
      "iter   13   |   diff: 0.00011   |   V(start): 0.490 \n",
      "iter   14   |   diff: 0.00003   |   V(start): 0.490 \n",
      "iter   15   |   diff: 0.00001   |   V(start): 0.490 \n",
      "iter   16   |   diff: 0.00000   |   V(start): 0.490 \n",
      "average reward:  0.896\n",
      "Well done!\n"
     ]
    }
   ],
   "source": [
    "# Measure agent's average reward\n",
    "mdp = FrozenLakeEnv(slip_chance=0.1)\n",
    "state_values = value_iteration(mdp)\n",
    "\n",
    "total_rewards = []\n",
    "for game_i in range(1000):\n",
    "    s = mdp.reset()\n",
    "    rewards = []\n",
    "    for t in range(100):\n",
    "        s, r, done, _ = mdp.step(\n",
    "            get_optimal_action(mdp, state_values, s, gamma))\n",
    "        rewards.append(r)\n",
    "        if done:\n",
    "            break\n",
    "    total_rewards.append(np.sum(rewards))\n",
    "\n",
    "print(\"average reward: \", np.mean(total_rewards))\n",
    "assert(0.8 <= np.mean(total_rewards) <= 0.95)\n",
    "print(\"Well done!\")"
   ]
  },
  {
   "cell_type": "code",
   "execution_count": 35,
   "metadata": {},
   "outputs": [
    {
     "name": "stdout",
     "output_type": "stream",
     "text": [
      "iter    0   |   diff: 0.75000   |   V(start): 0.000 \n",
      "iter    1   |   diff: 0.50625   |   V(start): 0.000 \n",
      "iter    2   |   diff: 0.39867   |   V(start): 0.000 \n",
      "iter    3   |   diff: 0.26910   |   V(start): 0.000 \n",
      "iter    4   |   diff: 0.18164   |   V(start): 0.000 \n",
      "iter    5   |   diff: 0.14013   |   V(start): 0.140 \n",
      "iter    6   |   diff: 0.07028   |   V(start): 0.199 \n",
      "iter    7   |   diff: 0.06030   |   V(start): 0.260 \n",
      "iter    8   |   diff: 0.02594   |   V(start): 0.285 \n",
      "iter    9   |   diff: 0.01918   |   V(start): 0.305 \n",
      "iter   10   |   diff: 0.00858   |   V(start): 0.313 \n",
      "iter   11   |   diff: 0.00560   |   V(start): 0.319 \n",
      "iter   12   |   diff: 0.00260   |   V(start): 0.321 \n",
      "iter   13   |   diff: 0.00159   |   V(start): 0.323 \n",
      "iter   14   |   diff: 0.00076   |   V(start): 0.324 \n",
      "iter   15   |   diff: 0.00045   |   V(start): 0.324 \n",
      "iter   16   |   diff: 0.00022   |   V(start): 0.324 \n",
      "iter   17   |   diff: 0.00012   |   V(start): 0.325 \n",
      "iter   18   |   diff: 0.00006   |   V(start): 0.325 \n",
      "iter   19   |   diff: 0.00003   |   V(start): 0.325 \n",
      "iter   20   |   diff: 0.00002   |   V(start): 0.325 \n",
      "iter   21   |   diff: 0.00001   |   V(start): 0.325 \n",
      "average reward:  0.674\n",
      "Well done!\n"
     ]
    }
   ],
   "source": [
    "# Measure agent's average reward\n",
    "mdp = FrozenLakeEnv(slip_chance=0.25)\n",
    "state_values = value_iteration(mdp)\n",
    "\n",
    "total_rewards = []\n",
    "for game_i in range(1000):\n",
    "    s = mdp.reset()\n",
    "    rewards = []\n",
    "    for t in range(100):\n",
    "        s, r, done, _ = mdp.step(\n",
    "            get_optimal_action(mdp, state_values, s, gamma))\n",
    "        rewards.append(r)\n",
    "        if done:\n",
    "            break\n",
    "    total_rewards.append(np.sum(rewards))\n",
    "\n",
    "print(\"average reward: \", np.mean(total_rewards))\n",
    "assert(0.6 <= np.mean(total_rewards) <= 0.7)\n",
    "print(\"Well done!\")"
   ]
  },
  {
   "cell_type": "code",
   "execution_count": 36,
   "metadata": {},
   "outputs": [
    {
     "name": "stdout",
     "output_type": "stream",
     "text": [
      "iter    0   |   diff: 0.80000   |   V(start): 0.000 \n",
      "iter    1   |   diff: 0.57600   |   V(start): 0.000 \n",
      "iter    2   |   diff: 0.41472   |   V(start): 0.000 \n",
      "iter    3   |   diff: 0.29860   |   V(start): 0.000 \n",
      "iter    4   |   diff: 0.24186   |   V(start): 0.000 \n",
      "iter    5   |   diff: 0.19349   |   V(start): 0.000 \n",
      "iter    6   |   diff: 0.15325   |   V(start): 0.000 \n",
      "iter    7   |   diff: 0.12288   |   V(start): 0.000 \n",
      "iter    8   |   diff: 0.09930   |   V(start): 0.000 \n",
      "iter    9   |   diff: 0.08037   |   V(start): 0.000 \n",
      "iter   10   |   diff: 0.06426   |   V(start): 0.000 \n",
      "iter   11   |   diff: 0.05129   |   V(start): 0.000 \n",
      "iter   12   |   diff: 0.04330   |   V(start): 0.000 \n",
      "iter   13   |   diff: 0.03802   |   V(start): 0.033 \n",
      "iter   14   |   diff: 0.03332   |   V(start): 0.058 \n",
      "iter   15   |   diff: 0.02910   |   V(start): 0.087 \n",
      "iter   16   |   diff: 0.01855   |   V(start): 0.106 \n",
      "iter   17   |   diff: 0.01403   |   V(start): 0.120 \n",
      "iter   18   |   diff: 0.00810   |   V(start): 0.128 \n",
      "iter   19   |   diff: 0.00555   |   V(start): 0.133 \n",
      "iter   20   |   diff: 0.00321   |   V(start): 0.137 \n",
      "iter   21   |   diff: 0.00247   |   V(start): 0.138 \n",
      "iter   22   |   diff: 0.00147   |   V(start): 0.139 \n",
      "iter   23   |   diff: 0.00104   |   V(start): 0.140 \n",
      "iter   24   |   diff: 0.00058   |   V(start): 0.140 \n",
      "iter   25   |   diff: 0.00036   |   V(start): 0.141 \n",
      "iter   26   |   diff: 0.00024   |   V(start): 0.141 \n",
      "iter   27   |   diff: 0.00018   |   V(start): 0.141 \n",
      "iter   28   |   diff: 0.00012   |   V(start): 0.141 \n",
      "iter   29   |   diff: 0.00007   |   V(start): 0.141 \n",
      "iter   30   |   diff: 0.00004   |   V(start): 0.141 \n",
      "iter   31   |   diff: 0.00003   |   V(start): 0.141 \n",
      "iter   32   |   diff: 0.00001   |   V(start): 0.141 \n",
      "iter   33   |   diff: 0.00001   |   V(start): 0.141 \n",
      "average reward:  0.74\n",
      "Well done!\n"
     ]
    }
   ],
   "source": [
    "# Measure agent's average reward\n",
    "mdp = FrozenLakeEnv(slip_chance=0.2, map_name='8x8')\n",
    "state_values = value_iteration(mdp)\n",
    "\n",
    "total_rewards = []\n",
    "for game_i in range(1000):\n",
    "    s = mdp.reset()\n",
    "    rewards = []\n",
    "    for t in range(100):\n",
    "        s, r, done, _ = mdp.step(\n",
    "            get_optimal_action(mdp, state_values, s, gamma))\n",
    "        rewards.append(r)\n",
    "        if done:\n",
    "            break\n",
    "    total_rewards.append(np.sum(rewards))\n",
    "\n",
    "print(\"average reward: \", np.mean(total_rewards))\n",
    "assert(0.6 <= np.mean(total_rewards) <= 0.8)\n",
    "print(\"Well done!\")"
   ]
  },
  {
   "cell_type": "markdown",
   "metadata": {},
   "source": [
    "### Submit to coursera\n",
    "\n",
    "If your submission doesn't finish in 30 seconds, set `verbose=True` and try again."
   ]
  },
  {
   "cell_type": "code",
   "execution_count": 37,
   "metadata": {},
   "outputs": [
    {
     "name": "stdout",
     "output_type": "stream",
     "text": [
      "Submitted to Coursera platform. See results on assignment page!\n"
     ]
    }
   ],
   "source": [
    "from submit import submit_assigment\n",
    "submit_assigment(\n",
    "    get_action_value, \n",
    "    get_new_state_value, \n",
    "    get_optimal_action, \n",
    "    value_iteration, \n",
    "    \"lavoie.michel@gmail.com\", \n",
    "    \"0NPJcTHcOLamz3yb\",\n",
    "    verbose=False,\n",
    ")"
   ]
  }
 ],
 "metadata": {
  "kernelspec": {
   "display_name": "Python 3",
   "language": "python",
   "name": "python3"
  },
  "language_info": {
   "codemirror_mode": {
    "name": "ipython",
    "version": 3
   },
   "file_extension": ".py",
   "mimetype": "text/x-python",
   "name": "python",
   "nbconvert_exporter": "python",
   "pygments_lexer": "ipython3",
   "version": "3.5.2"
  }
 },
 "nbformat": 4,
 "nbformat_minor": 2
}
